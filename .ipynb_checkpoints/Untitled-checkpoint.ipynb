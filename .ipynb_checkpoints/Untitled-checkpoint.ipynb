{
 "cells": [
  {
   "cell_type": "code",
   "execution_count": null,
   "metadata": {},
   "outputs": [],
   "source": []
  },
  {
   "cell_type": "code",
   "execution_count": 109,
   "metadata": {},
   "outputs": [],
   "source": [
    "#importing required modules\n",
    "import matplotlib.pyplot as plt\n",
    "import re\n",
    "import nltk\n",
    "import pandas as pd\n",
    "import numpy as np\n",
    "import seaborn as sns\n",
    "from nltk.corpus import stopwords\n",
    "from nltk.stem.porter import PorterStemmer\n",
    "from sklearn.feature_extraction.text import CountVectorizer\n",
    "from sklearn.model_selection import train_test_split \n",
    "from sklearn.metrics import confusion_matrix ,accuracy_score, f1_score, precision_score, recall_score\n",
    "\n",
    "from sklearn.decomposition import PCA\n",
    "from sklearn.feature_selection import SelectKBest, chi2, f_regression, f_classif, mutual_info_classif, \\\n",
    "    mutual_info_regression, RFE\n",
    "from sklearn.model_selection import GridSearchCV\n",
    "from sklearn.neighbors import KNeighborsClassifier\n",
    "from sklearn.pipeline import Pipeline\n",
    "import sqlite3"
   ]
  },
  {
   "cell_type": "markdown",
   "metadata": {},
   "source": [
    "Reading the JBLcleaned sqlite file:"
   ]
  },
  {
   "cell_type": "code",
   "execution_count": 146,
   "metadata": {},
   "outputs": [],
   "source": [
    "#reading the sqlite file and making a df from the data\n",
    "con = sqlite3.connect(\"Amazon.sqlite\")\n",
    "df = pd.read_sql_query(\"SELECT * from JLBcleaned\", con)"
   ]
  },
  {
   "cell_type": "code",
   "execution_count": 147,
   "metadata": {},
   "outputs": [
    {
     "data": {
      "text/html": [
       "<div>\n",
       "<style scoped>\n",
       "    .dataframe tbody tr th:only-of-type {\n",
       "        vertical-align: middle;\n",
       "    }\n",
       "\n",
       "    .dataframe tbody tr th {\n",
       "        vertical-align: top;\n",
       "    }\n",
       "\n",
       "    .dataframe thead th {\n",
       "        text-align: right;\n",
       "    }\n",
       "</style>\n",
       "<table border=\"1\" class=\"dataframe\">\n",
       "  <thead>\n",
       "    <tr style=\"text-align: right;\">\n",
       "      <th></th>\n",
       "      <th>rating</th>\n",
       "      <th>date</th>\n",
       "      <th>location</th>\n",
       "      <th>color</th>\n",
       "      <th>review_title</th>\n",
       "      <th>review</th>\n",
       "      <th>comment</th>\n",
       "      <th>feedback</th>\n",
       "      <th>awesome</th>\n",
       "      <th>good</th>\n",
       "      <th>length_of_review</th>\n",
       "    </tr>\n",
       "  </thead>\n",
       "  <tbody>\n",
       "    <tr>\n",
       "      <th>0</th>\n",
       "      <td>1.0</td>\n",
       "      <td>January-29-2019</td>\n",
       "      <td>United States</td>\n",
       "      <td>Gray</td>\n",
       "      <td>Buy a Charge 3</td>\n",
       "      <td>The JBL Charge 4 has one giant flaw that frank...</td>\n",
       "      <td>11</td>\n",
       "      <td>1</td>\n",
       "      <td>0</td>\n",
       "      <td>0</td>\n",
       "      <td>345</td>\n",
       "    </tr>\n",
       "    <tr>\n",
       "      <th>1</th>\n",
       "      <td>3.0</td>\n",
       "      <td>December-12-2018</td>\n",
       "      <td>United States</td>\n",
       "      <td>Black</td>\n",
       "      <td>JBL could make the Charger4 better BUT nop the...</td>\n",
       "      <td>Too bad JBL lower the sound quality on the cha...</td>\n",
       "      <td>3</td>\n",
       "      <td>1</td>\n",
       "      <td>0</td>\n",
       "      <td>1</td>\n",
       "      <td>238</td>\n",
       "    </tr>\n",
       "    <tr>\n",
       "      <th>2</th>\n",
       "      <td>5.0</td>\n",
       "      <td>October-26-2018</td>\n",
       "      <td>United States</td>\n",
       "      <td>Black</td>\n",
       "      <td>Sounds great and has plenty of colume</td>\n",
       "      <td>I've been using a JBL Flip 2 for the past coup...</td>\n",
       "      <td>1</td>\n",
       "      <td>1</td>\n",
       "      <td>1</td>\n",
       "      <td>1</td>\n",
       "      <td>531</td>\n",
       "    </tr>\n",
       "    <tr>\n",
       "      <th>3</th>\n",
       "      <td>5.0</td>\n",
       "      <td>June-3-2019</td>\n",
       "      <td>United States</td>\n",
       "      <td>Gray</td>\n",
       "      <td>In depth review for jbl charge 4</td>\n",
       "      <td>The JBL charge 4 is a great product. I found i...</td>\n",
       "      <td>2</td>\n",
       "      <td>1</td>\n",
       "      <td>1</td>\n",
       "      <td>1</td>\n",
       "      <td>2636</td>\n",
       "    </tr>\n",
       "    <tr>\n",
       "      <th>4</th>\n",
       "      <td>4.0</td>\n",
       "      <td>December-5-2018</td>\n",
       "      <td>United States</td>\n",
       "      <td>Red</td>\n",
       "      <td>Awesome Sound!  We'll see how long it lasts!</td>\n",
       "      <td>Great build quality.Great sound!Does not autom...</td>\n",
       "      <td>1</td>\n",
       "      <td>1</td>\n",
       "      <td>0</td>\n",
       "      <td>1</td>\n",
       "      <td>614</td>\n",
       "    </tr>\n",
       "  </tbody>\n",
       "</table>\n",
       "</div>"
      ],
      "text/plain": [
       "   rating              date       location   color  \\\n",
       "0     1.0   January-29-2019  United States    Gray   \n",
       "1     3.0  December-12-2018  United States   Black   \n",
       "2     5.0   October-26-2018  United States   Black   \n",
       "3     5.0       June-3-2019  United States    Gray   \n",
       "4     4.0   December-5-2018  United States     Red   \n",
       "\n",
       "                                        review_title  \\\n",
       "0                                     Buy a Charge 3   \n",
       "1  JBL could make the Charger4 better BUT nop the...   \n",
       "2              Sounds great and has plenty of colume   \n",
       "3                   In depth review for jbl charge 4   \n",
       "4       Awesome Sound!  We'll see how long it lasts!   \n",
       "\n",
       "                                              review  comment  feedback  \\\n",
       "0  The JBL Charge 4 has one giant flaw that frank...       11         1   \n",
       "1  Too bad JBL lower the sound quality on the cha...        3         1   \n",
       "2  I've been using a JBL Flip 2 for the past coup...        1         1   \n",
       "3  The JBL charge 4 is a great product. I found i...        2         1   \n",
       "4  Great build quality.Great sound!Does not autom...        1         1   \n",
       "\n",
       "   awesome  good  length_of_review  \n",
       "0        0     0               345  \n",
       "1        0     1               238  \n",
       "2        1     1               531  \n",
       "3        1     1              2636  \n",
       "4        0     1               614  "
      ]
     },
     "execution_count": 147,
     "metadata": {},
     "output_type": "execute_result"
    }
   ],
   "source": [
    "df.head()"
   ]
  },
  {
   "cell_type": "markdown",
   "metadata": {},
   "source": [
    "Selecting the columns that we need:"
   ]
  },
  {
   "cell_type": "code",
   "execution_count": 148,
   "metadata": {},
   "outputs": [],
   "source": [
    "df = df[['rating', 'awesome','good', 'color', 'feedback', 'review_title', 'review']]"
   ]
  },
  {
   "cell_type": "markdown",
   "metadata": {},
   "source": [
    "Getting rid of the stop words in review titles:"
   ]
  },
  {
   "cell_type": "code",
   "execution_count": 149,
   "metadata": {},
   "outputs": [
    {
     "data": {
      "text/html": [
       "<div>\n",
       "<style scoped>\n",
       "    .dataframe tbody tr th:only-of-type {\n",
       "        vertical-align: middle;\n",
       "    }\n",
       "\n",
       "    .dataframe tbody tr th {\n",
       "        vertical-align: top;\n",
       "    }\n",
       "\n",
       "    .dataframe thead th {\n",
       "        text-align: right;\n",
       "    }\n",
       "</style>\n",
       "<table border=\"1\" class=\"dataframe\">\n",
       "  <thead>\n",
       "    <tr style=\"text-align: right;\">\n",
       "      <th></th>\n",
       "      <th>rating</th>\n",
       "      <th>awesome</th>\n",
       "      <th>good</th>\n",
       "      <th>color</th>\n",
       "      <th>feedback</th>\n",
       "      <th>review_title</th>\n",
       "      <th>review</th>\n",
       "      <th>reviews</th>\n",
       "    </tr>\n",
       "  </thead>\n",
       "  <tbody>\n",
       "    <tr>\n",
       "      <th>0</th>\n",
       "      <td>1.0</td>\n",
       "      <td>0</td>\n",
       "      <td>0</td>\n",
       "      <td>Gray</td>\n",
       "      <td>1</td>\n",
       "      <td>Buy a Charge 3</td>\n",
       "      <td>The JBL Charge 4 has one giant flaw that frank...</td>\n",
       "      <td>buy charg 3</td>\n",
       "    </tr>\n",
       "    <tr>\n",
       "      <th>1</th>\n",
       "      <td>3.0</td>\n",
       "      <td>0</td>\n",
       "      <td>1</td>\n",
       "      <td>Black</td>\n",
       "      <td>1</td>\n",
       "      <td>JBL could make the Charger4 better BUT nop the...</td>\n",
       "      <td>Too bad JBL lower the sound quality on the cha...</td>\n",
       "      <td>jbl could make charger4 better nop dont</td>\n",
       "    </tr>\n",
       "    <tr>\n",
       "      <th>2</th>\n",
       "      <td>5.0</td>\n",
       "      <td>1</td>\n",
       "      <td>1</td>\n",
       "      <td>Black</td>\n",
       "      <td>1</td>\n",
       "      <td>Sounds great and has plenty of colume</td>\n",
       "      <td>I've been using a JBL Flip 2 for the past coup...</td>\n",
       "      <td>sound great plenti colum</td>\n",
       "    </tr>\n",
       "    <tr>\n",
       "      <th>3</th>\n",
       "      <td>5.0</td>\n",
       "      <td>1</td>\n",
       "      <td>1</td>\n",
       "      <td>Gray</td>\n",
       "      <td>1</td>\n",
       "      <td>In depth review for jbl charge 4</td>\n",
       "      <td>The JBL charge 4 is a great product. I found i...</td>\n",
       "      <td>depth review jbl charg 4</td>\n",
       "    </tr>\n",
       "    <tr>\n",
       "      <th>4</th>\n",
       "      <td>4.0</td>\n",
       "      <td>0</td>\n",
       "      <td>1</td>\n",
       "      <td>Red</td>\n",
       "      <td>1</td>\n",
       "      <td>Awesome Sound!  We'll see how long it lasts!</td>\n",
       "      <td>Great build quality.Great sound!Does not autom...</td>\n",
       "      <td>awesom sound well see long last</td>\n",
       "    </tr>\n",
       "  </tbody>\n",
       "</table>\n",
       "</div>"
      ],
      "text/plain": [
       "   rating  awesome  good   color  feedback  \\\n",
       "0     1.0        0     0    Gray         1   \n",
       "1     3.0        0     1   Black         1   \n",
       "2     5.0        1     1   Black         1   \n",
       "3     5.0        1     1    Gray         1   \n",
       "4     4.0        0     1     Red         1   \n",
       "\n",
       "                                        review_title  \\\n",
       "0                                     Buy a Charge 3   \n",
       "1  JBL could make the Charger4 better BUT nop the...   \n",
       "2              Sounds great and has plenty of colume   \n",
       "3                   In depth review for jbl charge 4   \n",
       "4       Awesome Sound!  We'll see how long it lasts!   \n",
       "\n",
       "                                              review  \\\n",
       "0  The JBL Charge 4 has one giant flaw that frank...   \n",
       "1  Too bad JBL lower the sound quality on the cha...   \n",
       "2  I've been using a JBL Flip 2 for the past coup...   \n",
       "3  The JBL charge 4 is a great product. I found i...   \n",
       "4  Great build quality.Great sound!Does not autom...   \n",
       "\n",
       "                                    reviews  \n",
       "0                               buy charg 3  \n",
       "1   jbl could make charger4 better nop dont  \n",
       "2                  sound great plenti colum  \n",
       "3                  depth review jbl charg 4  \n",
       "4           awesom sound well see long last  "
      ]
     },
     "execution_count": 149,
     "metadata": {},
     "output_type": "execute_result"
    }
   ],
   "source": [
    "stop_words = set(nltk.corpus.stopwords.words('english'))\n",
    "sno = nltk.stem.SnowballStemmer('english')\n",
    "\n",
    "def cleanpunc(sentence):\n",
    "    cleaned = re.sub(r\"[?|!|\\'|\\\"|#]\", r\"\",sentence)\n",
    "    cleaned =  re.sub(r\"[.|,|)|(|\\|/]\",r\"\",cleaned)\n",
    "    return cleaned.lower()\n",
    "\n",
    "sentences = df['review_title'].values\n",
    "reviews = []\n",
    "for sent in sentences:\n",
    "    cleaned_sent = cleanpunc(sent)\n",
    "    sent_arr = cleaned_sent.split()\n",
    "    output_sent = ''\n",
    "    for word in sent_arr:\n",
    "        if word not in stop_words:\n",
    "            stemmed_word = sno.stem(word)\n",
    "            output_sent = output_sent + ' ' + stemmed_word\n",
    "    reviews.append(output_sent)\n",
    "\n",
    "reviews_text = pd.DataFrame({'reviews': reviews})\n",
    "df = pd.concat([df,reviews_text], axis=1)\n",
    "df.head()"
   ]
  },
  {
   "cell_type": "markdown",
   "metadata": {},
   "source": [
    "Getting rid of the stop words in review texts:"
   ]
  },
  {
   "cell_type": "code",
   "execution_count": 150,
   "metadata": {},
   "outputs": [
    {
     "data": {
      "text/html": [
       "<div>\n",
       "<style scoped>\n",
       "    .dataframe tbody tr th:only-of-type {\n",
       "        vertical-align: middle;\n",
       "    }\n",
       "\n",
       "    .dataframe tbody tr th {\n",
       "        vertical-align: top;\n",
       "    }\n",
       "\n",
       "    .dataframe thead th {\n",
       "        text-align: right;\n",
       "    }\n",
       "</style>\n",
       "<table border=\"1\" class=\"dataframe\">\n",
       "  <thead>\n",
       "    <tr style=\"text-align: right;\">\n",
       "      <th></th>\n",
       "      <th>rating</th>\n",
       "      <th>awesome</th>\n",
       "      <th>good</th>\n",
       "      <th>color</th>\n",
       "      <th>feedback</th>\n",
       "      <th>review_title</th>\n",
       "      <th>review</th>\n",
       "      <th>reviews</th>\n",
       "      <th>review_text</th>\n",
       "    </tr>\n",
       "  </thead>\n",
       "  <tbody>\n",
       "    <tr>\n",
       "      <th>0</th>\n",
       "      <td>1.0</td>\n",
       "      <td>0</td>\n",
       "      <td>0</td>\n",
       "      <td>Gray</td>\n",
       "      <td>1</td>\n",
       "      <td>Buy a Charge 3</td>\n",
       "      <td>The JBL Charge 4 has one giant flaw that frank...</td>\n",
       "      <td>buy charg 3</td>\n",
       "      <td>jbl charg 4 one giant flaw frank make posit b...</td>\n",
       "    </tr>\n",
       "    <tr>\n",
       "      <th>1</th>\n",
       "      <td>3.0</td>\n",
       "      <td>0</td>\n",
       "      <td>1</td>\n",
       "      <td>Black</td>\n",
       "      <td>1</td>\n",
       "      <td>JBL could make the Charger4 better BUT nop the...</td>\n",
       "      <td>Too bad JBL lower the sound quality on the cha...</td>\n",
       "      <td>jbl could make charger4 better nop dont</td>\n",
       "      <td>bad jbl lower sound qualiti charger 4 ad 1 sp...</td>\n",
       "    </tr>\n",
       "    <tr>\n",
       "      <th>2</th>\n",
       "      <td>5.0</td>\n",
       "      <td>1</td>\n",
       "      <td>1</td>\n",
       "      <td>Black</td>\n",
       "      <td>1</td>\n",
       "      <td>Sounds great and has plenty of colume</td>\n",
       "      <td>I've been using a JBL Flip 2 for the past coup...</td>\n",
       "      <td>sound great plenti colum</td>\n",
       "      <td>ive use jbl flip 2 past coupl year felt confi...</td>\n",
       "    </tr>\n",
       "    <tr>\n",
       "      <th>3</th>\n",
       "      <td>5.0</td>\n",
       "      <td>1</td>\n",
       "      <td>1</td>\n",
       "      <td>Gray</td>\n",
       "      <td>1</td>\n",
       "      <td>In depth review for jbl charge 4</td>\n",
       "      <td>The JBL charge 4 is a great product. I found i...</td>\n",
       "      <td>depth review jbl charg 4</td>\n",
       "      <td>jbl charg 4 great product found initi disappo...</td>\n",
       "    </tr>\n",
       "    <tr>\n",
       "      <th>4</th>\n",
       "      <td>4.0</td>\n",
       "      <td>0</td>\n",
       "      <td>1</td>\n",
       "      <td>Red</td>\n",
       "      <td>1</td>\n",
       "      <td>Awesome Sound!  We'll see how long it lasts!</td>\n",
       "      <td>Great build quality.Great sound!Does not autom...</td>\n",
       "      <td>awesom sound well see long last</td>\n",
       "      <td>great build qualitygreat sounddo automat reco...</td>\n",
       "    </tr>\n",
       "  </tbody>\n",
       "</table>\n",
       "</div>"
      ],
      "text/plain": [
       "   rating  awesome  good   color  feedback  \\\n",
       "0     1.0        0     0    Gray         1   \n",
       "1     3.0        0     1   Black         1   \n",
       "2     5.0        1     1   Black         1   \n",
       "3     5.0        1     1    Gray         1   \n",
       "4     4.0        0     1     Red         1   \n",
       "\n",
       "                                        review_title  \\\n",
       "0                                     Buy a Charge 3   \n",
       "1  JBL could make the Charger4 better BUT nop the...   \n",
       "2              Sounds great and has plenty of colume   \n",
       "3                   In depth review for jbl charge 4   \n",
       "4       Awesome Sound!  We'll see how long it lasts!   \n",
       "\n",
       "                                              review  \\\n",
       "0  The JBL Charge 4 has one giant flaw that frank...   \n",
       "1  Too bad JBL lower the sound quality on the cha...   \n",
       "2  I've been using a JBL Flip 2 for the past coup...   \n",
       "3  The JBL charge 4 is a great product. I found i...   \n",
       "4  Great build quality.Great sound!Does not autom...   \n",
       "\n",
       "                                    reviews  \\\n",
       "0                               buy charg 3   \n",
       "1   jbl could make charger4 better nop dont   \n",
       "2                  sound great plenti colum   \n",
       "3                  depth review jbl charg 4   \n",
       "4           awesom sound well see long last   \n",
       "\n",
       "                                         review_text  \n",
       "0   jbl charg 4 one giant flaw frank make posit b...  \n",
       "1   bad jbl lower sound qualiti charger 4 ad 1 sp...  \n",
       "2   ive use jbl flip 2 past coupl year felt confi...  \n",
       "3   jbl charg 4 great product found initi disappo...  \n",
       "4   great build qualitygreat sounddo automat reco...  "
      ]
     },
     "execution_count": 150,
     "metadata": {},
     "output_type": "execute_result"
    }
   ],
   "source": [
    "stop_words = set(nltk.corpus.stopwords.words('english'))\n",
    "sno = nltk.stem.SnowballStemmer('english')\n",
    "\n",
    "def cleanpunc(sentence):\n",
    "    cleaned = re.sub(r\"[?|!|\\'|\\\"|#]\", r\"\",sentence)\n",
    "    cleaned =  re.sub(r\"[.|,|)|(|\\|/]\",r\"\",cleaned)\n",
    "    return cleaned.lower()\n",
    "\n",
    "sentences = df['review'].values\n",
    "reviews = []\n",
    "for sent in sentences:\n",
    "    cleaned_sent = cleanpunc(sent)\n",
    "    sent_arr = cleaned_sent.split()\n",
    "    output_sent = ''\n",
    "    for word in sent_arr:\n",
    "        if word not in stop_words:\n",
    "            stemmed_word = sno.stem(word)\n",
    "            output_sent = output_sent + ' ' + stemmed_word\n",
    "    reviews.append(output_sent)\n",
    "\n",
    "reviews_texts = pd.DataFrame({'review_text': reviews})\n",
    "df = pd.concat([df,reviews_texts], axis=1)\n",
    "df.head()"
   ]
  },
  {
   "cell_type": "markdown",
   "metadata": {},
   "source": [
    "Vectorizing the review titles using Tfid vectorier:"
   ]
  },
  {
   "cell_type": "code",
   "execution_count": 151,
   "metadata": {},
   "outputs": [
    {
     "data": {
      "text/plain": [
       "(1651, 500)"
      ]
     },
     "execution_count": 151,
     "metadata": {},
     "output_type": "execute_result"
    }
   ],
   "source": [
    "from sklearn.feature_extraction.text import TfidfVectorizer\n",
    "# from sklearn.feature_extraction.text import CountVectorizer\n",
    "\n",
    "vectorizer = TfidfVectorizer(max_features=500)\n",
    "X = vectorizer.fit_transform(df['reviews'])\n",
    "\n",
    "X.shape"
   ]
  },
  {
   "cell_type": "markdown",
   "metadata": {},
   "source": [
    "##### Seperate dependent and independent Features :"
   ]
  },
  {
   "cell_type": "code",
   "execution_count": 152,
   "metadata": {},
   "outputs": [
    {
     "data": {
      "text/plain": [
       "(1651, 500)"
      ]
     },
     "execution_count": 152,
     "metadata": {},
     "output_type": "execute_result"
    }
   ],
   "source": [
    "#Creating the bag of words model\n",
    "X = X.toarray()\n",
    "\n",
    "X.shape"
   ]
  },
  {
   "cell_type": "code",
   "execution_count": 153,
   "metadata": {},
   "outputs": [],
   "source": [
    "y = df['awesome'].values"
   ]
  },
  {
   "cell_type": "markdown",
   "metadata": {},
   "source": [
    "##### Split data into Train and Test:"
   ]
  },
  {
   "cell_type": "code",
   "execution_count": 154,
   "metadata": {},
   "outputs": [],
   "source": [
    "##Splitting the dataset into training set and test set\n",
    "X_train, X_test, y_train, y_test = train_test_split(X, y, test_size = 0.2, stratify=y, random_state = 42)"
   ]
  },
  {
   "cell_type": "markdown",
   "metadata": {},
   "source": [
    "##### Training a simple KNN model to evaluate the performance:"
   ]
  },
  {
   "cell_type": "code",
   "execution_count": 155,
   "metadata": {},
   "outputs": [
    {
     "data": {
      "text/plain": [
       "KNeighborsClassifier(algorithm='auto', leaf_size=30, metric='minkowski',\n",
       "           metric_params=None, n_jobs=1, n_neighbors=5, p=2,\n",
       "           weights='uniform')"
      ]
     },
     "execution_count": 155,
     "metadata": {},
     "output_type": "execute_result"
    }
   ],
   "source": [
    "# classifier = KNeighborsClassifier(metric='jaccard')\n",
    "classifier = KNeighborsClassifier()\n",
    "classifier.fit(X_train, y_train)"
   ]
  },
  {
   "cell_type": "code",
   "execution_count": 156,
   "metadata": {},
   "outputs": [],
   "source": [
    "#predicting the test set results\n",
    "y_pred = classifier.predict(X_test)"
   ]
  },
  {
   "cell_type": "code",
   "execution_count": 157,
   "metadata": {},
   "outputs": [
    {
     "data": {
      "text/plain": [
       "array([[  2,  62],\n",
       "       [  7, 260]], dtype=int64)"
      ]
     },
     "execution_count": 157,
     "metadata": {},
     "output_type": "execute_result"
    }
   ],
   "source": [
    "#Making the Confusion matrix\n",
    "cm = confusion_matrix(y_test, y_pred)\n",
    "cm"
   ]
  },
  {
   "cell_type": "code",
   "execution_count": 158,
   "metadata": {},
   "outputs": [
    {
     "name": "stdout",
     "output_type": "stream",
     "text": [
      "             precision    recall  f1-score   support\n",
      "\n",
      "          0       0.22      0.03      0.05        64\n",
      "          1       0.81      0.97      0.88       267\n",
      "\n",
      "avg / total       0.69      0.79      0.72       331\n",
      "\n"
     ]
    }
   ],
   "source": [
    "from sklearn.metrics import classification_report\n",
    "print(classification_report(y_test, y_pred))"
   ]
  },
  {
   "cell_type": "markdown",
   "metadata": {},
   "source": [
    "We have a f-score value of 0.72 and it seems we are on the right tracks. Lets figure out what are the best parameters for our model using GridSearchCV."
   ]
  },
  {
   "cell_type": "markdown",
   "metadata": {},
   "source": [
    "##### Training the model with GridSearchCV to find optimal Hyperparameter:"
   ]
  },
  {
   "cell_type": "code",
   "execution_count": 159,
   "metadata": {},
   "outputs": [
    {
     "name": "stdout",
     "output_type": "stream",
     "text": [
      "{'algorithm': 'auto', 'leaf_size': 30, 'metric': 'jaccard', 'n_neighbors': 10, 'weights': 'uniform'}\n",
      "0.8949337794010589\n"
     ]
    }
   ],
   "source": [
    "params = dict(n_neighbors=[5, 10],weights=['uniform', 'distance'],algorithm=['auto'],\\\n",
    "              leaf_size=[30], metric=['euclidean', 'jaccard'])\n",
    "\n",
    "grid=GridSearchCV(estimator=KNeighborsClassifier(),param_grid=params,cv=10,n_jobs=-1,scoring='f1')\n",
    "grid.fit(X, y)\n",
    "print(grid.best_params_)\n",
    "print(grid.best_score_)"
   ]
  },
  {
   "cell_type": "markdown",
   "metadata": {},
   "source": [
    "Making a classification report function:"
   ]
  },
  {
   "cell_type": "code",
   "execution_count": 160,
   "metadata": {},
   "outputs": [],
   "source": [
    "def scores(y_true, y_pred):\n",
    "    print (classification_report(y_true, y_pred))\n",
    "    print (confusion_matrix(y_true, y_pred))\n",
    "    print ('acc:{}, prec:{}, recall:{}, f1:{}\\n\\n'.format(accuracy_score(y_true, y_pred), \\\n",
    "                                                      precision_score(y_true, y_pred), \n",
    "                                                      recall_score(y_true, y_pred), \n",
    "                                                      f1_score(y_true, y_pred)))\n",
    "    return f1_score(y_true, y_pred)"
   ]
  },
  {
   "cell_type": "markdown",
   "metadata": {},
   "source": [
    "##### Training and Testing the model with optimal Hyperparameter:"
   ]
  },
  {
   "cell_type": "code",
   "execution_count": 161,
   "metadata": {},
   "outputs": [
    {
     "name": "stdout",
     "output_type": "stream",
     "text": [
      "             precision    recall  f1-score   support\n",
      "\n",
      "          0       0.46      0.41      0.43        32\n",
      "          1       0.86      0.89      0.88       134\n",
      "\n",
      "avg / total       0.79      0.80      0.79       166\n",
      "\n",
      "[[ 13  19]\n",
      " [ 15 119]]\n",
      "acc:0.7951807228915663, prec:0.8623188405797102, recall:0.8880597014925373, f1:0.8750000000000001\n",
      "\n",
      "\n",
      "             precision    recall  f1-score   support\n",
      "\n",
      "          0       0.50      0.25      0.33        32\n",
      "          1       0.84      0.94      0.89       134\n",
      "\n",
      "avg / total       0.77      0.81      0.78       166\n",
      "\n",
      "[[  8  24]\n",
      " [  8 126]]\n",
      "acc:0.8072289156626506, prec:0.84, recall:0.9402985074626866, f1:0.8873239436619718\n",
      "\n",
      "\n",
      "             precision    recall  f1-score   support\n",
      "\n",
      "          0       0.70      0.22      0.33        32\n",
      "          1       0.84      0.98      0.90       134\n",
      "\n",
      "avg / total       0.81      0.83      0.79       166\n",
      "\n",
      "[[  7  25]\n",
      " [  3 131]]\n",
      "acc:0.8313253012048193, prec:0.8397435897435898, recall:0.9776119402985075, f1:0.9034482758620689\n",
      "\n",
      "\n",
      "             precision    recall  f1-score   support\n",
      "\n",
      "          0       0.78      0.22      0.34        32\n",
      "          1       0.84      0.98      0.91       133\n",
      "\n",
      "avg / total       0.83      0.84      0.80       165\n",
      "\n",
      "[[  7  25]\n",
      " [  2 131]]\n",
      "acc:0.8363636363636363, prec:0.8397435897435898, recall:0.9849624060150376, f1:0.9065743944636678\n",
      "\n",
      "\n",
      "             precision    recall  f1-score   support\n",
      "\n",
      "          0       0.43      0.09      0.15        32\n",
      "          1       0.82      0.97      0.89       133\n",
      "\n",
      "avg / total       0.74      0.80      0.74       165\n",
      "\n",
      "[[  3  29]\n",
      " [  4 129]]\n",
      "acc:0.8, prec:0.8164556962025317, recall:0.9699248120300752, f1:0.88659793814433\n",
      "\n",
      "\n",
      "             precision    recall  f1-score   support\n",
      "\n",
      "          0       0.78      0.22      0.34        32\n",
      "          1       0.84      0.98      0.91       133\n",
      "\n",
      "avg / total       0.83      0.84      0.80       165\n",
      "\n",
      "[[  7  25]\n",
      " [  2 131]]\n",
      "acc:0.8363636363636363, prec:0.8397435897435898, recall:0.9849624060150376, f1:0.9065743944636678\n",
      "\n",
      "\n",
      "             precision    recall  f1-score   support\n",
      "\n",
      "          0       0.56      0.16      0.24        32\n",
      "          1       0.83      0.97      0.89       133\n",
      "\n",
      "avg / total       0.77      0.81      0.77       165\n",
      "\n",
      "[[  5  27]\n",
      " [  4 129]]\n",
      "acc:0.8121212121212121, prec:0.8269230769230769, recall:0.9699248120300752, f1:0.8927335640138407\n",
      "\n",
      "\n",
      "             precision    recall  f1-score   support\n",
      "\n",
      "          0       0.60      0.09      0.16        32\n",
      "          1       0.82      0.98      0.89       133\n",
      "\n",
      "avg / total       0.78      0.81      0.75       165\n",
      "\n",
      "[[  3  29]\n",
      " [  2 131]]\n",
      "acc:0.8121212121212121, prec:0.81875, recall:0.9849624060150376, f1:0.89419795221843\n",
      "\n",
      "\n",
      "             precision    recall  f1-score   support\n",
      "\n",
      "          0       0.78      0.23      0.35        31\n",
      "          1       0.85      0.98      0.91       133\n",
      "\n",
      "avg / total       0.83      0.84      0.80       164\n",
      "\n",
      "[[  7  24]\n",
      " [  2 131]]\n",
      "acc:0.8414634146341463, prec:0.8451612903225807, recall:0.9849624060150376, f1:0.9097222222222223\n",
      "\n",
      "\n",
      "             precision    recall  f1-score   support\n",
      "\n",
      "          0       0.46      0.19      0.27        31\n",
      "          1       0.83      0.95      0.89       133\n",
      "\n",
      "avg / total       0.76      0.80      0.77       164\n",
      "\n",
      "[[  6  25]\n",
      " [  7 126]]\n",
      "acc:0.8048780487804879, prec:0.8344370860927153, recall:0.9473684210526315, f1:0.8873239436619718\n",
      "\n",
      "\n",
      "0.8949\n"
     ]
    }
   ],
   "source": [
    "from sklearn.model_selection import cross_val_score\n",
    "from sklearn.metrics import make_scorer\n",
    "knn_final = KNeighborsClassifier(n_neighbors=10, weights='uniform', metric='jaccard', algorithm='auto', leaf_size=30)\n",
    "cv_scores = cross_val_score(knn_final, X, y, cv=10, scoring=make_scorer(scores))\n",
    "print(np.mean(cv_scores).round(4))"
   ]
  }
 ],
 "metadata": {
  "kernelspec": {
   "display_name": "Python 3",
   "language": "python",
   "name": "python3"
  },
  "language_info": {
   "codemirror_mode": {
    "name": "ipython",
    "version": 3
   },
   "file_extension": ".py",
   "mimetype": "text/x-python",
   "name": "python",
   "nbconvert_exporter": "python",
   "pygments_lexer": "ipython3",
   "version": "3.7.3"
  }
 },
 "nbformat": 4,
 "nbformat_minor": 2
}
