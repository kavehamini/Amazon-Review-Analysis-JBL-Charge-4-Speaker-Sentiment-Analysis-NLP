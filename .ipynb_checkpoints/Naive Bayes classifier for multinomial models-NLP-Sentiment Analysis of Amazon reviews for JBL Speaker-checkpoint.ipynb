{
 "cells": [
  {
   "cell_type": "markdown",
   "metadata": {},
   "source": [
    "## Naive Bayes classifier for multinomial models-NLP-Sentiment Analysis of Amazon reviews for JBL Speaker"
   ]
  },
  {
   "cell_type": "markdown",
   "metadata": {},
   "source": [
    "In this notebook, the reviews from Amazon on JBL Speaker were analyzed. Different machine learning algorithems wre used to perform NLP analysis on the review titles as well as review texts."
   ]
  },
  {
   "cell_type": "code",
   "execution_count": 1,
   "metadata": {},
   "outputs": [],
   "source": [
    "import numpy as np\n",
    "import pandas as pd\n",
    "import matplotlib.pyplot as plt\n",
    "%matplotlib inline\n",
    "import seaborn as sns\n",
    "import sqlite3\n",
    "import warnings\n",
    "warnings.filterwarnings(\"ignore\")\n",
    "\n",
    "from sklearn.feature_extraction.text import CountVectorizer\n",
    "from sklearn.model_selection import train_test_split\n",
    "from sklearn.naive_bayes import MultinomialNB\n",
    "from sklearn.model_selection import GridSearchCV\n",
    "from sklearn.metrics import confusion_matrix\n",
    "import nltk\n",
    "import re\n",
    "%matplotlib inline"
   ]
  },
  {
   "cell_type": "markdown",
   "metadata": {},
   "source": [
    "Reading the JBLcleaned sqlite file:"
   ]
  },
  {
   "cell_type": "code",
   "execution_count": 31,
   "metadata": {},
   "outputs": [],
   "source": [
    "#reading the sqlite file and making a df from the data\n",
    "con = sqlite3.connect(\"Amazon.sqlite\")\n",
    "df = pd.read_sql_query(\"SELECT * from JLBcleaned\", con)"
   ]
  },
  {
   "cell_type": "code",
   "execution_count": 32,
   "metadata": {},
   "outputs": [
    {
     "data": {
      "text/html": [
       "<div>\n",
       "<style scoped>\n",
       "    .dataframe tbody tr th:only-of-type {\n",
       "        vertical-align: middle;\n",
       "    }\n",
       "\n",
       "    .dataframe tbody tr th {\n",
       "        vertical-align: top;\n",
       "    }\n",
       "\n",
       "    .dataframe thead th {\n",
       "        text-align: right;\n",
       "    }\n",
       "</style>\n",
       "<table border=\"1\" class=\"dataframe\">\n",
       "  <thead>\n",
       "    <tr style=\"text-align: right;\">\n",
       "      <th></th>\n",
       "      <th>rating</th>\n",
       "      <th>date</th>\n",
       "      <th>location</th>\n",
       "      <th>color</th>\n",
       "      <th>review_title</th>\n",
       "      <th>review</th>\n",
       "      <th>comment</th>\n",
       "      <th>feedback</th>\n",
       "      <th>awesome</th>\n",
       "      <th>good</th>\n",
       "      <th>length_of_review</th>\n",
       "    </tr>\n",
       "  </thead>\n",
       "  <tbody>\n",
       "    <tr>\n",
       "      <th>0</th>\n",
       "      <td>1.0</td>\n",
       "      <td>January-29-2019</td>\n",
       "      <td>United States</td>\n",
       "      <td>Gray</td>\n",
       "      <td>Buy a Charge 3</td>\n",
       "      <td>The JBL Charge 4 has one giant flaw that frank...</td>\n",
       "      <td>11</td>\n",
       "      <td>1</td>\n",
       "      <td>0</td>\n",
       "      <td>0</td>\n",
       "      <td>345</td>\n",
       "    </tr>\n",
       "    <tr>\n",
       "      <th>1</th>\n",
       "      <td>3.0</td>\n",
       "      <td>December-12-2018</td>\n",
       "      <td>United States</td>\n",
       "      <td>Black</td>\n",
       "      <td>JBL could make the Charger4 better BUT nop the...</td>\n",
       "      <td>Too bad JBL lower the sound quality on the cha...</td>\n",
       "      <td>3</td>\n",
       "      <td>1</td>\n",
       "      <td>0</td>\n",
       "      <td>1</td>\n",
       "      <td>238</td>\n",
       "    </tr>\n",
       "    <tr>\n",
       "      <th>2</th>\n",
       "      <td>5.0</td>\n",
       "      <td>October-26-2018</td>\n",
       "      <td>United States</td>\n",
       "      <td>Black</td>\n",
       "      <td>Sounds great and has plenty of colume</td>\n",
       "      <td>I've been using a JBL Flip 2 for the past coup...</td>\n",
       "      <td>1</td>\n",
       "      <td>1</td>\n",
       "      <td>1</td>\n",
       "      <td>1</td>\n",
       "      <td>531</td>\n",
       "    </tr>\n",
       "    <tr>\n",
       "      <th>3</th>\n",
       "      <td>5.0</td>\n",
       "      <td>June-3-2019</td>\n",
       "      <td>United States</td>\n",
       "      <td>Gray</td>\n",
       "      <td>In depth review for jbl charge 4</td>\n",
       "      <td>The JBL charge 4 is a great product. I found i...</td>\n",
       "      <td>2</td>\n",
       "      <td>1</td>\n",
       "      <td>1</td>\n",
       "      <td>1</td>\n",
       "      <td>2636</td>\n",
       "    </tr>\n",
       "    <tr>\n",
       "      <th>4</th>\n",
       "      <td>4.0</td>\n",
       "      <td>December-5-2018</td>\n",
       "      <td>United States</td>\n",
       "      <td>Red</td>\n",
       "      <td>Awesome Sound!  We'll see how long it lasts!</td>\n",
       "      <td>Great build quality.Great sound!Does not autom...</td>\n",
       "      <td>1</td>\n",
       "      <td>1</td>\n",
       "      <td>0</td>\n",
       "      <td>1</td>\n",
       "      <td>614</td>\n",
       "    </tr>\n",
       "  </tbody>\n",
       "</table>\n",
       "</div>"
      ],
      "text/plain": [
       "   rating              date       location   color  \\\n",
       "0     1.0   January-29-2019  United States    Gray   \n",
       "1     3.0  December-12-2018  United States   Black   \n",
       "2     5.0   October-26-2018  United States   Black   \n",
       "3     5.0       June-3-2019  United States    Gray   \n",
       "4     4.0   December-5-2018  United States     Red   \n",
       "\n",
       "                                        review_title  \\\n",
       "0                                     Buy a Charge 3   \n",
       "1  JBL could make the Charger4 better BUT nop the...   \n",
       "2              Sounds great and has plenty of colume   \n",
       "3                   In depth review for jbl charge 4   \n",
       "4       Awesome Sound!  We'll see how long it lasts!   \n",
       "\n",
       "                                              review  comment  feedback  \\\n",
       "0  The JBL Charge 4 has one giant flaw that frank...       11         1   \n",
       "1  Too bad JBL lower the sound quality on the cha...        3         1   \n",
       "2  I've been using a JBL Flip 2 for the past coup...        1         1   \n",
       "3  The JBL charge 4 is a great product. I found i...        2         1   \n",
       "4  Great build quality.Great sound!Does not autom...        1         1   \n",
       "\n",
       "   awesome  good  length_of_review  \n",
       "0        0     0               345  \n",
       "1        0     1               238  \n",
       "2        1     1               531  \n",
       "3        1     1              2636  \n",
       "4        0     1               614  "
      ]
     },
     "execution_count": 32,
     "metadata": {},
     "output_type": "execute_result"
    }
   ],
   "source": [
    "df.head()"
   ]
  },
  {
   "cell_type": "markdown",
   "metadata": {},
   "source": [
    "Here the most frequenctly repeated words in reviews will be retreived."
   ]
  },
  {
   "cell_type": "code",
   "execution_count": 5,
   "metadata": {},
   "outputs": [
    {
     "data": {
      "image/png": "[encoded data removed]",
      "text/plain": [
       "<Figure size 1080x432 with 1 Axes>"
      ]
     },
     "metadata": {
      "needs_background": "light"
     },
     "output_type": "display_data"
    }
   ],
   "source": [
    "from sklearn.feature_extraction.text import CountVectorizer\n",
    "\n",
    "\n",
    "cv = CountVectorizer(stop_words = 'english')\n",
    "words = cv.fit_transform(df.review) #learn a vocabulary\n",
    "sum_words = words.sum(axis=0)\n",
    "\n",
    "\n",
    "words_freq = [(word, sum_words[0, idx]) for word, idx in cv.vocabulary_.items()]\n",
    "words_freq = sorted(words_freq, key = lambda x: x[1], reverse = True)\n",
    "frequency = pd.DataFrame(words_freq, columns=['word', 'freq'])\n",
    "\n",
    "frequency.head(30).plot(x='word', y='freq', kind='bar', color='navy', figsize=(15, 6))\n",
    "plt.title(\"Most Frequently Occuring Words - Top 30\")\n",
    "plt.show()"
   ]
  },
  {
   "cell_type": "markdown",
   "metadata": {},
   "source": [
    "### Machine Learning:"
   ]
  },
  {
   "cell_type": "markdown",
   "metadata": {},
   "source": [
    "##### Naive Bayes classifier for multinomial models"
   ]
  },
  {
   "cell_type": "markdown",
   "metadata": {},
   "source": [
    "Here we will choose different features to train our multinomial model and evaluate its performance using different features in the dataset:"
   ]
  },
  {
   "cell_type": "markdown",
   "metadata": {},
   "source": [
    "Selecting the coloumns (features) that we need:"
   ]
  },
  {
   "cell_type": "code",
   "execution_count": 33,
   "metadata": {},
   "outputs": [],
   "source": [
    "df = df[['rating', 'awesome','good', 'color', 'feedback', 'review_title', 'review']]"
   ]
  },
  {
   "cell_type": "markdown",
   "metadata": {},
   "source": [
    "Determining the counts of the values for each feature to be predicted:"
   ]
  },
  {
   "cell_type": "code",
   "execution_count": 7,
   "metadata": {},
   "outputs": [
    {
     "data": {
      "text/plain": [
       "Counter({1.0: 100, 3.0: 60, 5.0: 1333, 4.0: 123, 2.0: 35})"
      ]
     },
     "execution_count": 7,
     "metadata": {},
     "output_type": "execute_result"
    }
   ],
   "source": [
    "import collections\n",
    "collections.Counter(df['rating'])"
   ]
  },
  {
   "cell_type": "code",
   "execution_count": 8,
   "metadata": {},
   "outputs": [
    {
     "data": {
      "text/plain": [
       "Counter({0: 318, 1: 1333})"
      ]
     },
     "execution_count": 8,
     "metadata": {},
     "output_type": "execute_result"
    }
   ],
   "source": [
    "import collections\n",
    "collections.Counter(df['awesome'])"
   ]
  },
  {
   "cell_type": "code",
   "execution_count": 9,
   "metadata": {},
   "outputs": [
    {
     "data": {
      "text/plain": [
       "Counter({0: 135, 1: 1516})"
      ]
     },
     "execution_count": 9,
     "metadata": {},
     "output_type": "execute_result"
    }
   ],
   "source": [
    "import collections\n",
    "collections.Counter(df['good'])"
   ]
  },
  {
   "cell_type": "code",
   "execution_count": 10,
   "metadata": {},
   "outputs": [
    {
     "data": {
      "text/plain": [
       "Counter({1: 27, 0: 1624})"
      ]
     },
     "execution_count": 10,
     "metadata": {},
     "output_type": "execute_result"
    }
   ],
   "source": [
    "import collections\n",
    "collections.Counter(df['feedback'])"
   ]
  },
  {
   "cell_type": "markdown",
   "metadata": {},
   "source": [
    "Getting rid of the stop words in review titles:"
   ]
  },
  {
   "cell_type": "code",
   "execution_count": 35,
   "metadata": {},
   "outputs": [
    {
     "data": {
      "text/html": [
       "<div>\n",
       "<style scoped>\n",
       "    .dataframe tbody tr th:only-of-type {\n",
       "        vertical-align: middle;\n",
       "    }\n",
       "\n",
       "    .dataframe tbody tr th {\n",
       "        vertical-align: top;\n",
       "    }\n",
       "\n",
       "    .dataframe thead th {\n",
       "        text-align: right;\n",
       "    }\n",
       "</style>\n",
       "<table border=\"1\" class=\"dataframe\">\n",
       "  <thead>\n",
       "    <tr style=\"text-align: right;\">\n",
       "      <th></th>\n",
       "      <th>rating</th>\n",
       "      <th>awesome</th>\n",
       "      <th>good</th>\n",
       "      <th>color</th>\n",
       "      <th>feedback</th>\n",
       "      <th>review_title</th>\n",
       "      <th>review</th>\n",
       "      <th>reviews</th>\n",
       "    </tr>\n",
       "  </thead>\n",
       "  <tbody>\n",
       "    <tr>\n",
       "      <th>0</th>\n",
       "      <td>1.0</td>\n",
       "      <td>0</td>\n",
       "      <td>0</td>\n",
       "      <td>Gray</td>\n",
       "      <td>1</td>\n",
       "      <td>Buy a Charge 3</td>\n",
       "      <td>The JBL Charge 4 has one giant flaw that frank...</td>\n",
       "      <td>buy charg 3</td>\n",
       "    </tr>\n",
       "    <tr>\n",
       "      <th>1</th>\n",
       "      <td>3.0</td>\n",
       "      <td>0</td>\n",
       "      <td>1</td>\n",
       "      <td>Black</td>\n",
       "      <td>1</td>\n",
       "      <td>JBL could make the Charger4 better BUT nop the...</td>\n",
       "      <td>Too bad JBL lower the sound quality on the cha...</td>\n",
       "      <td>jbl could make charger4 better nop dont</td>\n",
       "    </tr>\n",
       "    <tr>\n",
       "      <th>2</th>\n",
       "      <td>5.0</td>\n",
       "      <td>1</td>\n",
       "      <td>1</td>\n",
       "      <td>Black</td>\n",
       "      <td>1</td>\n",
       "      <td>Sounds great and has plenty of colume</td>\n",
       "      <td>I've been using a JBL Flip 2 for the past coup...</td>\n",
       "      <td>sound great plenti colum</td>\n",
       "    </tr>\n",
       "    <tr>\n",
       "      <th>3</th>\n",
       "      <td>5.0</td>\n",
       "      <td>1</td>\n",
       "      <td>1</td>\n",
       "      <td>Gray</td>\n",
       "      <td>1</td>\n",
       "      <td>In depth review for jbl charge 4</td>\n",
       "      <td>The JBL charge 4 is a great product. I found i...</td>\n",
       "      <td>depth review jbl charg 4</td>\n",
       "    </tr>\n",
       "    <tr>\n",
       "      <th>4</th>\n",
       "      <td>4.0</td>\n",
       "      <td>0</td>\n",
       "      <td>1</td>\n",
       "      <td>Red</td>\n",
       "      <td>1</td>\n",
       "      <td>Awesome Sound!  We'll see how long it lasts!</td>\n",
       "      <td>Great build quality.Great sound!Does not autom...</td>\n",
       "      <td>awesom sound well see long last</td>\n",
       "    </tr>\n",
       "  </tbody>\n",
       "</table>\n",
       "</div>"
      ],
      "text/plain": [
       "   rating  awesome  good   color  feedback  \\\n",
       "0     1.0        0     0    Gray         1   \n",
       "1     3.0        0     1   Black         1   \n",
       "2     5.0        1     1   Black         1   \n",
       "3     5.0        1     1    Gray         1   \n",
       "4     4.0        0     1     Red         1   \n",
       "\n",
       "                                        review_title  \\\n",
       "0                                     Buy a Charge 3   \n",
       "1  JBL could make the Charger4 better BUT nop the...   \n",
       "2              Sounds great and has plenty of colume   \n",
       "3                   In depth review for jbl charge 4   \n",
       "4       Awesome Sound!  We'll see how long it lasts!   \n",
       "\n",
       "                                              review  \\\n",
       "0  The JBL Charge 4 has one giant flaw that frank...   \n",
       "1  Too bad JBL lower the sound quality on the cha...   \n",
       "2  I've been using a JBL Flip 2 for the past coup...   \n",
       "3  The JBL charge 4 is a great product. I found i...   \n",
       "4  Great build quality.Great sound!Does not autom...   \n",
       "\n",
       "                                    reviews  \n",
       "0                               buy charg 3  \n",
       "1   jbl could make charger4 better nop dont  \n",
       "2                  sound great plenti colum  \n",
       "3                  depth review jbl charg 4  \n",
       "4           awesom sound well see long last  "
      ]
     },
     "execution_count": 35,
     "metadata": {},
     "output_type": "execute_result"
    }
   ],
   "source": [
    "stop_words = set(nltk.corpus.stopwords.words('english'))\n",
    "sno = nltk.stem.SnowballStemmer('english')\n",
    "\n",
    "def cleanpunc(sentence):\n",
    "    cleaned = re.sub(r\"[?|!|\\'|\\\"|#]\", r\"\",sentence)\n",
    "    cleaned =  re.sub(r\"[.|,|)|(|\\|/]\",r\"\",cleaned)\n",
    "    return cleaned.lower()\n",
    "\n",
    "sentences = df['review_title'].values\n",
    "reviews = []\n",
    "for sent in sentences:\n",
    "    cleaned_sent = cleanpunc(sent)\n",
    "    sent_arr = cleaned_sent.split()\n",
    "    output_sent = ''\n",
    "    for word in sent_arr:\n",
    "        if word not in stop_words:\n",
    "            stemmed_word = sno.stem(word)\n",
    "            output_sent = output_sent + ' ' + stemmed_word\n",
    "    reviews.append(output_sent)\n",
    "\n",
    "reviews_text = pd.DataFrame({'reviews': reviews})\n",
    "df = pd.concat([df,reviews_text], axis=1)\n",
    "df.head()"
   ]
  },
  {
   "cell_type": "markdown",
   "metadata": {},
   "source": [
    "Getting rid of the stop words in review texts:"
   ]
  },
  {
   "cell_type": "code",
   "execution_count": 36,
   "metadata": {},
   "outputs": [
    {
     "data": {
      "text/html": [
       "<div>\n",
       "<style scoped>\n",
       "    .dataframe tbody tr th:only-of-type {\n",
       "        vertical-align: middle;\n",
       "    }\n",
       "\n",
       "    .dataframe tbody tr th {\n",
       "        vertical-align: top;\n",
       "    }\n",
       "\n",
       "    .dataframe thead th {\n",
       "        text-align: right;\n",
       "    }\n",
       "</style>\n",
       "<table border=\"1\" class=\"dataframe\">\n",
       "  <thead>\n",
       "    <tr style=\"text-align: right;\">\n",
       "      <th></th>\n",
       "      <th>rating</th>\n",
       "      <th>awesome</th>\n",
       "      <th>good</th>\n",
       "      <th>color</th>\n",
       "      <th>feedback</th>\n",
       "      <th>review_title</th>\n",
       "      <th>review</th>\n",
       "      <th>reviews</th>\n",
       "      <th>review_text</th>\n",
       "    </tr>\n",
       "  </thead>\n",
       "  <tbody>\n",
       "    <tr>\n",
       "      <th>0</th>\n",
       "      <td>1.0</td>\n",
       "      <td>0</td>\n",
       "      <td>0</td>\n",
       "      <td>Gray</td>\n",
       "      <td>1</td>\n",
       "      <td>Buy a Charge 3</td>\n",
       "      <td>The JBL Charge 4 has one giant flaw that frank...</td>\n",
       "      <td>buy charg 3</td>\n",
       "      <td>jbl charg 4 one giant flaw frank make posit b...</td>\n",
       "    </tr>\n",
       "    <tr>\n",
       "      <th>1</th>\n",
       "      <td>3.0</td>\n",
       "      <td>0</td>\n",
       "      <td>1</td>\n",
       "      <td>Black</td>\n",
       "      <td>1</td>\n",
       "      <td>JBL could make the Charger4 better BUT nop the...</td>\n",
       "      <td>Too bad JBL lower the sound quality on the cha...</td>\n",
       "      <td>jbl could make charger4 better nop dont</td>\n",
       "      <td>bad jbl lower sound qualiti charger 4 ad 1 sp...</td>\n",
       "    </tr>\n",
       "    <tr>\n",
       "      <th>2</th>\n",
       "      <td>5.0</td>\n",
       "      <td>1</td>\n",
       "      <td>1</td>\n",
       "      <td>Black</td>\n",
       "      <td>1</td>\n",
       "      <td>Sounds great and has plenty of colume</td>\n",
       "      <td>I've been using a JBL Flip 2 for the past coup...</td>\n",
       "      <td>sound great plenti colum</td>\n",
       "      <td>ive use jbl flip 2 past coupl year felt confi...</td>\n",
       "    </tr>\n",
       "    <tr>\n",
       "      <th>3</th>\n",
       "      <td>5.0</td>\n",
       "      <td>1</td>\n",
       "      <td>1</td>\n",
       "      <td>Gray</td>\n",
       "      <td>1</td>\n",
       "      <td>In depth review for jbl charge 4</td>\n",
       "      <td>The JBL charge 4 is a great product. I found i...</td>\n",
       "      <td>depth review jbl charg 4</td>\n",
       "      <td>jbl charg 4 great product found initi disappo...</td>\n",
       "    </tr>\n",
       "    <tr>\n",
       "      <th>4</th>\n",
       "      <td>4.0</td>\n",
       "      <td>0</td>\n",
       "      <td>1</td>\n",
       "      <td>Red</td>\n",
       "      <td>1</td>\n",
       "      <td>Awesome Sound!  We'll see how long it lasts!</td>\n",
       "      <td>Great build quality.Great sound!Does not autom...</td>\n",
       "      <td>awesom sound well see long last</td>\n",
       "      <td>great build qualitygreat sounddo automat reco...</td>\n",
       "    </tr>\n",
       "  </tbody>\n",
       "</table>\n",
       "</div>"
      ],
      "text/plain": [
       "   rating  awesome  good   color  feedback  \\\n",
       "0     1.0        0     0    Gray         1   \n",
       "1     3.0        0     1   Black         1   \n",
       "2     5.0        1     1   Black         1   \n",
       "3     5.0        1     1    Gray         1   \n",
       "4     4.0        0     1     Red         1   \n",
       "\n",
       "                                        review_title  \\\n",
       "0                                     Buy a Charge 3   \n",
       "1  JBL could make the Charger4 better BUT nop the...   \n",
       "2              Sounds great and has plenty of colume   \n",
       "3                   In depth review for jbl charge 4   \n",
       "4       Awesome Sound!  We'll see how long it lasts!   \n",
       "\n",
       "                                              review  \\\n",
       "0  The JBL Charge 4 has one giant flaw that frank...   \n",
       "1  Too bad JBL lower the sound quality on the cha...   \n",
       "2  I've been using a JBL Flip 2 for the past coup...   \n",
       "3  The JBL charge 4 is a great product. I found i...   \n",
       "4  Great build quality.Great sound!Does not autom...   \n",
       "\n",
       "                                    reviews  \\\n",
       "0                               buy charg 3   \n",
       "1   jbl could make charger4 better nop dont   \n",
       "2                  sound great plenti colum   \n",
       "3                  depth review jbl charg 4   \n",
       "4           awesom sound well see long last   \n",
       "\n",
       "                                         review_text  \n",
       "0   jbl charg 4 one giant flaw frank make posit b...  \n",
       "1   bad jbl lower sound qualiti charger 4 ad 1 sp...  \n",
       "2   ive use jbl flip 2 past coupl year felt confi...  \n",
       "3   jbl charg 4 great product found initi disappo...  \n",
       "4   great build qualitygreat sounddo automat reco...  "
      ]
     },
     "execution_count": 36,
     "metadata": {},
     "output_type": "execute_result"
    }
   ],
   "source": [
    "stop_words = set(nltk.corpus.stopwords.words('english'))\n",
    "sno = nltk.stem.SnowballStemmer('english')\n",
    "\n",
    "def cleanpunc(sentence):\n",
    "    cleaned = re.sub(r\"[?|!|\\'|\\\"|#]\", r\"\",sentence)\n",
    "    cleaned =  re.sub(r\"[.|,|)|(|\\|/]\",r\"\",cleaned)\n",
    "    return cleaned.lower()\n",
    "\n",
    "sentences = df['review'].values\n",
    "reviews = []\n",
    "for sent in sentences:\n",
    "    cleaned_sent = cleanpunc(sent)\n",
    "    sent_arr = cleaned_sent.split()\n",
    "    output_sent = ''\n",
    "    for word in sent_arr:\n",
    "        if word not in stop_words:\n",
    "            stemmed_word = sno.stem(word)\n",
    "            output_sent = output_sent + ' ' + stemmed_word\n",
    "    reviews.append(output_sent)\n",
    "\n",
    "reviews_texts = pd.DataFrame({'review_text': reviews})\n",
    "df = pd.concat([df,reviews_texts], axis=1)\n",
    "df.head()"
   ]
  },
  {
   "cell_type": "markdown",
   "metadata": {},
   "source": [
    "### We will select three features each time to perform predictions: \n",
    "### 1. feedback, color and reviews(Review_titles):"
   ]
  },
  {
   "cell_type": "code",
   "execution_count": 14,
   "metadata": {},
   "outputs": [
    {
     "data": {
      "text/html": [
       "<div>\n",
       "<style scoped>\n",
       "    .dataframe tbody tr th:only-of-type {\n",
       "        vertical-align: middle;\n",
       "    }\n",
       "\n",
       "    .dataframe tbody tr th {\n",
       "        vertical-align: top;\n",
       "    }\n",
       "\n",
       "    .dataframe thead th {\n",
       "        text-align: right;\n",
       "    }\n",
       "</style>\n",
       "<table border=\"1\" class=\"dataframe\">\n",
       "  <thead>\n",
       "    <tr style=\"text-align: right;\">\n",
       "      <th></th>\n",
       "      <th>feedback</th>\n",
       "      <th>reviews</th>\n",
       "      <th>Black</th>\n",
       "      <th>Black Camo</th>\n",
       "      <th>Blue</th>\n",
       "      <th>Camouflage</th>\n",
       "      <th>Gray</th>\n",
       "      <th>Green</th>\n",
       "      <th>Pink</th>\n",
       "      <th>Red</th>\n",
       "      <th>Sand</th>\n",
       "      <th>Teal</th>\n",
       "      <th>White</th>\n",
       "      <th>Yellow</th>\n",
       "    </tr>\n",
       "  </thead>\n",
       "  <tbody>\n",
       "    <tr>\n",
       "      <th>0</th>\n",
       "      <td>1</td>\n",
       "      <td>buy charg 3</td>\n",
       "      <td>0</td>\n",
       "      <td>0</td>\n",
       "      <td>0</td>\n",
       "      <td>0</td>\n",
       "      <td>1</td>\n",
       "      <td>0</td>\n",
       "      <td>0</td>\n",
       "      <td>0</td>\n",
       "      <td>0</td>\n",
       "      <td>0</td>\n",
       "      <td>0</td>\n",
       "      <td>0</td>\n",
       "    </tr>\n",
       "    <tr>\n",
       "      <th>1</th>\n",
       "      <td>1</td>\n",
       "      <td>jbl could make charger4 better nop dont</td>\n",
       "      <td>1</td>\n",
       "      <td>0</td>\n",
       "      <td>0</td>\n",
       "      <td>0</td>\n",
       "      <td>0</td>\n",
       "      <td>0</td>\n",
       "      <td>0</td>\n",
       "      <td>0</td>\n",
       "      <td>0</td>\n",
       "      <td>0</td>\n",
       "      <td>0</td>\n",
       "      <td>0</td>\n",
       "    </tr>\n",
       "    <tr>\n",
       "      <th>2</th>\n",
       "      <td>1</td>\n",
       "      <td>sound great plenti colum</td>\n",
       "      <td>1</td>\n",
       "      <td>0</td>\n",
       "      <td>0</td>\n",
       "      <td>0</td>\n",
       "      <td>0</td>\n",
       "      <td>0</td>\n",
       "      <td>0</td>\n",
       "      <td>0</td>\n",
       "      <td>0</td>\n",
       "      <td>0</td>\n",
       "      <td>0</td>\n",
       "      <td>0</td>\n",
       "    </tr>\n",
       "    <tr>\n",
       "      <th>3</th>\n",
       "      <td>1</td>\n",
       "      <td>depth review jbl charg 4</td>\n",
       "      <td>0</td>\n",
       "      <td>0</td>\n",
       "      <td>0</td>\n",
       "      <td>0</td>\n",
       "      <td>1</td>\n",
       "      <td>0</td>\n",
       "      <td>0</td>\n",
       "      <td>0</td>\n",
       "      <td>0</td>\n",
       "      <td>0</td>\n",
       "      <td>0</td>\n",
       "      <td>0</td>\n",
       "    </tr>\n",
       "    <tr>\n",
       "      <th>4</th>\n",
       "      <td>1</td>\n",
       "      <td>awesom sound well see long last</td>\n",
       "      <td>0</td>\n",
       "      <td>0</td>\n",
       "      <td>0</td>\n",
       "      <td>0</td>\n",
       "      <td>0</td>\n",
       "      <td>0</td>\n",
       "      <td>0</td>\n",
       "      <td>1</td>\n",
       "      <td>0</td>\n",
       "      <td>0</td>\n",
       "      <td>0</td>\n",
       "      <td>0</td>\n",
       "    </tr>\n",
       "  </tbody>\n",
       "</table>\n",
       "</div>"
      ],
      "text/plain": [
       "   feedback                                   reviews   Black   Black Camo  \\\n",
       "0         1                               buy charg 3       0            0   \n",
       "1         1   jbl could make charger4 better nop dont       1            0   \n",
       "2         1                  sound great plenti colum       1            0   \n",
       "3         1                  depth review jbl charg 4       0            0   \n",
       "4         1           awesom sound well see long last       0            0   \n",
       "\n",
       "    Blue   Camouflage   Gray   Green   Pink   Red   Sand   Teal   White  \\\n",
       "0      0            0      1       0      0     0      0      0       0   \n",
       "1      0            0      0       0      0     0      0      0       0   \n",
       "2      0            0      0       0      0     0      0      0       0   \n",
       "3      0            0      1       0      0     0      0      0       0   \n",
       "4      0            0      0       0      0     1      0      0       0   \n",
       "\n",
       "    Yellow  \n",
       "0        0  \n",
       "1        0  \n",
       "2        0  \n",
       "3        0  \n",
       "4        0  "
      ]
     },
     "execution_count": 14,
     "metadata": {},
     "output_type": "execute_result"
    }
   ],
   "source": [
    "crf = df[['color', 'feedback', 'reviews']]\n",
    "from sklearn.utils import resample\n",
    "data_majority = crf[df.feedback == 1]\n",
    "data_minority = crf[df.feedback == 0]\n",
    "data_minority_upsampled = resample(data_minority,\n",
    "                                   replace=True,n_samples=2500,random_state=123)\n",
    "data_upsampled = pd.concat([data_majority, data_minority_upsampled])\n",
    "crffinal = pd.concat([data_upsampled,\n",
    "                   pd.get_dummies(data_upsampled['color'],sparse=True)], axis=1)\n",
    "\n",
    "crffinal.shape\n",
    "\n",
    "crffinal.drop(['color'], axis=1, inplace=True)\n",
    "crffinal.head()"
   ]
  },
  {
   "cell_type": "markdown",
   "metadata": {},
   "source": [
    "Vectorizing the review titles:"
   ]
  },
  {
   "cell_type": "code",
   "execution_count": 15,
   "metadata": {},
   "outputs": [
    {
     "name": "stdout",
     "output_type": "stream",
     "text": [
      "(2527, 2155)\n",
      "(2527, 14)\n"
     ]
    }
   ],
   "source": [
    "count_vect = CountVectorizer(ngram_range=(1,2))\n",
    "final_counts = count_vect.fit_transform(crffinal['reviews'].values)\n",
    "print(final_counts.get_shape())\n",
    "print(crffinal.shape)\n",
    "crffinal.drop(['reviews'],axis=1,inplace=True)"
   ]
  },
  {
   "cell_type": "code",
   "execution_count": 16,
   "metadata": {},
   "outputs": [],
   "source": [
    "rev_df = pd.DataFrame(final_counts.todense(),columns=count_vect.get_feature_names())"
   ]
  },
  {
   "cell_type": "code",
   "execution_count": 17,
   "metadata": {},
   "outputs": [
    {
     "data": {
      "text/plain": [
       "(2527, 2155)"
      ]
     },
     "execution_count": 17,
     "metadata": {},
     "output_type": "execute_result"
    }
   ],
   "source": [
    "rev_df.shape"
   ]
  },
  {
   "cell_type": "code",
   "execution_count": 18,
   "metadata": {},
   "outputs": [],
   "source": [
    "crffinal.reset_index(inplace=True, drop=True)\n",
    "crffinal_df = pd.concat([crffinal,rev_df], axis=1)"
   ]
  },
  {
   "cell_type": "code",
   "execution_count": 19,
   "metadata": {},
   "outputs": [
    {
     "data": {
      "text/plain": [
       "(2527, 2168)"
      ]
     },
     "execution_count": 19,
     "metadata": {},
     "output_type": "execute_result"
    }
   ],
   "source": [
    "crffinal_df.shape"
   ]
  },
  {
   "cell_type": "markdown",
   "metadata": {},
   "source": [
    "##### Seperate dependent and independent Features :"
   ]
  },
  {
   "cell_type": "code",
   "execution_count": 20,
   "metadata": {},
   "outputs": [],
   "source": [
    "X = crffinal_df.iloc[:,1:].values\n",
    "y = np.ravel(crffinal_df.iloc[:,0:1].values)"
   ]
  },
  {
   "cell_type": "markdown",
   "metadata": {},
   "source": [
    "##### Split data into Train and Test:"
   ]
  },
  {
   "cell_type": "code",
   "execution_count": 21,
   "metadata": {},
   "outputs": [],
   "source": [
    "X_train, X_test, y_train, y_test = train_test_split(X, y, test_size=0.33, random_state=123)"
   ]
  },
  {
   "cell_type": "markdown",
   "metadata": {},
   "source": [
    "##### Training the model with GridSearchCV to find optimal Hyperparameter:"
   ]
  },
  {
   "cell_type": "code",
   "execution_count": 22,
   "metadata": {},
   "outputs": [
    {
     "name": "stdout",
     "output_type": "stream",
     "text": [
      "MultinomialNB(alpha=10, class_prior=None, fit_prior=True)\n"
     ]
    }
   ],
   "source": [
    "clf = MultinomialNB()\n",
    "param_disb = { 'alpha': [10**-4,10**-3,10**-2,10**-1,10,1,10**2,10**3,10**4]}\n",
    "search = GridSearchCV(clf, param_grid=param_disb, cv=5)\n",
    "search.fit(X_train,y_train)\n",
    "\n",
    "print(search.best_estimator_)"
   ]
  },
  {
   "cell_type": "markdown",
   "metadata": {},
   "source": [
    "##### Training and Testing the model with optimal Hyperparameter:"
   ]
  },
  {
   "cell_type": "code",
   "execution_count": 23,
   "metadata": {},
   "outputs": [
    {
     "name": "stdout",
     "output_type": "stream",
     "text": [
      "[[824   0]\n",
      " [ 10   0]]\n",
      "Accuracy Score -> 0.988009592326139\n"
     ]
    }
   ],
   "source": [
    "clf = MultinomialNB(alpha=10, class_prior=None, fit_prior=True)\n",
    "clf. fit(X_train, y_train)\n",
    "print(confusion_matrix(y_test, clf.predict(X_test)))\n",
    "print(f\"Accuracy Score -> {clf.score(X_test,y_test)}\")"
   ]
  },
  {
   "cell_type": "markdown",
   "metadata": {},
   "source": [
    "### 2. rating, color and review_titles (reviews):"
   ]
  },
  {
   "cell_type": "code",
   "execution_count": 37,
   "metadata": {},
   "outputs": [
    {
     "data": {
      "text/html": [
       "<div>\n",
       "<style scoped>\n",
       "    .dataframe tbody tr th:only-of-type {\n",
       "        vertical-align: middle;\n",
       "    }\n",
       "\n",
       "    .dataframe tbody tr th {\n",
       "        vertical-align: top;\n",
       "    }\n",
       "\n",
       "    .dataframe thead th {\n",
       "        text-align: right;\n",
       "    }\n",
       "</style>\n",
       "<table border=\"1\" class=\"dataframe\">\n",
       "  <thead>\n",
       "    <tr style=\"text-align: right;\">\n",
       "      <th></th>\n",
       "      <th>rating</th>\n",
       "      <th>reviews</th>\n",
       "      <th>Black</th>\n",
       "      <th>Black Camo</th>\n",
       "      <th>Blue</th>\n",
       "      <th>Camouflage</th>\n",
       "      <th>Gray</th>\n",
       "      <th>Green</th>\n",
       "      <th>Pink</th>\n",
       "      <th>Red</th>\n",
       "      <th>Sand</th>\n",
       "      <th>Teal</th>\n",
       "      <th>White</th>\n",
       "      <th>Yellow</th>\n",
       "    </tr>\n",
       "  </thead>\n",
       "  <tbody>\n",
       "    <tr>\n",
       "      <th>2</th>\n",
       "      <td>5.0</td>\n",
       "      <td>sound great plenti colum</td>\n",
       "      <td>1</td>\n",
       "      <td>0</td>\n",
       "      <td>0</td>\n",
       "      <td>0</td>\n",
       "      <td>0</td>\n",
       "      <td>0</td>\n",
       "      <td>0</td>\n",
       "      <td>0</td>\n",
       "      <td>0</td>\n",
       "      <td>0</td>\n",
       "      <td>0</td>\n",
       "      <td>0</td>\n",
       "    </tr>\n",
       "    <tr>\n",
       "      <th>3</th>\n",
       "      <td>5.0</td>\n",
       "      <td>depth review jbl charg 4</td>\n",
       "      <td>0</td>\n",
       "      <td>0</td>\n",
       "      <td>0</td>\n",
       "      <td>0</td>\n",
       "      <td>1</td>\n",
       "      <td>0</td>\n",
       "      <td>0</td>\n",
       "      <td>0</td>\n",
       "      <td>0</td>\n",
       "      <td>0</td>\n",
       "      <td>0</td>\n",
       "      <td>0</td>\n",
       "    </tr>\n",
       "    <tr>\n",
       "      <th>5</th>\n",
       "      <td>5.0</td>\n",
       "      <td>good product speakerphon</td>\n",
       "      <td>1</td>\n",
       "      <td>0</td>\n",
       "      <td>0</td>\n",
       "      <td>0</td>\n",
       "      <td>0</td>\n",
       "      <td>0</td>\n",
       "      <td>0</td>\n",
       "      <td>0</td>\n",
       "      <td>0</td>\n",
       "      <td>0</td>\n",
       "      <td>0</td>\n",
       "      <td>0</td>\n",
       "    </tr>\n",
       "    <tr>\n",
       "      <th>6</th>\n",
       "      <td>5.0</td>\n",
       "      <td>love jbl harman</td>\n",
       "      <td>1</td>\n",
       "      <td>0</td>\n",
       "      <td>0</td>\n",
       "      <td>0</td>\n",
       "      <td>0</td>\n",
       "      <td>0</td>\n",
       "      <td>0</td>\n",
       "      <td>0</td>\n",
       "      <td>0</td>\n",
       "      <td>0</td>\n",
       "      <td>0</td>\n",
       "      <td>0</td>\n",
       "    </tr>\n",
       "    <tr>\n",
       "      <th>10</th>\n",
       "      <td>5.0</td>\n",
       "      <td>sound great plenti colum</td>\n",
       "      <td>1</td>\n",
       "      <td>0</td>\n",
       "      <td>0</td>\n",
       "      <td>0</td>\n",
       "      <td>0</td>\n",
       "      <td>0</td>\n",
       "      <td>0</td>\n",
       "      <td>0</td>\n",
       "      <td>0</td>\n",
       "      <td>0</td>\n",
       "      <td>0</td>\n",
       "      <td>0</td>\n",
       "    </tr>\n",
       "  </tbody>\n",
       "</table>\n",
       "</div>"
      ],
      "text/plain": [
       "    rating                    reviews   Black   Black Camo   Blue  \\\n",
       "2      5.0   sound great plenti colum       1            0      0   \n",
       "3      5.0   depth review jbl charg 4       0            0      0   \n",
       "5      5.0   good product speakerphon       1            0      0   \n",
       "6      5.0            love jbl harman       1            0      0   \n",
       "10     5.0   sound great plenti colum       1            0      0   \n",
       "\n",
       "     Camouflage   Gray   Green   Pink   Red   Sand   Teal   White   Yellow  \n",
       "2             0      0       0      0     0      0      0       0        0  \n",
       "3             0      1       0      0     0      0      0       0        0  \n",
       "5             0      0       0      0     0      0      0       0        0  \n",
       "6             0      0       0      0     0      0      0       0        0  \n",
       "10            0      0       0      0     0      0      0       0        0  "
      ]
     },
     "execution_count": 37,
     "metadata": {},
     "output_type": "execute_result"
    }
   ],
   "source": [
    "rcr = df[['color', 'rating', 'reviews']]\n",
    "from sklearn.utils import resample\n",
    "data_majority = rcr[df.rating == 5]\n",
    "data_minority = rcr[df.rating == 1]\n",
    "data_minority_upsampled = resample(data_minority,\n",
    "                                   replace=True,n_samples=2500,random_state=123)\n",
    "data_upsampled = pd.concat([data_majority, data_minority_upsampled])\n",
    "rcrfinal = pd.concat([data_upsampled,\n",
    "                   pd.get_dummies(data_upsampled['color'],sparse=True)], axis=1)\n",
    "\n",
    "rcrfinal.shape\n",
    "\n",
    "rcrfinal.drop(['color'], axis=1, inplace=True)\n",
    "rcrfinal.head()"
   ]
  },
  {
   "cell_type": "markdown",
   "metadata": {},
   "source": [
    "Vectorizing the review titles:"
   ]
  },
  {
   "cell_type": "code",
   "execution_count": 38,
   "metadata": {},
   "outputs": [
    {
     "name": "stdout",
     "output_type": "stream",
     "text": [
      "(3833, 2072)\n",
      "(3833, 14)\n"
     ]
    }
   ],
   "source": [
    "count_vect = CountVectorizer(ngram_range=(1,2))\n",
    "final_counts = count_vect.fit_transform(rcrfinal['reviews'].values)\n",
    "print(final_counts.get_shape())\n",
    "print(rcrfinal.shape)\n",
    "rcrfinal.drop(['reviews'],axis=1,inplace=True)"
   ]
  },
  {
   "cell_type": "code",
   "execution_count": 44,
   "metadata": {},
   "outputs": [],
   "source": [
    "rev_df = pd.DataFrame(final_counts.todense(),columns=count_vect.get_feature_names())"
   ]
  },
  {
   "cell_type": "code",
   "execution_count": 45,
   "metadata": {},
   "outputs": [
    {
     "data": {
      "text/plain": [
       "(3833, 2072)"
      ]
     },
     "execution_count": 45,
     "metadata": {},
     "output_type": "execute_result"
    }
   ],
   "source": [
    "rev_df.shape"
   ]
  },
  {
   "cell_type": "code",
   "execution_count": 46,
   "metadata": {},
   "outputs": [],
   "source": [
    "rcrfinal.reset_index(inplace=True, drop=True)\n",
    "rcrfinal_df = pd.concat([rcrfinal,rev_df], axis=1)"
   ]
  },
  {
   "cell_type": "code",
   "execution_count": 47,
   "metadata": {},
   "outputs": [
    {
     "data": {
      "text/plain": [
       "(3833, 2085)"
      ]
     },
     "execution_count": 47,
     "metadata": {},
     "output_type": "execute_result"
    }
   ],
   "source": [
    "rcrfinal_df.shape"
   ]
  },
  {
   "cell_type": "markdown",
   "metadata": {},
   "source": [
    "##### Seperate dependent and independent Features :"
   ]
  },
  {
   "cell_type": "code",
   "execution_count": 48,
   "metadata": {},
   "outputs": [],
   "source": [
    "X = rcrfinal_df.iloc[:,1:].values\n",
    "y = np.ravel(rcrfinal_df.iloc[:,0:1].values)"
   ]
  },
  {
   "cell_type": "markdown",
   "metadata": {},
   "source": [
    "##### Split data into Train and Test:"
   ]
  },
  {
   "cell_type": "code",
   "execution_count": 49,
   "metadata": {},
   "outputs": [],
   "source": [
    "X_train, X_test, y_train, y_test = train_test_split(X, y, test_size=0.33, random_state=123)"
   ]
  },
  {
   "cell_type": "markdown",
   "metadata": {},
   "source": [
    "##### Training the model with GridSearchCV to find optimal Hyperparameter:"
   ]
  },
  {
   "cell_type": "code",
   "execution_count": 50,
   "metadata": {},
   "outputs": [
    {
     "name": "stdout",
     "output_type": "stream",
     "text": [
      "MultinomialNB(alpha=0.01, class_prior=None, fit_prior=True)\n"
     ]
    }
   ],
   "source": [
    "clf = MultinomialNB()\n",
    "param_disb = { 'alpha': [10**-4,10**-3,10**-2,10**-1,10,1,10**2,10**3,10**4]}\n",
    "search = GridSearchCV(clf, param_grid=param_disb, cv=5)\n",
    "search.fit(X_train,y_train)\n",
    "\n",
    "print(search.best_estimator_)"
   ]
  },
  {
   "cell_type": "markdown",
   "metadata": {},
   "source": [
    "##### Training and Testing the model with optimal Hyperparameter:"
   ]
  },
  {
   "cell_type": "code",
   "execution_count": 51,
   "metadata": {},
   "outputs": [
    {
     "name": "stdout",
     "output_type": "stream",
     "text": [
      "[[785  35]\n",
      " [ 42 403]]\n",
      "Accuracy Score -> 0.9391304347826087\n"
     ]
    }
   ],
   "source": [
    "clf = MultinomialNB(alpha=0.01, class_prior=None, fit_prior=True)\n",
    "clf. fit(X_train, y_train)\n",
    "print(confusion_matrix(y_test, clf.predict(X_test)))\n",
    "print(f\"Accuracy Score -> {clf.score(X_test,y_test)}\")"
   ]
  },
  {
   "cell_type": "markdown",
   "metadata": {},
   "source": [
    "### 3. awesome, color and review titles (reviews):"
   ]
  },
  {
   "cell_type": "code",
   "execution_count": 52,
   "metadata": {},
   "outputs": [
    {
     "data": {
      "text/html": [
       "<div>\n",
       "<style scoped>\n",
       "    .dataframe tbody tr th:only-of-type {\n",
       "        vertical-align: middle;\n",
       "    }\n",
       "\n",
       "    .dataframe tbody tr th {\n",
       "        vertical-align: top;\n",
       "    }\n",
       "\n",
       "    .dataframe thead th {\n",
       "        text-align: right;\n",
       "    }\n",
       "</style>\n",
       "<table border=\"1\" class=\"dataframe\">\n",
       "  <thead>\n",
       "    <tr style=\"text-align: right;\">\n",
       "      <th></th>\n",
       "      <th>awesome</th>\n",
       "      <th>reviews</th>\n",
       "      <th>Black</th>\n",
       "      <th>Black Camo</th>\n",
       "      <th>Blue</th>\n",
       "      <th>Camouflage</th>\n",
       "      <th>Gray</th>\n",
       "      <th>Green</th>\n",
       "      <th>Pink</th>\n",
       "      <th>Red</th>\n",
       "      <th>Sand</th>\n",
       "      <th>Teal</th>\n",
       "      <th>White</th>\n",
       "      <th>Yellow</th>\n",
       "    </tr>\n",
       "  </thead>\n",
       "  <tbody>\n",
       "    <tr>\n",
       "      <th>2</th>\n",
       "      <td>1</td>\n",
       "      <td>sound great plenti colum</td>\n",
       "      <td>1</td>\n",
       "      <td>0</td>\n",
       "      <td>0</td>\n",
       "      <td>0</td>\n",
       "      <td>0</td>\n",
       "      <td>0</td>\n",
       "      <td>0</td>\n",
       "      <td>0</td>\n",
       "      <td>0</td>\n",
       "      <td>0</td>\n",
       "      <td>0</td>\n",
       "      <td>0</td>\n",
       "    </tr>\n",
       "    <tr>\n",
       "      <th>3</th>\n",
       "      <td>1</td>\n",
       "      <td>depth review jbl charg 4</td>\n",
       "      <td>0</td>\n",
       "      <td>0</td>\n",
       "      <td>0</td>\n",
       "      <td>0</td>\n",
       "      <td>1</td>\n",
       "      <td>0</td>\n",
       "      <td>0</td>\n",
       "      <td>0</td>\n",
       "      <td>0</td>\n",
       "      <td>0</td>\n",
       "      <td>0</td>\n",
       "      <td>0</td>\n",
       "    </tr>\n",
       "    <tr>\n",
       "      <th>5</th>\n",
       "      <td>1</td>\n",
       "      <td>good product speakerphon</td>\n",
       "      <td>1</td>\n",
       "      <td>0</td>\n",
       "      <td>0</td>\n",
       "      <td>0</td>\n",
       "      <td>0</td>\n",
       "      <td>0</td>\n",
       "      <td>0</td>\n",
       "      <td>0</td>\n",
       "      <td>0</td>\n",
       "      <td>0</td>\n",
       "      <td>0</td>\n",
       "      <td>0</td>\n",
       "    </tr>\n",
       "    <tr>\n",
       "      <th>6</th>\n",
       "      <td>1</td>\n",
       "      <td>love jbl harman</td>\n",
       "      <td>1</td>\n",
       "      <td>0</td>\n",
       "      <td>0</td>\n",
       "      <td>0</td>\n",
       "      <td>0</td>\n",
       "      <td>0</td>\n",
       "      <td>0</td>\n",
       "      <td>0</td>\n",
       "      <td>0</td>\n",
       "      <td>0</td>\n",
       "      <td>0</td>\n",
       "      <td>0</td>\n",
       "    </tr>\n",
       "    <tr>\n",
       "      <th>10</th>\n",
       "      <td>1</td>\n",
       "      <td>sound great plenti colum</td>\n",
       "      <td>1</td>\n",
       "      <td>0</td>\n",
       "      <td>0</td>\n",
       "      <td>0</td>\n",
       "      <td>0</td>\n",
       "      <td>0</td>\n",
       "      <td>0</td>\n",
       "      <td>0</td>\n",
       "      <td>0</td>\n",
       "      <td>0</td>\n",
       "      <td>0</td>\n",
       "      <td>0</td>\n",
       "    </tr>\n",
       "  </tbody>\n",
       "</table>\n",
       "</div>"
      ],
      "text/plain": [
       "    awesome                    reviews   Black   Black Camo   Blue  \\\n",
       "2         1   sound great plenti colum       1            0      0   \n",
       "3         1   depth review jbl charg 4       0            0      0   \n",
       "5         1   good product speakerphon       1            0      0   \n",
       "6         1            love jbl harman       1            0      0   \n",
       "10        1   sound great plenti colum       1            0      0   \n",
       "\n",
       "     Camouflage   Gray   Green   Pink   Red   Sand   Teal   White   Yellow  \n",
       "2             0      0       0      0     0      0      0       0        0  \n",
       "3             0      1       0      0     0      0      0       0        0  \n",
       "5             0      0       0      0     0      0      0       0        0  \n",
       "6             0      0       0      0     0      0      0       0        0  \n",
       "10            0      0       0      0     0      0      0       0        0  "
      ]
     },
     "execution_count": 52,
     "metadata": {},
     "output_type": "execute_result"
    }
   ],
   "source": [
    "acr = df[['color', 'awesome', 'reviews']]\n",
    "from sklearn.utils import resample\n",
    "data_majority = acr[df.awesome == 1]\n",
    "data_minority = acr[df.awesome == 0]\n",
    "data_minority_upsampled = resample(data_minority,\n",
    "                                   replace=True,n_samples=2500,random_state=123)\n",
    "data_upsampled = pd.concat([data_majority, data_minority_upsampled])\n",
    "acrfinal = pd.concat([data_upsampled,\n",
    "                   pd.get_dummies(data_upsampled['color'],sparse=True)], axis=1)\n",
    "\n",
    "acrfinal.shape\n",
    "\n",
    "acrfinal.drop(['color'], axis=1, inplace=True)\n",
    "acrfinal.head()"
   ]
  },
  {
   "cell_type": "markdown",
   "metadata": {},
   "source": [
    "Vectorizing the review titles:"
   ]
  },
  {
   "cell_type": "code",
   "execution_count": 53,
   "metadata": {},
   "outputs": [
    {
     "name": "stdout",
     "output_type": "stream",
     "text": [
      "(3833, 2510)\n",
      "(3833, 14)\n"
     ]
    }
   ],
   "source": [
    "count_vect = CountVectorizer(ngram_range=(1,2))\n",
    "final_counts = count_vect.fit_transform(acrfinal['reviews'].values)\n",
    "print(final_counts.get_shape())\n",
    "print(acrfinal.shape)\n",
    "acrfinal.drop(['reviews'],axis=1,inplace=True)"
   ]
  },
  {
   "cell_type": "code",
   "execution_count": 54,
   "metadata": {},
   "outputs": [],
   "source": [
    "rev_df = pd.DataFrame(final_counts.todense(),columns=count_vect.get_feature_names())"
   ]
  },
  {
   "cell_type": "code",
   "execution_count": 55,
   "metadata": {},
   "outputs": [],
   "source": [
    "acrfinal.reset_index(inplace=True, drop=True)\n",
    "acrfinal_df = pd.concat([acrfinal,rev_df], axis=1)"
   ]
  },
  {
   "cell_type": "code",
   "execution_count": 56,
   "metadata": {},
   "outputs": [
    {
     "data": {
      "text/plain": [
       "(3833, 2523)"
      ]
     },
     "execution_count": 56,
     "metadata": {},
     "output_type": "execute_result"
    }
   ],
   "source": [
    "acrfinal_df.shape"
   ]
  },
  {
   "cell_type": "markdown",
   "metadata": {},
   "source": [
    "##### Seperate dependent and independent Features :"
   ]
  },
  {
   "cell_type": "code",
   "execution_count": 57,
   "metadata": {},
   "outputs": [],
   "source": [
    "X = acrfinal_df.iloc[:,1:].values\n",
    "y = np.ravel(acrfinal_df.iloc[:,0:1].values)"
   ]
  },
  {
   "cell_type": "markdown",
   "metadata": {},
   "source": [
    "##### Split data into Train and Test:"
   ]
  },
  {
   "cell_type": "code",
   "execution_count": 58,
   "metadata": {},
   "outputs": [],
   "source": [
    "X_train, X_test, y_train, y_test = train_test_split(X, y, test_size=0.33, random_state=123)"
   ]
  },
  {
   "cell_type": "markdown",
   "metadata": {},
   "source": [
    "##### Training the model with GridSearchCV to find optimal Hyperparameter:"
   ]
  },
  {
   "cell_type": "code",
   "execution_count": 59,
   "metadata": {},
   "outputs": [
    {
     "name": "stdout",
     "output_type": "stream",
     "text": [
      "MultinomialNB(alpha=0.01, class_prior=None, fit_prior=True)\n"
     ]
    }
   ],
   "source": [
    "clf = MultinomialNB()\n",
    "param_disb = { 'alpha': [10**-4,10**-3,10**-2,10**-1,10,1,10**2,10**3,10**4]}\n",
    "search = GridSearchCV(clf, param_grid=param_disb, cv=5)\n",
    "search.fit(X_train,y_train)\n",
    "\n",
    "print(search.best_estimator_)"
   ]
  },
  {
   "cell_type": "markdown",
   "metadata": {},
   "source": [
    "##### Training and Testing the model with optimal Hyperparameter:"
   ]
  },
  {
   "cell_type": "code",
   "execution_count": 60,
   "metadata": {},
   "outputs": [
    {
     "name": "stdout",
     "output_type": "stream",
     "text": [
      "[[744  76]\n",
      " [ 74 371]]\n",
      "Accuracy Score -> 0.8814229249011858\n"
     ]
    }
   ],
   "source": [
    "clf = MultinomialNB(alpha=0.01, class_prior=None, fit_prior=True)\n",
    "clf. fit(X_train, y_train)\n",
    "print(confusion_matrix(y_test, clf.predict(X_test)))\n",
    "print(f\"Accuracy Score -> {clf.score(X_test,y_test)}\")"
   ]
  },
  {
   "cell_type": "markdown",
   "metadata": {},
   "source": [
    "### 3. good, color and review titles (reviews):"
   ]
  },
  {
   "cell_type": "code",
   "execution_count": 61,
   "metadata": {},
   "outputs": [
    {
     "data": {
      "text/html": [
       "<div>\n",
       "<style scoped>\n",
       "    .dataframe tbody tr th:only-of-type {\n",
       "        vertical-align: middle;\n",
       "    }\n",
       "\n",
       "    .dataframe tbody tr th {\n",
       "        vertical-align: top;\n",
       "    }\n",
       "\n",
       "    .dataframe thead th {\n",
       "        text-align: right;\n",
       "    }\n",
       "</style>\n",
       "<table border=\"1\" class=\"dataframe\">\n",
       "  <thead>\n",
       "    <tr style=\"text-align: right;\">\n",
       "      <th></th>\n",
       "      <th>good</th>\n",
       "      <th>reviews</th>\n",
       "      <th>Black</th>\n",
       "      <th>Black Camo</th>\n",
       "      <th>Blue</th>\n",
       "      <th>Camouflage</th>\n",
       "      <th>Gray</th>\n",
       "      <th>Green</th>\n",
       "      <th>Pink</th>\n",
       "      <th>Red</th>\n",
       "      <th>Sand</th>\n",
       "      <th>Teal</th>\n",
       "      <th>White</th>\n",
       "      <th>Yellow</th>\n",
       "    </tr>\n",
       "  </thead>\n",
       "  <tbody>\n",
       "    <tr>\n",
       "      <th>2</th>\n",
       "      <td>1</td>\n",
       "      <td>sound great plenti colum</td>\n",
       "      <td>1</td>\n",
       "      <td>0</td>\n",
       "      <td>0</td>\n",
       "      <td>0</td>\n",
       "      <td>0</td>\n",
       "      <td>0</td>\n",
       "      <td>0</td>\n",
       "      <td>0</td>\n",
       "      <td>0</td>\n",
       "      <td>0</td>\n",
       "      <td>0</td>\n",
       "      <td>0</td>\n",
       "    </tr>\n",
       "    <tr>\n",
       "      <th>3</th>\n",
       "      <td>1</td>\n",
       "      <td>depth review jbl charg 4</td>\n",
       "      <td>0</td>\n",
       "      <td>0</td>\n",
       "      <td>0</td>\n",
       "      <td>0</td>\n",
       "      <td>1</td>\n",
       "      <td>0</td>\n",
       "      <td>0</td>\n",
       "      <td>0</td>\n",
       "      <td>0</td>\n",
       "      <td>0</td>\n",
       "      <td>0</td>\n",
       "      <td>0</td>\n",
       "    </tr>\n",
       "    <tr>\n",
       "      <th>5</th>\n",
       "      <td>1</td>\n",
       "      <td>good product speakerphon</td>\n",
       "      <td>1</td>\n",
       "      <td>0</td>\n",
       "      <td>0</td>\n",
       "      <td>0</td>\n",
       "      <td>0</td>\n",
       "      <td>0</td>\n",
       "      <td>0</td>\n",
       "      <td>0</td>\n",
       "      <td>0</td>\n",
       "      <td>0</td>\n",
       "      <td>0</td>\n",
       "      <td>0</td>\n",
       "    </tr>\n",
       "    <tr>\n",
       "      <th>6</th>\n",
       "      <td>1</td>\n",
       "      <td>love jbl harman</td>\n",
       "      <td>1</td>\n",
       "      <td>0</td>\n",
       "      <td>0</td>\n",
       "      <td>0</td>\n",
       "      <td>0</td>\n",
       "      <td>0</td>\n",
       "      <td>0</td>\n",
       "      <td>0</td>\n",
       "      <td>0</td>\n",
       "      <td>0</td>\n",
       "      <td>0</td>\n",
       "      <td>0</td>\n",
       "    </tr>\n",
       "    <tr>\n",
       "      <th>10</th>\n",
       "      <td>1</td>\n",
       "      <td>sound great plenti colum</td>\n",
       "      <td>1</td>\n",
       "      <td>0</td>\n",
       "      <td>0</td>\n",
       "      <td>0</td>\n",
       "      <td>0</td>\n",
       "      <td>0</td>\n",
       "      <td>0</td>\n",
       "      <td>0</td>\n",
       "      <td>0</td>\n",
       "      <td>0</td>\n",
       "      <td>0</td>\n",
       "      <td>0</td>\n",
       "    </tr>\n",
       "  </tbody>\n",
       "</table>\n",
       "</div>"
      ],
      "text/plain": [
       "    good                    reviews   Black   Black Camo   Blue   Camouflage  \\\n",
       "2      1   sound great plenti colum       1            0      0            0   \n",
       "3      1   depth review jbl charg 4       0            0      0            0   \n",
       "5      1   good product speakerphon       1            0      0            0   \n",
       "6      1            love jbl harman       1            0      0            0   \n",
       "10     1   sound great plenti colum       1            0      0            0   \n",
       "\n",
       "     Gray   Green   Pink   Red   Sand   Teal   White   Yellow  \n",
       "2       0       0      0     0      0      0       0        0  \n",
       "3       1       0      0     0      0      0       0        0  \n",
       "5       0       0      0     0      0      0       0        0  \n",
       "6       0       0      0     0      0      0       0        0  \n",
       "10      0       0      0     0      0      0       0        0  "
      ]
     },
     "execution_count": 61,
     "metadata": {},
     "output_type": "execute_result"
    }
   ],
   "source": [
    "gcr = df[['color', 'good', 'reviews']]\n",
    "from sklearn.utils import resample\n",
    "data_majority = gcr[df.awesome == 1]\n",
    "data_minority = gcr[df.awesome == 0]\n",
    "data_minority_upsampled = resample(data_minority,\n",
    "                                   replace=True,n_samples=2500,random_state=123)\n",
    "data_upsampled = pd.concat([data_majority, data_minority_upsampled])\n",
    "gcrfinal = pd.concat([data_upsampled,\n",
    "                   pd.get_dummies(data_upsampled['color'],sparse=True)], axis=1)\n",
    "\n",
    "gcrfinal.shape\n",
    "\n",
    "gcrfinal.drop(['color'], axis=1, inplace=True)\n",
    "gcrfinal.head()"
   ]
  },
  {
   "cell_type": "markdown",
   "metadata": {},
   "source": [
    "Vectorizing the review titles:"
   ]
  },
  {
   "cell_type": "code",
   "execution_count": 62,
   "metadata": {},
   "outputs": [
    {
     "name": "stdout",
     "output_type": "stream",
     "text": [
      "(3833, 2510)\n",
      "(3833, 14)\n"
     ]
    }
   ],
   "source": [
    "count_vect = CountVectorizer(ngram_range=(1,2))\n",
    "final_counts = count_vect.fit_transform(gcrfinal['reviews'].values)\n",
    "print(final_counts.get_shape())\n",
    "print(gcrfinal.shape)\n",
    "gcrfinal.drop(['reviews'],axis=1,inplace=True)"
   ]
  },
  {
   "cell_type": "code",
   "execution_count": 63,
   "metadata": {},
   "outputs": [],
   "source": [
    "rev_df = pd.DataFrame(final_counts.todense(),columns=count_vect.get_feature_names())"
   ]
  },
  {
   "cell_type": "code",
   "execution_count": 64,
   "metadata": {},
   "outputs": [],
   "source": [
    "gcrfinal.reset_index(inplace=True, drop=True)\n",
    "gcrfinal_df = pd.concat([gcrfinal,rev_df], axis=1)"
   ]
  },
  {
   "cell_type": "code",
   "execution_count": 65,
   "metadata": {},
   "outputs": [
    {
     "data": {
      "text/plain": [
       "(3833, 2523)"
      ]
     },
     "execution_count": 65,
     "metadata": {},
     "output_type": "execute_result"
    }
   ],
   "source": [
    "gcrfinal_df.shape"
   ]
  },
  {
   "cell_type": "markdown",
   "metadata": {},
   "source": [
    "##### Seperate dependent and independent Features :"
   ]
  },
  {
   "cell_type": "code",
   "execution_count": 66,
   "metadata": {},
   "outputs": [],
   "source": [
    "X = gcrfinal_df.iloc[:,1:].values\n",
    "y = np.ravel(gcrfinal_df.iloc[:,0:1].values)"
   ]
  },
  {
   "cell_type": "markdown",
   "metadata": {},
   "source": [
    "##### Split data into Train and Test:"
   ]
  },
  {
   "cell_type": "code",
   "execution_count": 67,
   "metadata": {},
   "outputs": [],
   "source": [
    "X_train, X_test, y_train, y_test = train_test_split(X, y, test_size=0.33, random_state=123)"
   ]
  },
  {
   "cell_type": "markdown",
   "metadata": {},
   "source": [
    "##### Training the model with GridSearchCV to find optimal Hyperparameter:"
   ]
  },
  {
   "cell_type": "code",
   "execution_count": 68,
   "metadata": {},
   "outputs": [
    {
     "name": "stdout",
     "output_type": "stream",
     "text": [
      "MultinomialNB(alpha=0.0001, class_prior=None, fit_prior=True)\n"
     ]
    }
   ],
   "source": [
    "clf = MultinomialNB()\n",
    "param_disb = { 'alpha': [10**-4,10**-3,10**-2,10**-1,10,1,10**2,10**3,10**4]}\n",
    "search = GridSearchCV(clf, param_grid=param_disb, cv=5)\n",
    "search.fit(X_train,y_train)\n",
    "\n",
    "print(search.best_estimator_)"
   ]
  },
  {
   "cell_type": "markdown",
   "metadata": {},
   "source": [
    "##### Training and Testing the model with optimal Hyperparameter:"
   ]
  },
  {
   "cell_type": "code",
   "execution_count": 69,
   "metadata": {},
   "outputs": [
    {
     "name": "stdout",
     "output_type": "stream",
     "text": [
      "[[332  22]\n",
      " [ 51 860]]\n",
      "Accuracy Score -> 0.9422924901185771\n"
     ]
    }
   ],
   "source": [
    "clf = MultinomialNB(alpha=0.0001, class_prior=None, fit_prior=True)\n",
    "clf. fit(X_train, y_train)\n",
    "print(confusion_matrix(y_test, clf.predict(X_test)))\n",
    "print(f\"Accuracy Score -> {clf.score(X_test,y_test)}\")"
   ]
  },
  {
   "cell_type": "markdown",
   "metadata": {},
   "source": [
    "The feedback feature was predicted with the highest precision. \n",
    "\n",
    "We will also try to use the text of the reviews rather than their titles with awesome to see how the precision will change."
   ]
  },
  {
   "cell_type": "markdown",
   "metadata": {},
   "source": [
    "### 4. Selecting awesome, color and review texts as features:"
   ]
  },
  {
   "cell_type": "code",
   "execution_count": 70,
   "metadata": {},
   "outputs": [
    {
     "data": {
      "text/html": [
       "<div>\n",
       "<style scoped>\n",
       "    .dataframe tbody tr th:only-of-type {\n",
       "        vertical-align: middle;\n",
       "    }\n",
       "\n",
       "    .dataframe tbody tr th {\n",
       "        vertical-align: top;\n",
       "    }\n",
       "\n",
       "    .dataframe thead th {\n",
       "        text-align: right;\n",
       "    }\n",
       "</style>\n",
       "<table border=\"1\" class=\"dataframe\">\n",
       "  <thead>\n",
       "    <tr style=\"text-align: right;\">\n",
       "      <th></th>\n",
       "      <th>awesome</th>\n",
       "      <th>review_text</th>\n",
       "      <th>Black</th>\n",
       "      <th>Black Camo</th>\n",
       "      <th>Blue</th>\n",
       "      <th>Camouflage</th>\n",
       "      <th>Gray</th>\n",
       "      <th>Green</th>\n",
       "      <th>Pink</th>\n",
       "      <th>Red</th>\n",
       "      <th>Sand</th>\n",
       "      <th>Teal</th>\n",
       "      <th>White</th>\n",
       "      <th>Yellow</th>\n",
       "    </tr>\n",
       "  </thead>\n",
       "  <tbody>\n",
       "    <tr>\n",
       "      <th>2</th>\n",
       "      <td>1</td>\n",
       "      <td>ive use jbl flip 2 past coupl year felt confi...</td>\n",
       "      <td>1</td>\n",
       "      <td>0</td>\n",
       "      <td>0</td>\n",
       "      <td>0</td>\n",
       "      <td>0</td>\n",
       "      <td>0</td>\n",
       "      <td>0</td>\n",
       "      <td>0</td>\n",
       "      <td>0</td>\n",
       "      <td>0</td>\n",
       "      <td>0</td>\n",
       "      <td>0</td>\n",
       "    </tr>\n",
       "    <tr>\n",
       "      <th>3</th>\n",
       "      <td>1</td>\n",
       "      <td>jbl charg 4 great product found initi disappo...</td>\n",
       "      <td>0</td>\n",
       "      <td>0</td>\n",
       "      <td>0</td>\n",
       "      <td>0</td>\n",
       "      <td>1</td>\n",
       "      <td>0</td>\n",
       "      <td>0</td>\n",
       "      <td>0</td>\n",
       "      <td>0</td>\n",
       "      <td>0</td>\n",
       "      <td>0</td>\n",
       "      <td>0</td>\n",
       "    </tr>\n",
       "    <tr>\n",
       "      <th>5</th>\n",
       "      <td>1</td>\n",
       "      <td>bought last week speaker sound qualiti &amp; volu...</td>\n",
       "      <td>1</td>\n",
       "      <td>0</td>\n",
       "      <td>0</td>\n",
       "      <td>0</td>\n",
       "      <td>0</td>\n",
       "      <td>0</td>\n",
       "      <td>0</td>\n",
       "      <td>0</td>\n",
       "      <td>0</td>\n",
       "      <td>0</td>\n",
       "      <td>0</td>\n",
       "      <td>0</td>\n",
       "    </tr>\n",
       "    <tr>\n",
       "      <th>6</th>\n",
       "      <td>1</td>\n",
       "      <td>alway buy jbl great product also warranti via...</td>\n",
       "      <td>1</td>\n",
       "      <td>0</td>\n",
       "      <td>0</td>\n",
       "      <td>0</td>\n",
       "      <td>0</td>\n",
       "      <td>0</td>\n",
       "      <td>0</td>\n",
       "      <td>0</td>\n",
       "      <td>0</td>\n",
       "      <td>0</td>\n",
       "      <td>0</td>\n",
       "      <td>0</td>\n",
       "    </tr>\n",
       "    <tr>\n",
       "      <th>10</th>\n",
       "      <td>1</td>\n",
       "      <td>ive use jbl flip 2 past coupl year felt confi...</td>\n",
       "      <td>1</td>\n",
       "      <td>0</td>\n",
       "      <td>0</td>\n",
       "      <td>0</td>\n",
       "      <td>0</td>\n",
       "      <td>0</td>\n",
       "      <td>0</td>\n",
       "      <td>0</td>\n",
       "      <td>0</td>\n",
       "      <td>0</td>\n",
       "      <td>0</td>\n",
       "      <td>0</td>\n",
       "    </tr>\n",
       "  </tbody>\n",
       "</table>\n",
       "</div>"
      ],
      "text/plain": [
       "    awesome                                        review_text   Black  \\\n",
       "2         1   ive use jbl flip 2 past coupl year felt confi...       1   \n",
       "3         1   jbl charg 4 great product found initi disappo...       0   \n",
       "5         1   bought last week speaker sound qualiti & volu...       1   \n",
       "6         1   alway buy jbl great product also warranti via...       1   \n",
       "10        1   ive use jbl flip 2 past coupl year felt confi...       1   \n",
       "\n",
       "     Black Camo   Blue   Camouflage   Gray   Green   Pink   Red   Sand   Teal  \\\n",
       "2             0      0            0      0       0      0     0      0      0   \n",
       "3             0      0            0      1       0      0     0      0      0   \n",
       "5             0      0            0      0       0      0     0      0      0   \n",
       "6             0      0            0      0       0      0     0      0      0   \n",
       "10            0      0            0      0       0      0     0      0      0   \n",
       "\n",
       "     White   Yellow  \n",
       "2        0        0  \n",
       "3        0        0  \n",
       "5        0        0  \n",
       "6        0        0  \n",
       "10       0        0  "
      ]
     },
     "execution_count": 70,
     "metadata": {},
     "output_type": "execute_result"
    }
   ],
   "source": [
    "fcrt = df[['color', 'awesome', 'review_text']]\n",
    "from sklearn.utils import resample\n",
    "data_majority = fcrt[df.awesome == 1]\n",
    "data_minority = fcrt[df.awesome == 0]\n",
    "data_minority_upsampled = resample(data_minority,\n",
    "                                   replace=True,n_samples=2500,random_state=123)\n",
    "data_upsampled = pd.concat([data_majority, data_minority_upsampled])\n",
    "fcrtfinal = pd.concat([data_upsampled,\n",
    "                   pd.get_dummies(data_upsampled['color'],sparse=True)], axis=1)\n",
    "\n",
    "fcrtfinal.shape\n",
    "\n",
    "fcrtfinal.drop(['color'], axis=1, inplace=True)\n",
    "fcrtfinal.head()"
   ]
  },
  {
   "cell_type": "markdown",
   "metadata": {},
   "source": [
    "Vectorizing the review texts:"
   ]
  },
  {
   "cell_type": "code",
   "execution_count": 71,
   "metadata": {},
   "outputs": [
    {
     "name": "stdout",
     "output_type": "stream",
     "text": [
      "(3833, 18848)\n",
      "(3833, 14)\n"
     ]
    }
   ],
   "source": [
    "count_vect = CountVectorizer(ngram_range=(1,2))\n",
    "final_counts = count_vect.fit_transform(fcrtfinal['review_text'].values)\n",
    "print(final_counts.get_shape())\n",
    "print(fcrtfinal.shape)\n",
    "fcrtfinal.drop(['review_text'],axis=1,inplace=True)"
   ]
  },
  {
   "cell_type": "code",
   "execution_count": 72,
   "metadata": {},
   "outputs": [],
   "source": [
    "rev_df = pd.DataFrame(final_counts.todense(),columns=count_vect.get_feature_names())"
   ]
  },
  {
   "cell_type": "code",
   "execution_count": 73,
   "metadata": {},
   "outputs": [],
   "source": [
    "fcrtfinal.reset_index(inplace=True, drop=True)\n",
    "fcrtfinal_df = pd.concat([fcrtfinal,rev_df], axis=1)"
   ]
  },
  {
   "cell_type": "code",
   "execution_count": 74,
   "metadata": {},
   "outputs": [
    {
     "data": {
      "text/plain": [
       "(3833, 18861)"
      ]
     },
     "execution_count": 74,
     "metadata": {},
     "output_type": "execute_result"
    }
   ],
   "source": [
    "fcrtfinal_df.shape"
   ]
  },
  {
   "cell_type": "markdown",
   "metadata": {},
   "source": [
    "##### Seperate dependent and independent Features :"
   ]
  },
  {
   "cell_type": "code",
   "execution_count": 75,
   "metadata": {},
   "outputs": [],
   "source": [
    "X = fcrtfinal_df.iloc[:,1:].values\n",
    "y = np.ravel(fcrtfinal_df.iloc[:,0:1].values)"
   ]
  },
  {
   "cell_type": "markdown",
   "metadata": {},
   "source": [
    "##### Split data into Train and Test:"
   ]
  },
  {
   "cell_type": "code",
   "execution_count": 76,
   "metadata": {},
   "outputs": [],
   "source": [
    "X_train, X_test, y_train, y_test = train_test_split(X, y, test_size=0.33, random_state=123)"
   ]
  },
  {
   "cell_type": "markdown",
   "metadata": {},
   "source": [
    "##### Training the model with GridSearchCV to find optimal Hyperparameter:\n",
    "\n"
   ]
  },
  {
   "cell_type": "code",
   "execution_count": 77,
   "metadata": {},
   "outputs": [
    {
     "name": "stdout",
     "output_type": "stream",
     "text": [
      "MultinomialNB(alpha=0.01, class_prior=None, fit_prior=True)\n"
     ]
    }
   ],
   "source": [
    "clf = MultinomialNB()\n",
    "param_disb = { 'alpha': [10**-4,10**-3,10**-2,10**-1,10,1,10**2,10**3,10**4]}\n",
    "search = GridSearchCV(clf, param_grid=param_disb, cv=5)\n",
    "search.fit(X_train,y_train)\n",
    "\n",
    "print(search.best_estimator_)"
   ]
  },
  {
   "cell_type": "markdown",
   "metadata": {},
   "source": [
    "##### Training and Testing the model with optimal Hyperparameter:"
   ]
  },
  {
   "cell_type": "code",
   "execution_count": 78,
   "metadata": {},
   "outputs": [
    {
     "name": "stdout",
     "output_type": "stream",
     "text": [
      "[[754  66]\n",
      " [ 13 432]]\n",
      "Accuracy Score -> 0.9375494071146245\n"
     ]
    }
   ],
   "source": [
    "clf = MultinomialNB(alpha=0.01, class_prior=None, fit_prior=True)\n",
    "clf. fit(X_train, y_train)\n",
    "print(confusion_matrix(y_test, clf.predict(X_test)))\n",
    "print(f\"Accuracy Score -> {clf.score(X_test,y_test)}\")"
   ]
  },
  {
   "cell_type": "markdown",
   "metadata": {},
   "source": [
    "When using the review text instead of the review title better precision was obtained for awesome (0.93 in comparison to 0.88)."
   ]
  },
  {
   "cell_type": "markdown",
   "metadata": {},
   "source": [
    "### For the final step we will remove the color feature as it may not have much impact on the review and will consider both review titles and review texts alongside awesome:"
   ]
  },
  {
   "cell_type": "code",
   "execution_count": 83,
   "metadata": {},
   "outputs": [],
   "source": [
    "fcrt = df[['awesome', 'review', 'review_text']]\n",
    "from sklearn.utils import resample\n",
    "data_majority = fcrt[df.awesome == 1]\n",
    "data_minority = fcrt[df.awesome == 0]\n",
    "data_minority_upsampled = resample(data_minority,\n",
    "                                   replace=True,n_samples=2500,random_state=123)\n",
    "\n",
    "final = pd.concat([data_majority, data_minority_upsampled])\n"
   ]
  },
  {
   "cell_type": "markdown",
   "metadata": {},
   "source": [
    "Vectorizing the review texts:"
   ]
  },
  {
   "cell_type": "code",
   "execution_count": 84,
   "metadata": {},
   "outputs": [
    {
     "name": "stdout",
     "output_type": "stream",
     "text": [
      "(3833, 18848)\n",
      "(3833, 3)\n"
     ]
    }
   ],
   "source": [
    "count_vect = CountVectorizer(ngram_range=(1,2))\n",
    "final_counts = count_vect.fit_transform(final['review_text'].values)\n",
    "print(final_counts.get_shape())\n",
    "print(final.shape)\n",
    "final.drop(['review_text'],axis=1,inplace=True)"
   ]
  },
  {
   "cell_type": "code",
   "execution_count": 85,
   "metadata": {},
   "outputs": [
    {
     "name": "stdout",
     "output_type": "stream",
     "text": [
      "(3833, 24713)\n",
      "(3833, 2)\n"
     ]
    }
   ],
   "source": [
    "count_vect = CountVectorizer(ngram_range=(1,2))\n",
    "final_counts = count_vect.fit_transform(final['review'].values)\n",
    "print(final_counts.get_shape())\n",
    "print(final.shape)\n",
    "final.drop(['review'],axis=1,inplace=True)"
   ]
  },
  {
   "cell_type": "code",
   "execution_count": 86,
   "metadata": {},
   "outputs": [],
   "source": [
    "rev_df = pd.DataFrame(final_counts.todense(),columns=count_vect.get_feature_names())"
   ]
  },
  {
   "cell_type": "markdown",
   "metadata": {},
   "source": [
    "##### Seperate dependent and independent Features :"
   ]
  },
  {
   "cell_type": "code",
   "execution_count": 87,
   "metadata": {},
   "outputs": [],
   "source": [
    "X = fcrtfinal_df.iloc[:,1:].values\n",
    "y = np.ravel(fcrtfinal_df.iloc[:,0:1].values)"
   ]
  },
  {
   "cell_type": "markdown",
   "metadata": {},
   "source": [
    "##### Split data into Train and Test:"
   ]
  },
  {
   "cell_type": "code",
   "execution_count": 88,
   "metadata": {},
   "outputs": [],
   "source": [
    "X_train, X_test, y_train, y_test = train_test_split(X, y, test_size=0.33, random_state=123)"
   ]
  },
  {
   "cell_type": "markdown",
   "metadata": {},
   "source": [
    "##### Training the model with GridSearchCV to find optimal Hyperparameter:"
   ]
  },
  {
   "cell_type": "code",
   "execution_count": 89,
   "metadata": {},
   "outputs": [
    {
     "name": "stdout",
     "output_type": "stream",
     "text": [
      "MultinomialNB(alpha=0.01, class_prior=None, fit_prior=True)\n"
     ]
    }
   ],
   "source": [
    "clf = MultinomialNB()\n",
    "param_disb = { 'alpha': [10**-4,10**-3,10**-2,10**-1,10,1,10**2,10**3,10**4]}\n",
    "search = GridSearchCV(clf, param_grid=param_disb, cv=5)\n",
    "search.fit(X_train,y_train)\n",
    "\n",
    "print(search.best_estimator_)"
   ]
  },
  {
   "cell_type": "markdown",
   "metadata": {},
   "source": [
    "##### Training and Testing the model with optimal Hyperparameter:"
   ]
  },
  {
   "cell_type": "code",
   "execution_count": 91,
   "metadata": {},
   "outputs": [
    {
     "name": "stdout",
     "output_type": "stream",
     "text": [
      "[[754  66]\n",
      " [ 13 432]]\n",
      "Accuracy Score -> 0.9375494071146245\n"
     ]
    }
   ],
   "source": [
    "clf = MultinomialNB(alpha=0.01, class_prior=None, fit_prior=True)\n",
    "clf. fit(X_train, y_train)\n",
    "print(confusion_matrix(y_test, clf.predict(X_test)))\n",
    "print(f\"Accuracy Score -> {clf.score(X_test,y_test)}\")"
   ]
  },
  {
   "cell_type": "markdown",
   "metadata": {},
   "source": [
    "When considering both review titles and review texts the percision and the confusion matrix turns to be identical to when using only review titles alongside color."
   ]
  }
 ],
 "metadata": {
  "kernelspec": {
   "display_name": "Python 3",
   "language": "python",
   "name": "python3"
  },
  "language_info": {
   "codemirror_mode": {
    "name": "ipython",
    "version": 3
   },
   "file_extension": ".py",
   "mimetype": "text/x-python",
   "name": "python",
   "nbconvert_exporter": "python",
   "pygments_lexer": "ipython3",
   "version": "3.7.3"
  }
 },
 "nbformat": 4,
 "nbformat_minor": 2
}
