{
 "cells": [
  {
   "cell_type": "markdown",
   "metadata": {},
   "source": [
    "## Sentiment Analysis of Amazon reviews for BD Coffee make"
   ]
  },
  {
   "cell_type": "markdown",
   "metadata": {},
   "source": [
    "In this notebook, the reviews from Amazon on Black and Decker Coffee Maker analyzed. "
   ]
  },
  {
   "cell_type": "code",
   "execution_count": 104,
   "metadata": {},
   "outputs": [],
   "source": [
    "import numpy as np\n",
    "import pandas as pd\n",
    "import matplotlib.pyplot as plt\n",
    "%matplotlib inline\n",
    "import seaborn as sns\n",
    "import sqlite3\n",
    "import warnings\n",
    "warnings.filterwarnings(\"ignore\")\n",
    "\n",
    "from sklearn.feature_extraction.text import CountVectorizer\n",
    "from sklearn.model_selection import train_test_split\n",
    "from sklearn.naive_bayes import MultinomialNB\n",
    "from sklearn.model_selection import GridSearchCV\n",
    "from sklearn.metrics import confusion_matrix"
   ]
  },
  {
   "cell_type": "markdown",
   "metadata": {},
   "source": [
    "#### Data Preparation and Visualization:"
   ]
  },
  {
   "cell_type": "code",
   "execution_count": 105,
   "metadata": {},
   "outputs": [],
   "source": [
    "#reading the sqlite file and making a df from the data\n",
    "con = sqlite3.connect(\"Amazon.sqlite\")\n",
    "df = pd.read_sql_query(\"SELECT * from JLB\", con)"
   ]
  },
  {
   "cell_type": "code",
   "execution_count": 106,
   "metadata": {},
   "outputs": [
    {
     "data": {
      "text/html": [
       "<div>\n",
       "<style scoped>\n",
       "    .dataframe tbody tr th:only-of-type {\n",
       "        vertical-align: middle;\n",
       "    }\n",
       "\n",
       "    .dataframe tbody tr th {\n",
       "        vertical-align: top;\n",
       "    }\n",
       "\n",
       "    .dataframe thead th {\n",
       "        text-align: right;\n",
       "    }\n",
       "</style>\n",
       "<table border=\"1\" class=\"dataframe\">\n",
       "  <thead>\n",
       "    <tr style=\"text-align: right;\">\n",
       "      <th></th>\n",
       "      <th>rating</th>\n",
       "      <th>date</th>\n",
       "      <th>location</th>\n",
       "      <th>color</th>\n",
       "      <th>review_title</th>\n",
       "      <th>review</th>\n",
       "      <th>comment</th>\n",
       "    </tr>\n",
       "  </thead>\n",
       "  <tbody>\n",
       "    <tr>\n",
       "      <th>0</th>\n",
       "      <td>1.0</td>\n",
       "      <td>January-29-2019</td>\n",
       "      <td>United States</td>\n",
       "      <td>Color: Gray</td>\n",
       "      <td>Buy a Charge 3</td>\n",
       "      <td>The JBL Charge 4 has one giant flaw that frank...</td>\n",
       "      <td>11</td>\n",
       "    </tr>\n",
       "    <tr>\n",
       "      <th>1</th>\n",
       "      <td>2.0</td>\n",
       "      <td>October-16-2018</td>\n",
       "      <td>United States</td>\n",
       "      <td>Verified Purchase</td>\n",
       "      <td>Mono, directional, no user EQ :(</td>\n",
       "      <td>I held out buying one of these speakers becaus...</td>\n",
       "      <td>6</td>\n",
       "    </tr>\n",
       "    <tr>\n",
       "      <th>2</th>\n",
       "      <td>3.0</td>\n",
       "      <td>December-12-2018</td>\n",
       "      <td>United States</td>\n",
       "      <td>Color: Black</td>\n",
       "      <td>JBL could make the Charger4 better BUT nop the...</td>\n",
       "      <td>Too bad JBL lower the sound quality on the cha...</td>\n",
       "      <td>3</td>\n",
       "    </tr>\n",
       "    <tr>\n",
       "      <th>3</th>\n",
       "      <td>5.0</td>\n",
       "      <td>October-26-2018</td>\n",
       "      <td>United States</td>\n",
       "      <td>Color: Black</td>\n",
       "      <td>Sounds great and has plenty of colume</td>\n",
       "      <td>I've been using a JBL Flip 2 for the past coup...</td>\n",
       "      <td>1</td>\n",
       "    </tr>\n",
       "    <tr>\n",
       "      <th>4</th>\n",
       "      <td>5.0</td>\n",
       "      <td>June-3-2019</td>\n",
       "      <td>United States</td>\n",
       "      <td>Color: Gray</td>\n",
       "      <td>In depth review for jbl charge 4</td>\n",
       "      <td>The JBL charge 4 is a great product. I found i...</td>\n",
       "      <td>2</td>\n",
       "    </tr>\n",
       "  </tbody>\n",
       "</table>\n",
       "</div>"
      ],
      "text/plain": [
       "  rating              date       location              color  \\\n",
       "0   1.0    January-29-2019  United States        Color: Gray   \n",
       "1   2.0    October-16-2018  United States  Verified Purchase   \n",
       "2   3.0   December-12-2018  United States       Color: Black   \n",
       "3   5.0    October-26-2018  United States       Color: Black   \n",
       "4   5.0        June-3-2019  United States        Color: Gray   \n",
       "\n",
       "                                        review_title  \\\n",
       "0                                     Buy a Charge 3   \n",
       "1                   Mono, directional, no user EQ :(   \n",
       "2  JBL could make the Charger4 better BUT nop the...   \n",
       "3              Sounds great and has plenty of colume   \n",
       "4                   In depth review for jbl charge 4   \n",
       "\n",
       "                                              review comment  \n",
       "0  The JBL Charge 4 has one giant flaw that frank...      11  \n",
       "1  I held out buying one of these speakers becaus...       6  \n",
       "2  Too bad JBL lower the sound quality on the cha...       3  \n",
       "3  I've been using a JBL Flip 2 for the past coup...       1  \n",
       "4  The JBL charge 4 is a great product. I found i...       2  "
      ]
     },
     "execution_count": 106,
     "metadata": {},
     "output_type": "execute_result"
    }
   ],
   "source": [
    "#Showing the head of the dataset\n",
    "df.head()"
   ]
  },
  {
   "cell_type": "code",
   "execution_count": 107,
   "metadata": {},
   "outputs": [
    {
     "data": {
      "text/plain": [
       "(1657, 7)"
      ]
     },
     "execution_count": 107,
     "metadata": {},
     "output_type": "execute_result"
    }
   ],
   "source": [
    "df.shape"
   ]
  },
  {
   "cell_type": "markdown",
   "metadata": {},
   "source": [
    "Checking to see if there is any null data in our dataset:"
   ]
  },
  {
   "cell_type": "code",
   "execution_count": 108,
   "metadata": {},
   "outputs": [
    {
     "data": {
      "text/html": [
       "<div>\n",
       "<style scoped>\n",
       "    .dataframe tbody tr th:only-of-type {\n",
       "        vertical-align: middle;\n",
       "    }\n",
       "\n",
       "    .dataframe tbody tr th {\n",
       "        vertical-align: top;\n",
       "    }\n",
       "\n",
       "    .dataframe thead th {\n",
       "        text-align: right;\n",
       "    }\n",
       "</style>\n",
       "<table border=\"1\" class=\"dataframe\">\n",
       "  <thead>\n",
       "    <tr style=\"text-align: right;\">\n",
       "      <th></th>\n",
       "      <th>rating</th>\n",
       "      <th>date</th>\n",
       "      <th>location</th>\n",
       "      <th>color</th>\n",
       "      <th>review_title</th>\n",
       "      <th>review</th>\n",
       "      <th>comment</th>\n",
       "    </tr>\n",
       "  </thead>\n",
       "  <tbody>\n",
       "    <tr>\n",
       "      <th>1656</th>\n",
       "      <td>5.0</td>\n",
       "      <td>June-4-2019</td>\n",
       "      <td>United States</td>\n",
       "      <td>None</td>\n",
       "      <td>None</td>\n",
       "      <td>None</td>\n",
       "      <td>None</td>\n",
       "    </tr>\n",
       "  </tbody>\n",
       "</table>\n",
       "</div>"
      ],
      "text/plain": [
       "     rating         date       location color review_title review comment\n",
       "1656   5.0   June-4-2019  United States  None         None   None    None"
      ]
     },
     "execution_count": 108,
     "metadata": {},
     "output_type": "execute_result"
    }
   ],
   "source": [
    "df_nulls = df[df.isnull().apply(lambda x: max(x), axis=1)]\n",
    "df_nulls.head()"
   ]
  },
  {
   "cell_type": "code",
   "execution_count": 109,
   "metadata": {},
   "outputs": [
    {
     "data": {
      "text/html": [
       "<div>\n",
       "<style scoped>\n",
       "    .dataframe tbody tr th:only-of-type {\n",
       "        vertical-align: middle;\n",
       "    }\n",
       "\n",
       "    .dataframe tbody tr th {\n",
       "        vertical-align: top;\n",
       "    }\n",
       "\n",
       "    .dataframe thead th {\n",
       "        text-align: right;\n",
       "    }\n",
       "</style>\n",
       "<table border=\"1\" class=\"dataframe\">\n",
       "  <thead>\n",
       "    <tr style=\"text-align: right;\">\n",
       "      <th></th>\n",
       "      <th>rating</th>\n",
       "      <th>date</th>\n",
       "      <th>location</th>\n",
       "      <th>color</th>\n",
       "      <th>review_title</th>\n",
       "      <th>review</th>\n",
       "      <th>comment</th>\n",
       "    </tr>\n",
       "  </thead>\n",
       "  <tbody>\n",
       "    <tr>\n",
       "      <th>0</th>\n",
       "      <td>1.0</td>\n",
       "      <td>January-29-2019</td>\n",
       "      <td>United States</td>\n",
       "      <td>Color: Gray</td>\n",
       "      <td>Buy a Charge 3</td>\n",
       "      <td>The JBL Charge 4 has one giant flaw that frank...</td>\n",
       "      <td>11</td>\n",
       "    </tr>\n",
       "    <tr>\n",
       "      <th>1</th>\n",
       "      <td>2.0</td>\n",
       "      <td>October-16-2018</td>\n",
       "      <td>United States</td>\n",
       "      <td>Verified Purchase</td>\n",
       "      <td>Mono, directional, no user EQ :(</td>\n",
       "      <td>I held out buying one of these speakers becaus...</td>\n",
       "      <td>6</td>\n",
       "    </tr>\n",
       "    <tr>\n",
       "      <th>2</th>\n",
       "      <td>3.0</td>\n",
       "      <td>December-12-2018</td>\n",
       "      <td>United States</td>\n",
       "      <td>Color: Black</td>\n",
       "      <td>JBL could make the Charger4 better BUT nop the...</td>\n",
       "      <td>Too bad JBL lower the sound quality on the cha...</td>\n",
       "      <td>3</td>\n",
       "    </tr>\n",
       "    <tr>\n",
       "      <th>3</th>\n",
       "      <td>5.0</td>\n",
       "      <td>October-26-2018</td>\n",
       "      <td>United States</td>\n",
       "      <td>Color: Black</td>\n",
       "      <td>Sounds great and has plenty of colume</td>\n",
       "      <td>I've been using a JBL Flip 2 for the past coup...</td>\n",
       "      <td>1</td>\n",
       "    </tr>\n",
       "    <tr>\n",
       "      <th>4</th>\n",
       "      <td>5.0</td>\n",
       "      <td>June-3-2019</td>\n",
       "      <td>United States</td>\n",
       "      <td>Color: Gray</td>\n",
       "      <td>In depth review for jbl charge 4</td>\n",
       "      <td>The JBL charge 4 is a great product. I found i...</td>\n",
       "      <td>2</td>\n",
       "    </tr>\n",
       "    <tr>\n",
       "      <th>5</th>\n",
       "      <td>4.0</td>\n",
       "      <td>December-5-2018</td>\n",
       "      <td>United States</td>\n",
       "      <td>Color: Red</td>\n",
       "      <td>Awesome Sound!  We'll see how long it lasts!</td>\n",
       "      <td>Great build quality.Great sound!Does not autom...</td>\n",
       "      <td>1</td>\n",
       "    </tr>\n",
       "    <tr>\n",
       "      <th>6</th>\n",
       "      <td>5.0</td>\n",
       "      <td>November-10-2018</td>\n",
       "      <td>United States</td>\n",
       "      <td>Color: Black</td>\n",
       "      <td>Good product but no speakerphone</td>\n",
       "      <td>I bought this last week. The speaker sound qua...</td>\n",
       "      <td>0</td>\n",
       "    </tr>\n",
       "    <tr>\n",
       "      <th>7</th>\n",
       "      <td>5.0</td>\n",
       "      <td>October-26-2018</td>\n",
       "      <td>United States</td>\n",
       "      <td>Color: Black</td>\n",
       "      <td>I love JBL and harman!</td>\n",
       "      <td>I always buy JBL because it's a great product ...</td>\n",
       "      <td>5</td>\n",
       "    </tr>\n",
       "    <tr>\n",
       "      <th>8</th>\n",
       "      <td>1.0</td>\n",
       "      <td>March-6-2019</td>\n",
       "      <td>United States</td>\n",
       "      <td>Color: Black</td>\n",
       "      <td>Low quality and long replacement time period</td>\n",
       "      <td>My husband bought this speaker at the beginnin...</td>\n",
       "      <td>0</td>\n",
       "    </tr>\n",
       "    <tr>\n",
       "      <th>9</th>\n",
       "      <td>1.0</td>\n",
       "      <td>January-29-2019</td>\n",
       "      <td>United States</td>\n",
       "      <td>Color: Gray</td>\n",
       "      <td>Buy a Charge 3</td>\n",
       "      <td>The JBL Charge 4 has one giant flaw that frank...</td>\n",
       "      <td>11</td>\n",
       "    </tr>\n",
       "    <tr>\n",
       "      <th>10</th>\n",
       "      <td>2.0</td>\n",
       "      <td>October-16-2018</td>\n",
       "      <td>United States</td>\n",
       "      <td>Verified Purchase</td>\n",
       "      <td>Mono, directional, no user EQ :(</td>\n",
       "      <td>I held out buying one of these speakers becaus...</td>\n",
       "      <td>6</td>\n",
       "    </tr>\n",
       "    <tr>\n",
       "      <th>11</th>\n",
       "      <td>3.0</td>\n",
       "      <td>December-12-2018</td>\n",
       "      <td>United States</td>\n",
       "      <td>Color: Black</td>\n",
       "      <td>JBL could make the Charger4 better BUT nop the...</td>\n",
       "      <td>Too bad JBL lower the sound quality on the cha...</td>\n",
       "      <td>3</td>\n",
       "    </tr>\n",
       "    <tr>\n",
       "      <th>12</th>\n",
       "      <td>5.0</td>\n",
       "      <td>October-26-2018</td>\n",
       "      <td>United States</td>\n",
       "      <td>Color: Black</td>\n",
       "      <td>Sounds great and has plenty of colume</td>\n",
       "      <td>I've been using a JBL Flip 2 for the past coup...</td>\n",
       "      <td>1</td>\n",
       "    </tr>\n",
       "    <tr>\n",
       "      <th>13</th>\n",
       "      <td>5.0</td>\n",
       "      <td>June-3-2019</td>\n",
       "      <td>United States</td>\n",
       "      <td>Color: Gray</td>\n",
       "      <td>In depth review for jbl charge 4</td>\n",
       "      <td>The JBL charge 4 is a great product. I found i...</td>\n",
       "      <td>2</td>\n",
       "    </tr>\n",
       "    <tr>\n",
       "      <th>14</th>\n",
       "      <td>4.0</td>\n",
       "      <td>December-5-2018</td>\n",
       "      <td>United States</td>\n",
       "      <td>Color: Red</td>\n",
       "      <td>Awesome Sound!  We'll see how long it lasts!</td>\n",
       "      <td>Great build quality.Great sound!Does not autom...</td>\n",
       "      <td>1</td>\n",
       "    </tr>\n",
       "    <tr>\n",
       "      <th>15</th>\n",
       "      <td>5.0</td>\n",
       "      <td>November-10-2018</td>\n",
       "      <td>United States</td>\n",
       "      <td>Color: Black</td>\n",
       "      <td>Good product but no speakerphone</td>\n",
       "      <td>I bought this last week. The speaker sound qua...</td>\n",
       "      <td>0</td>\n",
       "    </tr>\n",
       "    <tr>\n",
       "      <th>16</th>\n",
       "      <td>5.0</td>\n",
       "      <td>October-26-2018</td>\n",
       "      <td>United States</td>\n",
       "      <td>Color: Black</td>\n",
       "      <td>I love JBL and harman!</td>\n",
       "      <td>I always buy JBL because it's a great product ...</td>\n",
       "      <td>5</td>\n",
       "    </tr>\n",
       "    <tr>\n",
       "      <th>17</th>\n",
       "      <td>1.0</td>\n",
       "      <td>March-6-2019</td>\n",
       "      <td>United States</td>\n",
       "      <td>Color: Black</td>\n",
       "      <td>Low quality and long replacement time period</td>\n",
       "      <td>My husband bought this speaker at the beginnin...</td>\n",
       "      <td>0</td>\n",
       "    </tr>\n",
       "    <tr>\n",
       "      <th>18</th>\n",
       "      <td>1.0</td>\n",
       "      <td>April-19-2019</td>\n",
       "      <td>United States</td>\n",
       "      <td>Color: Black</td>\n",
       "      <td>Probably Fake</td>\n",
       "      <td>It didn’t come with the serial number sticker ...</td>\n",
       "      <td>1</td>\n",
       "    </tr>\n",
       "    <tr>\n",
       "      <th>19</th>\n",
       "      <td>5.0</td>\n",
       "      <td>February-14-2019</td>\n",
       "      <td>United States</td>\n",
       "      <td>Color: Black</td>\n",
       "      <td>If money isn't issue for you, you need to upgr...</td>\n",
       "      <td>Before charge4, I believe Denon dsb 250bt is t...</td>\n",
       "      <td>0</td>\n",
       "    </tr>\n",
       "    <tr>\n",
       "      <th>20</th>\n",
       "      <td>1.0</td>\n",
       "      <td>January-10-2019</td>\n",
       "      <td>United States</td>\n",
       "      <td>Color: Black</td>\n",
       "      <td>Ugh..... The joys of being a jbl owner</td>\n",
       "      <td>Upon getting this item from Amazon, I was supe...</td>\n",
       "      <td>1</td>\n",
       "    </tr>\n",
       "    <tr>\n",
       "      <th>21</th>\n",
       "      <td>5.0</td>\n",
       "      <td>March-25-2019</td>\n",
       "      <td>United States</td>\n",
       "      <td>Color: Black</td>\n",
       "      <td>Great speaker despite not being true stereo</td>\n",
       "      <td>The big debate about this speaker not being st...</td>\n",
       "      <td>1</td>\n",
       "    </tr>\n",
       "    <tr>\n",
       "      <th>22</th>\n",
       "      <td>5.0</td>\n",
       "      <td>January-25-2019</td>\n",
       "      <td>United States</td>\n",
       "      <td>Color: Black</td>\n",
       "      <td>The BIG REASON to choose over Megoboom 3</td>\n",
       "      <td>New Megaboom has no AUX inputMight not be a bi...</td>\n",
       "      <td>1</td>\n",
       "    </tr>\n",
       "    <tr>\n",
       "      <th>23</th>\n",
       "      <td>5.0</td>\n",
       "      <td>April-14-2019</td>\n",
       "      <td>United States</td>\n",
       "      <td>Color: Black</td>\n",
       "      <td>Excelente sonido.</td>\n",
       "      <td>El sonido excelente.El conector tipo C era nec...</td>\n",
       "      <td>0</td>\n",
       "    </tr>\n",
       "    <tr>\n",
       "      <th>24</th>\n",
       "      <td>4.0</td>\n",
       "      <td>February-22-2019</td>\n",
       "      <td>United States</td>\n",
       "      <td>Color: Gray</td>\n",
       "      <td>Sounds amazing!</td>\n",
       "      <td>Sounds amazing! I totally loved it, I’m still ...</td>\n",
       "      <td>1</td>\n",
       "    </tr>\n",
       "    <tr>\n",
       "      <th>25</th>\n",
       "      <td>3.0</td>\n",
       "      <td>June-7-2019</td>\n",
       "      <td>United States</td>\n",
       "      <td>Color: Black</td>\n",
       "      <td>Side by side comparisons is where the Charge 4...</td>\n",
       "      <td>I purchased the JBL Charge 4 because of review...</td>\n",
       "      <td>0</td>\n",
       "    </tr>\n",
       "    <tr>\n",
       "      <th>26</th>\n",
       "      <td>5.0</td>\n",
       "      <td>March-1-2019</td>\n",
       "      <td>United States</td>\n",
       "      <td>Color: Blue</td>\n",
       "      <td>Great shower/bathroom speaker!</td>\n",
       "      <td>I've had and utilized the UE Roll 2 speaker fo...</td>\n",
       "      <td>0</td>\n",
       "    </tr>\n",
       "    <tr>\n",
       "      <th>27</th>\n",
       "      <td>1.0</td>\n",
       "      <td>February-7-2019</td>\n",
       "      <td>United States</td>\n",
       "      <td>Color: Black</td>\n",
       "      <td>Definitely doesnt worth the price</td>\n",
       "      <td>there is an unacceptable audio latency when yo...</td>\n",
       "      <td>0</td>\n",
       "    </tr>\n",
       "    <tr>\n",
       "      <th>28</th>\n",
       "      <td>1.0</td>\n",
       "      <td>August-6-2019</td>\n",
       "      <td>United States</td>\n",
       "      <td>Color: Red</td>\n",
       "      <td>Returned 2 charge 4's.  NO stereo sound.</td>\n",
       "      <td>Speakers would not play in stereo through JBL ...</td>\n",
       "      <td>0</td>\n",
       "    </tr>\n",
       "    <tr>\n",
       "      <th>29</th>\n",
       "      <td>3.0</td>\n",
       "      <td>May-20-2019</td>\n",
       "      <td>United States</td>\n",
       "      <td>Color: Black</td>\n",
       "      <td>Poor Sound Quality at Moderate Levels</td>\n",
       "      <td>In spite of all the rave reviews, I’ve found t...</td>\n",
       "      <td>0</td>\n",
       "    </tr>\n",
       "    <tr>\n",
       "      <th>...</th>\n",
       "      <td>...</td>\n",
       "      <td>...</td>\n",
       "      <td>...</td>\n",
       "      <td>...</td>\n",
       "      <td>...</td>\n",
       "      <td>...</td>\n",
       "      <td>...</td>\n",
       "    </tr>\n",
       "    <tr>\n",
       "      <th>1626</th>\n",
       "      <td>5.0</td>\n",
       "      <td>March-8-2020</td>\n",
       "      <td>United States</td>\n",
       "      <td>Color: Black</td>\n",
       "      <td>Perfect</td>\n",
       "      <td>Perfect</td>\n",
       "      <td>0</td>\n",
       "    </tr>\n",
       "    <tr>\n",
       "      <th>1627</th>\n",
       "      <td>5.0</td>\n",
       "      <td>December-31-2018</td>\n",
       "      <td>United States</td>\n",
       "      <td>Color: Black</td>\n",
       "      <td>Sound quality is not great</td>\n",
       "      <td>Jbl flip 4 has far better sound quality.  Char...</td>\n",
       "      <td>0</td>\n",
       "    </tr>\n",
       "    <tr>\n",
       "      <th>1628</th>\n",
       "      <td>2.0</td>\n",
       "      <td>March-15-2019</td>\n",
       "      <td>United States</td>\n",
       "      <td>Color: Black</td>\n",
       "      <td>Perfect Kitchen Speaker</td>\n",
       "      <td>I really like this speaker for our kitchen spe...</td>\n",
       "      <td>0</td>\n",
       "    </tr>\n",
       "    <tr>\n",
       "      <th>1629</th>\n",
       "      <td>5.0</td>\n",
       "      <td>January-13-2020</td>\n",
       "      <td>United States</td>\n",
       "      <td>Color: Pink</td>\n",
       "      <td>Idunno</td>\n",
       "      <td>Bought 2 cause why not 🤷‍♂️</td>\n",
       "      <td>0</td>\n",
       "    </tr>\n",
       "    <tr>\n",
       "      <th>1630</th>\n",
       "      <td>5.0</td>\n",
       "      <td>April-2-2019</td>\n",
       "      <td>United States</td>\n",
       "      <td>Color: Black</td>\n",
       "      <td>Quality</td>\n",
       "      <td>I’ve had the jbl 4 for a year now and it messe...</td>\n",
       "      <td>0</td>\n",
       "    </tr>\n",
       "    <tr>\n",
       "      <th>1631</th>\n",
       "      <td>2.0</td>\n",
       "      <td>December-14-2019</td>\n",
       "      <td>United States</td>\n",
       "      <td>Color: Green</td>\n",
       "      <td>Great buy.</td>\n",
       "      <td>Good speaker. Full portability.</td>\n",
       "      <td>0</td>\n",
       "    </tr>\n",
       "    <tr>\n",
       "      <th>1632</th>\n",
       "      <td>5.0</td>\n",
       "      <td>February-19-2020</td>\n",
       "      <td>United States</td>\n",
       "      <td>Color: Black</td>\n",
       "      <td>Good quality</td>\n",
       "      <td>good qualityFast ShippingThank you</td>\n",
       "      <td>0</td>\n",
       "    </tr>\n",
       "    <tr>\n",
       "      <th>1633</th>\n",
       "      <td>5.0</td>\n",
       "      <td>December-13-2019</td>\n",
       "      <td>United States</td>\n",
       "      <td>Color: Blue</td>\n",
       "      <td>Cool</td>\n",
       "      <td>Perfect for around the house!</td>\n",
       "      <td>0</td>\n",
       "    </tr>\n",
       "    <tr>\n",
       "      <th>1634</th>\n",
       "      <td>5.0</td>\n",
       "      <td>April-27-2019</td>\n",
       "      <td>United States</td>\n",
       "      <td>Color: Black</td>\n",
       "      <td>It is a great product, but not always.</td>\n",
       "      <td>I got one but it didn’t started, I got another...</td>\n",
       "      <td>0</td>\n",
       "    </tr>\n",
       "    <tr>\n",
       "      <th>1635</th>\n",
       "      <td>3.0</td>\n",
       "      <td>April-21-2020</td>\n",
       "      <td>United States</td>\n",
       "      <td>Color: Black</td>\n",
       "      <td>Best for the price</td>\n",
       "      <td>This is the best speaker I have had. I had a f...</td>\n",
       "      <td>0</td>\n",
       "    </tr>\n",
       "    <tr>\n",
       "      <th>1636</th>\n",
       "      <td>5.0</td>\n",
       "      <td>January-16-2019</td>\n",
       "      <td>United States</td>\n",
       "      <td>Color: Black</td>\n",
       "      <td>JBL Rocks!!!</td>\n",
       "      <td>Just what i was looking for. Excellent speaker...</td>\n",
       "      <td>0</td>\n",
       "    </tr>\n",
       "    <tr>\n",
       "      <th>1637</th>\n",
       "      <td>5.0</td>\n",
       "      <td>April-17-2019</td>\n",
       "      <td>United States</td>\n",
       "      <td>Color: Blue</td>\n",
       "      <td>Parlante premium</td>\n",
       "      <td>Producto premium. De lejos el mejor parlante</td>\n",
       "      <td>0</td>\n",
       "    </tr>\n",
       "    <tr>\n",
       "      <th>1638</th>\n",
       "      <td>5.0</td>\n",
       "      <td>June-15-2019</td>\n",
       "      <td>United States</td>\n",
       "      <td>Color: Black</td>\n",
       "      <td>It’s good</td>\n",
       "      <td>It’s sounds so good</td>\n",
       "      <td>0</td>\n",
       "    </tr>\n",
       "    <tr>\n",
       "      <th>1639</th>\n",
       "      <td>5.0</td>\n",
       "      <td>November-4-2018</td>\n",
       "      <td>United States</td>\n",
       "      <td>Color: Black</td>\n",
       "      <td>Baterry life sucks</td>\n",
       "      <td>Battery life sucks says 20hrs when you only ge...</td>\n",
       "      <td>0</td>\n",
       "    </tr>\n",
       "    <tr>\n",
       "      <th>1640</th>\n",
       "      <td>3.0</td>\n",
       "      <td>December-14-2019</td>\n",
       "      <td>United States</td>\n",
       "      <td>Color: Camouflage</td>\n",
       "      <td>Recibi el parlante JBL en mas estado</td>\n",
       "      <td>El parlante no carga por lo que no lo pude usa...</td>\n",
       "      <td>0</td>\n",
       "    </tr>\n",
       "    <tr>\n",
       "      <th>1641</th>\n",
       "      <td>1.0</td>\n",
       "      <td>December-30-2019</td>\n",
       "      <td>United States</td>\n",
       "      <td>Color: Red</td>\n",
       "      <td>Smaller than I expected, but pretty big sound</td>\n",
       "      <td>An adequate portable wireless speaker for a sm...</td>\n",
       "      <td>0</td>\n",
       "    </tr>\n",
       "    <tr>\n",
       "      <th>1642</th>\n",
       "      <td>4.0</td>\n",
       "      <td>December-26-2019</td>\n",
       "      <td>United States</td>\n",
       "      <td>Color: Teal</td>\n",
       "      <td>Really good sound</td>\n",
       "      <td>Battery didnt last close to even 20h, could of...</td>\n",
       "      <td>0</td>\n",
       "    </tr>\n",
       "    <tr>\n",
       "      <th>1643</th>\n",
       "      <td>5.0</td>\n",
       "      <td>July-21-2019</td>\n",
       "      <td>United States</td>\n",
       "      <td>Color: Black</td>\n",
       "      <td>Clear, quality sound plus charges!</td>\n",
       "      <td>Bought for my 17 year old son and he absolutel...</td>\n",
       "      <td>0</td>\n",
       "    </tr>\n",
       "    <tr>\n",
       "      <th>1644</th>\n",
       "      <td>5.0</td>\n",
       "      <td>January-10-2020</td>\n",
       "      <td>United States</td>\n",
       "      <td>Color: Black</td>\n",
       "      <td>🔊</td>\n",
       "      <td>Just perfect!!!</td>\n",
       "      <td>0</td>\n",
       "    </tr>\n",
       "    <tr>\n",
       "      <th>1645</th>\n",
       "      <td>5.0</td>\n",
       "      <td>August-15-2019</td>\n",
       "      <td>United States</td>\n",
       "      <td>Color: Black</td>\n",
       "      <td>DURABLITY</td>\n",
       "      <td>Hands down a stud. Best Bluetooth speaker on t...</td>\n",
       "      <td>0</td>\n",
       "    </tr>\n",
       "    <tr>\n",
       "      <th>1646</th>\n",
       "      <td>5.0</td>\n",
       "      <td>March-4-2019</td>\n",
       "      <td>United States</td>\n",
       "      <td>Color: Black</td>\n",
       "      <td>Buy this!</td>\n",
       "      <td>Phenomenal</td>\n",
       "      <td>0</td>\n",
       "    </tr>\n",
       "    <tr>\n",
       "      <th>1647</th>\n",
       "      <td>5.0</td>\n",
       "      <td>December-25-2019</td>\n",
       "      <td>United States</td>\n",
       "      <td>Color: Red</td>\n",
       "      <td>Great sound</td>\n",
       "      <td>The battery lasts a long time , great sound</td>\n",
       "      <td>0</td>\n",
       "    </tr>\n",
       "    <tr>\n",
       "      <th>1648</th>\n",
       "      <td>5.0</td>\n",
       "      <td>December-28-2018</td>\n",
       "      <td>United States</td>\n",
       "      <td>Color: Black</td>\n",
       "      <td>Speaker is good, warping is bad!</td>\n",
       "      <td>Poor package.</td>\n",
       "      <td>0</td>\n",
       "    </tr>\n",
       "    <tr>\n",
       "      <th>1649</th>\n",
       "      <td>2.0</td>\n",
       "      <td>April-10-2019</td>\n",
       "      <td>United States</td>\n",
       "      <td>Color: Blue</td>\n",
       "      <td>It floats</td>\n",
       "      <td>It dose have good sound and yes it dose float</td>\n",
       "      <td>0</td>\n",
       "    </tr>\n",
       "    <tr>\n",
       "      <th>1650</th>\n",
       "      <td>5.0</td>\n",
       "      <td>November-8-2018</td>\n",
       "      <td>United States</td>\n",
       "      <td>Color: Blue</td>\n",
       "      <td>Great clear sound with great bass.</td>\n",
       "      <td>Crisp clear sound with great bass! I love bein...</td>\n",
       "      <td>0</td>\n",
       "    </tr>\n",
       "    <tr>\n",
       "      <th>1651</th>\n",
       "      <td>5.0</td>\n",
       "      <td>May-30-2019</td>\n",
       "      <td>United States</td>\n",
       "      <td>Color: Blue</td>\n",
       "      <td>Kicks Ass !!</td>\n",
       "      <td>Just the right size. Nice and clear and the vo...</td>\n",
       "      <td>0</td>\n",
       "    </tr>\n",
       "    <tr>\n",
       "      <th>1652</th>\n",
       "      <td>5.0</td>\n",
       "      <td>January-3-2020</td>\n",
       "      <td>United States</td>\n",
       "      <td>Color: Red</td>\n",
       "      <td>Loud</td>\n",
       "      <td>Really Loud and clear sound</td>\n",
       "      <td>0</td>\n",
       "    </tr>\n",
       "    <tr>\n",
       "      <th>1653</th>\n",
       "      <td>5.0</td>\n",
       "      <td>February-3-2020</td>\n",
       "      <td>United States</td>\n",
       "      <td>Color: Black</td>\n",
       "      <td>Nice</td>\n",
       "      <td>Buen sonido, todo excelente. Después del año n...</td>\n",
       "      <td>0</td>\n",
       "    </tr>\n",
       "    <tr>\n",
       "      <th>1654</th>\n",
       "      <td>5.0</td>\n",
       "      <td>May-10-2019</td>\n",
       "      <td>United States</td>\n",
       "      <td>Color: Blue</td>\n",
       "      <td>Great Product!</td>\n",
       "      <td>Great sound, battery life and connectivity!</td>\n",
       "      <td>0</td>\n",
       "    </tr>\n",
       "    <tr>\n",
       "      <th>1655</th>\n",
       "      <td>5.0</td>\n",
       "      <td>July-3-2019</td>\n",
       "      <td>United States</td>\n",
       "      <td>Color: Black</td>\n",
       "      <td>Amazing sound! Must buy</td>\n",
       "      <td>Sounds better than Beats to me...</td>\n",
       "      <td>0</td>\n",
       "    </tr>\n",
       "  </tbody>\n",
       "</table>\n",
       "<p>1656 rows × 7 columns</p>\n",
       "</div>"
      ],
      "text/plain": [
       "     rating              date       location              color  \\\n",
       "0      1.0    January-29-2019  United States        Color: Gray   \n",
       "1      2.0    October-16-2018  United States  Verified Purchase   \n",
       "2      3.0   December-12-2018  United States       Color: Black   \n",
       "3      5.0    October-26-2018  United States       Color: Black   \n",
       "4      5.0        June-3-2019  United States        Color: Gray   \n",
       "5      4.0    December-5-2018  United States         Color: Red   \n",
       "6      5.0   November-10-2018  United States       Color: Black   \n",
       "7      5.0    October-26-2018  United States       Color: Black   \n",
       "8      1.0       March-6-2019  United States       Color: Black   \n",
       "9      1.0    January-29-2019  United States        Color: Gray   \n",
       "10     2.0    October-16-2018  United States  Verified Purchase   \n",
       "11     3.0   December-12-2018  United States       Color: Black   \n",
       "12     5.0    October-26-2018  United States       Color: Black   \n",
       "13     5.0        June-3-2019  United States        Color: Gray   \n",
       "14     4.0    December-5-2018  United States         Color: Red   \n",
       "15     5.0   November-10-2018  United States       Color: Black   \n",
       "16     5.0    October-26-2018  United States       Color: Black   \n",
       "17     1.0       March-6-2019  United States       Color: Black   \n",
       "18     1.0      April-19-2019  United States       Color: Black   \n",
       "19     5.0   February-14-2019  United States       Color: Black   \n",
       "20     1.0    January-10-2019  United States       Color: Black   \n",
       "21     5.0      March-25-2019  United States       Color: Black   \n",
       "22     5.0    January-25-2019  United States       Color: Black   \n",
       "23     5.0      April-14-2019  United States       Color: Black   \n",
       "24     4.0   February-22-2019  United States        Color: Gray   \n",
       "25     3.0        June-7-2019  United States       Color: Black   \n",
       "26     5.0       March-1-2019  United States        Color: Blue   \n",
       "27     1.0    February-7-2019  United States       Color: Black   \n",
       "28     1.0      August-6-2019  United States         Color: Red   \n",
       "29     3.0        May-20-2019  United States       Color: Black   \n",
       "...     ...               ...            ...                ...   \n",
       "1626   5.0       March-8-2020  United States       Color: Black   \n",
       "1627   5.0   December-31-2018  United States       Color: Black   \n",
       "1628   2.0      March-15-2019  United States       Color: Black   \n",
       "1629   5.0    January-13-2020  United States        Color: Pink   \n",
       "1630   5.0       April-2-2019  United States       Color: Black   \n",
       "1631   2.0   December-14-2019  United States       Color: Green   \n",
       "1632   5.0   February-19-2020  United States       Color: Black   \n",
       "1633   5.0   December-13-2019  United States        Color: Blue   \n",
       "1634   5.0      April-27-2019  United States       Color: Black   \n",
       "1635   3.0      April-21-2020  United States       Color: Black   \n",
       "1636   5.0    January-16-2019  United States       Color: Black   \n",
       "1637   5.0      April-17-2019  United States        Color: Blue   \n",
       "1638   5.0       June-15-2019  United States       Color: Black   \n",
       "1639   5.0    November-4-2018  United States       Color: Black   \n",
       "1640   3.0   December-14-2019  United States  Color: Camouflage   \n",
       "1641   1.0   December-30-2019  United States         Color: Red   \n",
       "1642   4.0   December-26-2019  United States        Color: Teal   \n",
       "1643   5.0       July-21-2019  United States       Color: Black   \n",
       "1644   5.0    January-10-2020  United States       Color: Black   \n",
       "1645   5.0     August-15-2019  United States       Color: Black   \n",
       "1646   5.0       March-4-2019  United States       Color: Black   \n",
       "1647   5.0   December-25-2019  United States         Color: Red   \n",
       "1648   5.0   December-28-2018  United States       Color: Black   \n",
       "1649   2.0      April-10-2019  United States        Color: Blue   \n",
       "1650   5.0    November-8-2018  United States        Color: Blue   \n",
       "1651   5.0        May-30-2019  United States        Color: Blue   \n",
       "1652   5.0     January-3-2020  United States         Color: Red   \n",
       "1653   5.0    February-3-2020  United States       Color: Black   \n",
       "1654   5.0        May-10-2019  United States        Color: Blue   \n",
       "1655   5.0        July-3-2019  United States       Color: Black   \n",
       "\n",
       "                                           review_title  \\\n",
       "0                                        Buy a Charge 3   \n",
       "1                      Mono, directional, no user EQ :(   \n",
       "2     JBL could make the Charger4 better BUT nop the...   \n",
       "3                 Sounds great and has plenty of colume   \n",
       "4                      In depth review for jbl charge 4   \n",
       "5          Awesome Sound!  We'll see how long it lasts!   \n",
       "6                      Good product but no speakerphone   \n",
       "7                                I love JBL and harman!   \n",
       "8          Low quality and long replacement time period   \n",
       "9                                        Buy a Charge 3   \n",
       "10                     Mono, directional, no user EQ :(   \n",
       "11    JBL could make the Charger4 better BUT nop the...   \n",
       "12                Sounds great and has plenty of colume   \n",
       "13                     In depth review for jbl charge 4   \n",
       "14         Awesome Sound!  We'll see how long it lasts!   \n",
       "15                     Good product but no speakerphone   \n",
       "16                               I love JBL and harman!   \n",
       "17         Low quality and long replacement time period   \n",
       "18                                        Probably Fake   \n",
       "19    If money isn't issue for you, you need to upgr...   \n",
       "20               Ugh..... The joys of being a jbl owner   \n",
       "21          Great speaker despite not being true stereo   \n",
       "22             The BIG REASON to choose over Megoboom 3   \n",
       "23                                    Excelente sonido.   \n",
       "24                                      Sounds amazing!   \n",
       "25    Side by side comparisons is where the Charge 4...   \n",
       "26                       Great shower/bathroom speaker!   \n",
       "27                    Definitely doesnt worth the price   \n",
       "28             Returned 2 charge 4's.  NO stereo sound.   \n",
       "29                Poor Sound Quality at Moderate Levels   \n",
       "...                                                 ...   \n",
       "1626                                            Perfect   \n",
       "1627                         Sound quality is not great   \n",
       "1628                            Perfect Kitchen Speaker   \n",
       "1629                                             Idunno   \n",
       "1630                                            Quality   \n",
       "1631                                         Great buy.   \n",
       "1632                                       Good quality   \n",
       "1633                                               Cool   \n",
       "1634             It is a great product, but not always.   \n",
       "1635                                 Best for the price   \n",
       "1636                                       JBL Rocks!!!   \n",
       "1637                                   Parlante premium   \n",
       "1638                                          It’s good   \n",
       "1639                                 Baterry life sucks   \n",
       "1640               Recibi el parlante JBL en mas estado   \n",
       "1641      Smaller than I expected, but pretty big sound   \n",
       "1642                                  Really good sound   \n",
       "1643                 Clear, quality sound plus charges!   \n",
       "1644                                                  🔊   \n",
       "1645                                          DURABLITY   \n",
       "1646                                          Buy this!   \n",
       "1647                                        Great sound   \n",
       "1648                   Speaker is good, warping is bad!   \n",
       "1649                                          It floats   \n",
       "1650                 Great clear sound with great bass.   \n",
       "1651                                       Kicks Ass !!   \n",
       "1652                                               Loud   \n",
       "1653                                               Nice   \n",
       "1654                                     Great Product!   \n",
       "1655                            Amazing sound! Must buy   \n",
       "\n",
       "                                                 review comment  \n",
       "0     The JBL Charge 4 has one giant flaw that frank...      11  \n",
       "1     I held out buying one of these speakers becaus...       6  \n",
       "2     Too bad JBL lower the sound quality on the cha...       3  \n",
       "3     I've been using a JBL Flip 2 for the past coup...       1  \n",
       "4     The JBL charge 4 is a great product. I found i...       2  \n",
       "5     Great build quality.Great sound!Does not autom...       1  \n",
       "6     I bought this last week. The speaker sound qua...       0  \n",
       "7     I always buy JBL because it's a great product ...       5  \n",
       "8     My husband bought this speaker at the beginnin...       0  \n",
       "9     The JBL Charge 4 has one giant flaw that frank...      11  \n",
       "10    I held out buying one of these speakers becaus...       6  \n",
       "11    Too bad JBL lower the sound quality on the cha...       3  \n",
       "12    I've been using a JBL Flip 2 for the past coup...       1  \n",
       "13    The JBL charge 4 is a great product. I found i...       2  \n",
       "14    Great build quality.Great sound!Does not autom...       1  \n",
       "15    I bought this last week. The speaker sound qua...       0  \n",
       "16    I always buy JBL because it's a great product ...       5  \n",
       "17    My husband bought this speaker at the beginnin...       0  \n",
       "18    It didn’t come with the serial number sticker ...       1  \n",
       "19    Before charge4, I believe Denon dsb 250bt is t...       0  \n",
       "20    Upon getting this item from Amazon, I was supe...       1  \n",
       "21    The big debate about this speaker not being st...       1  \n",
       "22    New Megaboom has no AUX inputMight not be a bi...       1  \n",
       "23    El sonido excelente.El conector tipo C era nec...       0  \n",
       "24    Sounds amazing! I totally loved it, I’m still ...       1  \n",
       "25    I purchased the JBL Charge 4 because of review...       0  \n",
       "26    I've had and utilized the UE Roll 2 speaker fo...       0  \n",
       "27    there is an unacceptable audio latency when yo...       0  \n",
       "28    Speakers would not play in stereo through JBL ...       0  \n",
       "29    In spite of all the rave reviews, I’ve found t...       0  \n",
       "...                                                 ...     ...  \n",
       "1626                                            Perfect       0  \n",
       "1627  Jbl flip 4 has far better sound quality.  Char...       0  \n",
       "1628  I really like this speaker for our kitchen spe...       0  \n",
       "1629                        Bought 2 cause why not 🤷‍♂️       0  \n",
       "1630  I’ve had the jbl 4 for a year now and it messe...       0  \n",
       "1631                    Good speaker. Full portability.       0  \n",
       "1632                 good qualityFast ShippingThank you       0  \n",
       "1633                      Perfect for around the house!       0  \n",
       "1634  I got one but it didn’t started, I got another...       0  \n",
       "1635  This is the best speaker I have had. I had a f...       0  \n",
       "1636  Just what i was looking for. Excellent speaker...       0  \n",
       "1637       Producto premium. De lejos el mejor parlante       0  \n",
       "1638                                It’s sounds so good       0  \n",
       "1639  Battery life sucks says 20hrs when you only ge...       0  \n",
       "1640  El parlante no carga por lo que no lo pude usa...       0  \n",
       "1641  An adequate portable wireless speaker for a sm...       0  \n",
       "1642  Battery didnt last close to even 20h, could of...       0  \n",
       "1643  Bought for my 17 year old son and he absolutel...       0  \n",
       "1644                                    Just perfect!!!       0  \n",
       "1645  Hands down a stud. Best Bluetooth speaker on t...       0  \n",
       "1646                                         Phenomenal       0  \n",
       "1647        The battery lasts a long time , great sound       0  \n",
       "1648                                      Poor package.       0  \n",
       "1649      It dose have good sound and yes it dose float       0  \n",
       "1650  Crisp clear sound with great bass! I love bein...       0  \n",
       "1651  Just the right size. Nice and clear and the vo...       0  \n",
       "1652                        Really Loud and clear sound       0  \n",
       "1653  Buen sonido, todo excelente. Después del año n...       0  \n",
       "1654        Great sound, battery life and connectivity!       0  \n",
       "1655                  Sounds better than Beats to me...       0  \n",
       "\n",
       "[1656 rows x 7 columns]"
      ]
     },
     "execution_count": 109,
     "metadata": {},
     "output_type": "execute_result"
    }
   ],
   "source": [
    "df.dropna()"
   ]
  },
  {
   "cell_type": "code",
   "execution_count": 114,
   "metadata": {},
   "outputs": [],
   "source": [
    "df.reset_index()\n",
    "df.dropna()\n",
    "df.drop_duplicates()\n",
    "df = df.mask(df.eq('None')).dropna()"
   ]
  },
  {
   "cell_type": "code",
   "execution_count": 115,
   "metadata": {},
   "outputs": [
    {
     "data": {
      "text/html": [
       "<div>\n",
       "<style scoped>\n",
       "    .dataframe tbody tr th:only-of-type {\n",
       "        vertical-align: middle;\n",
       "    }\n",
       "\n",
       "    .dataframe tbody tr th {\n",
       "        vertical-align: top;\n",
       "    }\n",
       "\n",
       "    .dataframe thead th {\n",
       "        text-align: right;\n",
       "    }\n",
       "</style>\n",
       "<table border=\"1\" class=\"dataframe\">\n",
       "  <thead>\n",
       "    <tr style=\"text-align: right;\">\n",
       "      <th></th>\n",
       "      <th>rating</th>\n",
       "      <th>date</th>\n",
       "      <th>location</th>\n",
       "      <th>color</th>\n",
       "      <th>review_title</th>\n",
       "      <th>review</th>\n",
       "      <th>comment</th>\n",
       "    </tr>\n",
       "  </thead>\n",
       "  <tbody>\n",
       "  </tbody>\n",
       "</table>\n",
       "</div>"
      ],
      "text/plain": [
       "Empty DataFrame\n",
       "Columns: [rating, date, location, color, review_title, review, comment]\n",
       "Index: []"
      ]
     },
     "execution_count": 115,
     "metadata": {},
     "output_type": "execute_result"
    }
   ],
   "source": [
    "df_nulls = df[df.isnull().apply(lambda x: max(x), axis=1)]\n",
    "df_nulls.head()"
   ]
  },
  {
   "cell_type": "markdown",
   "metadata": {},
   "source": [
    "Changing the rating values to a binary form. To do this, first we check the relationship between rating and comments:"
   ]
  },
  {
   "cell_type": "code",
   "execution_count": 116,
   "metadata": {},
   "outputs": [],
   "source": [
    "#converting the data to numerical\n",
    "df['rating'] = pd.to_numeric(df['rating'], errors='coerce')\n",
    "df = df.replace(np.nan, 0, regex=True)\n",
    "df['comment'] = pd.to_numeric(df['comment'], errors='coerce')\n",
    "df = df.replace(np.nan, 0, regex=True)"
   ]
  },
  {
   "cell_type": "code",
   "execution_count": null,
   "metadata": {},
   "outputs": [],
   "source": []
  },
  {
   "cell_type": "code",
   "execution_count": 117,
   "metadata": {},
   "outputs": [
    {
     "data": {
      "image/png": "[encoded data removed]",
      "text/plain": [
       "<Figure size 432x288 with 1 Axes>"
      ]
     },
     "metadata": {
      "needs_background": "light"
     },
     "output_type": "display_data"
    }
   ],
   "source": [
    "sns.violinplot(df['comment'], df['rating'])\n",
    "plt.title(\"feedback wise Mean Ratings\")\n",
    "plt.show()"
   ]
  },
  {
   "cell_type": "markdown",
   "metadata": {},
   "source": [
    "We assign ratings above 3 as 1 and below 3 as 0."
   ]
  },
  {
   "cell_type": "code",
   "execution_count": 118,
   "metadata": {},
   "outputs": [],
   "source": [
    "df['rating'] = np.where(df['rating'] >= 3, 1, 0)"
   ]
  },
  {
   "cell_type": "code",
   "execution_count": 119,
   "metadata": {},
   "outputs": [
    {
     "data": {
      "text/html": [
       "<div>\n",
       "<style scoped>\n",
       "    .dataframe tbody tr th:only-of-type {\n",
       "        vertical-align: middle;\n",
       "    }\n",
       "\n",
       "    .dataframe tbody tr th {\n",
       "        vertical-align: top;\n",
       "    }\n",
       "\n",
       "    .dataframe thead th {\n",
       "        text-align: right;\n",
       "    }\n",
       "</style>\n",
       "<table border=\"1\" class=\"dataframe\">\n",
       "  <thead>\n",
       "    <tr style=\"text-align: right;\">\n",
       "      <th></th>\n",
       "      <th>rating</th>\n",
       "      <th>date</th>\n",
       "      <th>location</th>\n",
       "      <th>color</th>\n",
       "      <th>review_title</th>\n",
       "      <th>review</th>\n",
       "      <th>comment</th>\n",
       "    </tr>\n",
       "  </thead>\n",
       "  <tbody>\n",
       "    <tr>\n",
       "      <th>84</th>\n",
       "      <td>1</td>\n",
       "      <td>July-25-2019</td>\n",
       "      <td>United States</td>\n",
       "      <td>Color: Blue</td>\n",
       "      <td>Great Speaker</td>\n",
       "      <td>I've taken this thing on the go for a few mont...</td>\n",
       "      <td>0</td>\n",
       "    </tr>\n",
       "    <tr>\n",
       "      <th>336</th>\n",
       "      <td>1</td>\n",
       "      <td>February-5-2020</td>\n",
       "      <td>United States</td>\n",
       "      <td>Color: Black</td>\n",
       "      <td>Good sound</td>\n",
       "      <td>So far so good. Great sound and I have no trou...</td>\n",
       "      <td>0</td>\n",
       "    </tr>\n",
       "    <tr>\n",
       "      <th>1621</th>\n",
       "      <td>1</td>\n",
       "      <td>April-8-2019</td>\n",
       "      <td>United States</td>\n",
       "      <td>Color: Black</td>\n",
       "      <td>Great sound, great value</td>\n",
       "      <td>Love this speaker</td>\n",
       "      <td>0</td>\n",
       "    </tr>\n",
       "    <tr>\n",
       "      <th>1173</th>\n",
       "      <td>0</td>\n",
       "      <td>September-13-2019</td>\n",
       "      <td>United States</td>\n",
       "      <td>Color: Black</td>\n",
       "      <td>the charger</td>\n",
       "      <td>when i buy the jbl and open de box no coming t...</td>\n",
       "      <td>0</td>\n",
       "    </tr>\n",
       "    <tr>\n",
       "      <th>1404</th>\n",
       "      <td>1</td>\n",
       "      <td>June-11-2019</td>\n",
       "      <td>United States</td>\n",
       "      <td>Color: Sand</td>\n",
       "      <td>Pretty neat</td>\n",
       "      <td>Good for playing music</td>\n",
       "      <td>0</td>\n",
       "    </tr>\n",
       "    <tr>\n",
       "      <th>970</th>\n",
       "      <td>1</td>\n",
       "      <td>January-20-2020</td>\n",
       "      <td>United States</td>\n",
       "      <td>Color: Gray</td>\n",
       "      <td>Not a title</td>\n",
       "      <td>Great product</td>\n",
       "      <td>0</td>\n",
       "    </tr>\n",
       "    <tr>\n",
       "      <th>1355</th>\n",
       "      <td>1</td>\n",
       "      <td>June-9-2019</td>\n",
       "      <td>United States</td>\n",
       "      <td>Color: Red</td>\n",
       "      <td>don’t lose the charger cord</td>\n",
       "      <td>good price works well, can survive long drops</td>\n",
       "      <td>0</td>\n",
       "    </tr>\n",
       "    <tr>\n",
       "      <th>1351</th>\n",
       "      <td>0</td>\n",
       "      <td>January-17-2020</td>\n",
       "      <td>United States</td>\n",
       "      <td>Color: Black</td>\n",
       "      <td>The speaker is not that loud</td>\n",
       "      <td>The speaker is not that loud</td>\n",
       "      <td>0</td>\n",
       "    </tr>\n",
       "    <tr>\n",
       "      <th>951</th>\n",
       "      <td>1</td>\n",
       "      <td>February-10-2020</td>\n",
       "      <td>United States</td>\n",
       "      <td>Color: Yellow</td>\n",
       "      <td>I love it and recommend it but ..</td>\n",
       "      <td>The voice not as high as I excepted , but it d...</td>\n",
       "      <td>0</td>\n",
       "    </tr>\n",
       "    <tr>\n",
       "      <th>1650</th>\n",
       "      <td>1</td>\n",
       "      <td>November-8-2018</td>\n",
       "      <td>United States</td>\n",
       "      <td>Color: Blue</td>\n",
       "      <td>Great clear sound with great bass.</td>\n",
       "      <td>Crisp clear sound with great bass! I love bein...</td>\n",
       "      <td>0</td>\n",
       "    </tr>\n",
       "  </tbody>\n",
       "</table>\n",
       "</div>"
      ],
      "text/plain": [
       "      rating               date       location          color  \\\n",
       "84         1       July-25-2019  United States    Color: Blue   \n",
       "336        1    February-5-2020  United States   Color: Black   \n",
       "1621       1       April-8-2019  United States   Color: Black   \n",
       "1173       0  September-13-2019  United States   Color: Black   \n",
       "1404       1       June-11-2019  United States    Color: Sand   \n",
       "970        1    January-20-2020  United States    Color: Gray   \n",
       "1355       1        June-9-2019  United States     Color: Red   \n",
       "1351       0    January-17-2020  United States   Color: Black   \n",
       "951        1   February-10-2020  United States  Color: Yellow   \n",
       "1650       1    November-8-2018  United States    Color: Blue   \n",
       "\n",
       "                            review_title  \\\n",
       "84                         Great Speaker   \n",
       "336                           Good sound   \n",
       "1621            Great sound, great value   \n",
       "1173                         the charger   \n",
       "1404                         Pretty neat   \n",
       "970                          Not a title   \n",
       "1355         don’t lose the charger cord   \n",
       "1351        The speaker is not that loud   \n",
       "951    I love it and recommend it but ..   \n",
       "1650  Great clear sound with great bass.   \n",
       "\n",
       "                                                 review  comment  \n",
       "84    I've taken this thing on the go for a few mont...        0  \n",
       "336   So far so good. Great sound and I have no trou...        0  \n",
       "1621                                  Love this speaker        0  \n",
       "1173  when i buy the jbl and open de box no coming t...        0  \n",
       "1404                             Good for playing music        0  \n",
       "970                                       Great product        0  \n",
       "1355      good price works well, can survive long drops        0  \n",
       "1351                       The speaker is not that loud        0  \n",
       "951   The voice not as high as I excepted , but it d...        0  \n",
       "1650  Crisp clear sound with great bass! I love bein...        0  "
      ]
     },
     "execution_count": 119,
     "metadata": {},
     "output_type": "execute_result"
    }
   ],
   "source": [
    "df.sample(10)"
   ]
  },
  {
   "cell_type": "markdown",
   "metadata": {},
   "source": [
    "Performing some statistical analysis on the data"
   ]
  },
  {
   "cell_type": "code",
   "execution_count": 120,
   "metadata": {},
   "outputs": [
    {
     "data": {
      "text/html": [
       "<div>\n",
       "<style scoped>\n",
       "    .dataframe tbody tr th:only-of-type {\n",
       "        vertical-align: middle;\n",
       "    }\n",
       "\n",
       "    .dataframe tbody tr th {\n",
       "        vertical-align: top;\n",
       "    }\n",
       "\n",
       "    .dataframe thead th {\n",
       "        text-align: right;\n",
       "    }\n",
       "</style>\n",
       "<table border=\"1\" class=\"dataframe\">\n",
       "  <thead>\n",
       "    <tr style=\"text-align: right;\">\n",
       "      <th></th>\n",
       "      <th>rating</th>\n",
       "      <th>comment</th>\n",
       "    </tr>\n",
       "  </thead>\n",
       "  <tbody>\n",
       "    <tr>\n",
       "      <th>count</th>\n",
       "      <td>1656.000000</td>\n",
       "      <td>1656.000000</td>\n",
       "    </tr>\n",
       "    <tr>\n",
       "      <th>mean</th>\n",
       "      <td>0.917271</td>\n",
       "      <td>0.047101</td>\n",
       "    </tr>\n",
       "    <tr>\n",
       "      <th>std</th>\n",
       "      <td>0.275556</td>\n",
       "      <td>0.507542</td>\n",
       "    </tr>\n",
       "    <tr>\n",
       "      <th>min</th>\n",
       "      <td>0.000000</td>\n",
       "      <td>0.000000</td>\n",
       "    </tr>\n",
       "    <tr>\n",
       "      <th>25%</th>\n",
       "      <td>1.000000</td>\n",
       "      <td>0.000000</td>\n",
       "    </tr>\n",
       "    <tr>\n",
       "      <th>50%</th>\n",
       "      <td>1.000000</td>\n",
       "      <td>0.000000</td>\n",
       "    </tr>\n",
       "    <tr>\n",
       "      <th>75%</th>\n",
       "      <td>1.000000</td>\n",
       "      <td>0.000000</td>\n",
       "    </tr>\n",
       "    <tr>\n",
       "      <th>max</th>\n",
       "      <td>1.000000</td>\n",
       "      <td>11.000000</td>\n",
       "    </tr>\n",
       "  </tbody>\n",
       "</table>\n",
       "</div>"
      ],
      "text/plain": [
       "            rating      comment\n",
       "count  1656.000000  1656.000000\n",
       "mean      0.917271     0.047101\n",
       "std       0.275556     0.507542\n",
       "min       0.000000     0.000000\n",
       "25%       1.000000     0.000000\n",
       "50%       1.000000     0.000000\n",
       "75%       1.000000     0.000000\n",
       "max       1.000000    11.000000"
      ]
     },
     "execution_count": 120,
     "metadata": {},
     "output_type": "execute_result"
    }
   ],
   "source": [
    "df.describe()"
   ]
  },
  {
   "cell_type": "code",
   "execution_count": 121,
   "metadata": {},
   "outputs": [
    {
     "data": {
      "text/html": [
       "<div>\n",
       "<style scoped>\n",
       "    .dataframe tbody tr th:only-of-type {\n",
       "        vertical-align: middle;\n",
       "    }\n",
       "\n",
       "    .dataframe tbody tr th {\n",
       "        vertical-align: top;\n",
       "    }\n",
       "\n",
       "    .dataframe thead tr th {\n",
       "        text-align: left;\n",
       "    }\n",
       "\n",
       "    .dataframe thead tr:last-of-type th {\n",
       "        text-align: right;\n",
       "    }\n",
       "</style>\n",
       "<table border=\"1\" class=\"dataframe\">\n",
       "  <thead>\n",
       "    <tr>\n",
       "      <th></th>\n",
       "      <th colspan=\"8\" halign=\"left\">comment</th>\n",
       "    </tr>\n",
       "    <tr>\n",
       "      <th></th>\n",
       "      <th>count</th>\n",
       "      <th>mean</th>\n",
       "      <th>std</th>\n",
       "      <th>min</th>\n",
       "      <th>25%</th>\n",
       "      <th>50%</th>\n",
       "      <th>75%</th>\n",
       "      <th>max</th>\n",
       "    </tr>\n",
       "    <tr>\n",
       "      <th>rating</th>\n",
       "      <th></th>\n",
       "      <th></th>\n",
       "      <th></th>\n",
       "      <th></th>\n",
       "      <th></th>\n",
       "      <th></th>\n",
       "      <th></th>\n",
       "      <th></th>\n",
       "    </tr>\n",
       "  </thead>\n",
       "  <tbody>\n",
       "    <tr>\n",
       "      <th>0</th>\n",
       "      <td>137.0</td>\n",
       "      <td>0.343066</td>\n",
       "      <td>1.550322</td>\n",
       "      <td>0.0</td>\n",
       "      <td>0.0</td>\n",
       "      <td>0.0</td>\n",
       "      <td>0.0</td>\n",
       "      <td>11.0</td>\n",
       "    </tr>\n",
       "    <tr>\n",
       "      <th>1</th>\n",
       "      <td>1519.0</td>\n",
       "      <td>0.020408</td>\n",
       "      <td>0.238528</td>\n",
       "      <td>0.0</td>\n",
       "      <td>0.0</td>\n",
       "      <td>0.0</td>\n",
       "      <td>0.0</td>\n",
       "      <td>5.0</td>\n",
       "    </tr>\n",
       "  </tbody>\n",
       "</table>\n",
       "</div>"
      ],
      "text/plain": [
       "       comment                                              \n",
       "         count      mean       std  min  25%  50%  75%   max\n",
       "rating                                                      \n",
       "0        137.0  0.343066  1.550322  0.0  0.0  0.0  0.0  11.0\n",
       "1       1519.0  0.020408  0.238528  0.0  0.0  0.0  0.0   5.0"
      ]
     },
     "execution_count": 121,
     "metadata": {},
     "output_type": "execute_result"
    }
   ],
   "source": [
    "df.groupby('rating').describe()"
   ]
  },
  {
   "cell_type": "code",
   "execution_count": 112,
   "metadata": {},
   "outputs": [],
   "source": [
    "df.reset_index()\n",
    "df.dropna()\n",
    "df.drop_duplicates()\n",
    "df = df.mask(df.eq('None')).dropna()"
   ]
  },
  {
   "cell_type": "markdown",
   "metadata": {},
   "source": [
    "According to the table above most of the users are satisfied with the JLB Speaker.\n",
    "\n",
    "Here we will add a new column to our dataframe and will check the length of the reviews:"
   ]
  },
  {
   "cell_type": "code",
   "execution_count": 123,
   "metadata": {},
   "outputs": [
    {
     "data": {
      "text/html": [
       "<div>\n",
       "<style scoped>\n",
       "    .dataframe tbody tr th:only-of-type {\n",
       "        vertical-align: middle;\n",
       "    }\n",
       "\n",
       "    .dataframe tbody tr th {\n",
       "        vertical-align: top;\n",
       "    }\n",
       "\n",
       "    .dataframe thead th {\n",
       "        text-align: right;\n",
       "    }\n",
       "</style>\n",
       "<table border=\"1\" class=\"dataframe\">\n",
       "  <thead>\n",
       "    <tr style=\"text-align: right;\">\n",
       "      <th></th>\n",
       "      <th>rating</th>\n",
       "      <th>date</th>\n",
       "      <th>location</th>\n",
       "      <th>color</th>\n",
       "      <th>review_title</th>\n",
       "      <th>review</th>\n",
       "      <th>comment</th>\n",
       "      <th>length_of_review</th>\n",
       "    </tr>\n",
       "  </thead>\n",
       "  <tbody>\n",
       "    <tr>\n",
       "      <th>0</th>\n",
       "      <td>0</td>\n",
       "      <td>January-29-2019</td>\n",
       "      <td>United States</td>\n",
       "      <td>Color: Gray</td>\n",
       "      <td>Buy a Charge 3</td>\n",
       "      <td>The JBL Charge 4 has one giant flaw that frank...</td>\n",
       "      <td>11</td>\n",
       "      <td>345</td>\n",
       "    </tr>\n",
       "    <tr>\n",
       "      <th>1</th>\n",
       "      <td>0</td>\n",
       "      <td>October-16-2018</td>\n",
       "      <td>United States</td>\n",
       "      <td>Verified Purchase</td>\n",
       "      <td>Mono, directional, no user EQ :(</td>\n",
       "      <td>I held out buying one of these speakers becaus...</td>\n",
       "      <td>6</td>\n",
       "      <td>682</td>\n",
       "    </tr>\n",
       "    <tr>\n",
       "      <th>2</th>\n",
       "      <td>1</td>\n",
       "      <td>December-12-2018</td>\n",
       "      <td>United States</td>\n",
       "      <td>Color: Black</td>\n",
       "      <td>JBL could make the Charger4 better BUT nop the...</td>\n",
       "      <td>Too bad JBL lower the sound quality on the cha...</td>\n",
       "      <td>3</td>\n",
       "      <td>238</td>\n",
       "    </tr>\n",
       "    <tr>\n",
       "      <th>3</th>\n",
       "      <td>1</td>\n",
       "      <td>October-26-2018</td>\n",
       "      <td>United States</td>\n",
       "      <td>Color: Black</td>\n",
       "      <td>Sounds great and has plenty of colume</td>\n",
       "      <td>I've been using a JBL Flip 2 for the past coup...</td>\n",
       "      <td>1</td>\n",
       "      <td>531</td>\n",
       "    </tr>\n",
       "    <tr>\n",
       "      <th>4</th>\n",
       "      <td>1</td>\n",
       "      <td>June-3-2019</td>\n",
       "      <td>United States</td>\n",
       "      <td>Color: Gray</td>\n",
       "      <td>In depth review for jbl charge 4</td>\n",
       "      <td>The JBL charge 4 is a great product. I found i...</td>\n",
       "      <td>2</td>\n",
       "      <td>2636</td>\n",
       "    </tr>\n",
       "  </tbody>\n",
       "</table>\n",
       "</div>"
      ],
      "text/plain": [
       "   rating              date       location              color  \\\n",
       "0       0   January-29-2019  United States        Color: Gray   \n",
       "1       0   October-16-2018  United States  Verified Purchase   \n",
       "2       1  December-12-2018  United States       Color: Black   \n",
       "3       1   October-26-2018  United States       Color: Black   \n",
       "4       1       June-3-2019  United States        Color: Gray   \n",
       "\n",
       "                                        review_title  \\\n",
       "0                                     Buy a Charge 3   \n",
       "1                   Mono, directional, no user EQ :(   \n",
       "2  JBL could make the Charger4 better BUT nop the...   \n",
       "3              Sounds great and has plenty of colume   \n",
       "4                   In depth review for jbl charge 4   \n",
       "\n",
       "                                              review  comment  \\\n",
       "0  The JBL Charge 4 has one giant flaw that frank...       11   \n",
       "1  I held out buying one of these speakers becaus...        6   \n",
       "2  Too bad JBL lower the sound quality on the cha...        3   \n",
       "3  I've been using a JBL Flip 2 for the past coup...        1   \n",
       "4  The JBL charge 4 is a great product. I found i...        2   \n",
       "\n",
       "   length_of_review  \n",
       "0               345  \n",
       "1               682  \n",
       "2               238  \n",
       "3               531  \n",
       "4              2636  "
      ]
     },
     "execution_count": 123,
     "metadata": {},
     "output_type": "execute_result"
    }
   ],
   "source": [
    "#Adding a new column and entering the length of the reviews:\n",
    "df['length_of_review'] = df['review'].apply(len)\n",
    "df.head()"
   ]
  },
  {
   "cell_type": "code",
   "execution_count": 124,
   "metadata": {},
   "outputs": [
    {
     "data": {
      "image/png": "[encoded data removed]",
      "text/plain": [
       "<Figure size 432x288 with 1 Axes>"
      ]
     },
     "metadata": {
      "needs_background": "light"
     },
     "output_type": "display_data"
    }
   ],
   "source": [
    "#Plotting the histogram of the length of reviews\n",
    "df['length_of_review'].plot(bins=50, kind='hist', color='navy');"
   ]
  },
  {
   "cell_type": "markdown",
   "metadata": {},
   "source": [
    "The Distribution Plot above, illustrates a distribution of Length of the Reviews written by buyers for BD Coffee Maker. Most of the Reviews are between 0 to 500 words."
   ]
  },
  {
   "cell_type": "code",
   "execution_count": 125,
   "metadata": {},
   "outputs": [
    {
     "data": {
      "text/html": [
       "<div>\n",
       "<style scoped>\n",
       "    .dataframe tbody tr th:only-of-type {\n",
       "        vertical-align: middle;\n",
       "    }\n",
       "\n",
       "    .dataframe tbody tr th {\n",
       "        vertical-align: top;\n",
       "    }\n",
       "\n",
       "    .dataframe thead tr th {\n",
       "        text-align: left;\n",
       "    }\n",
       "\n",
       "    .dataframe thead tr:last-of-type th {\n",
       "        text-align: right;\n",
       "    }\n",
       "</style>\n",
       "<table border=\"1\" class=\"dataframe\">\n",
       "  <thead>\n",
       "    <tr>\n",
       "      <th></th>\n",
       "      <th colspan=\"8\" halign=\"left\">rating</th>\n",
       "      <th colspan=\"8\" halign=\"left\">comment</th>\n",
       "    </tr>\n",
       "    <tr>\n",
       "      <th></th>\n",
       "      <th>count</th>\n",
       "      <th>mean</th>\n",
       "      <th>std</th>\n",
       "      <th>min</th>\n",
       "      <th>25%</th>\n",
       "      <th>50%</th>\n",
       "      <th>75%</th>\n",
       "      <th>max</th>\n",
       "      <th>count</th>\n",
       "      <th>mean</th>\n",
       "      <th>std</th>\n",
       "      <th>min</th>\n",
       "      <th>25%</th>\n",
       "      <th>50%</th>\n",
       "      <th>75%</th>\n",
       "      <th>max</th>\n",
       "    </tr>\n",
       "    <tr>\n",
       "      <th>length_of_review</th>\n",
       "      <th></th>\n",
       "      <th></th>\n",
       "      <th></th>\n",
       "      <th></th>\n",
       "      <th></th>\n",
       "      <th></th>\n",
       "      <th></th>\n",
       "      <th></th>\n",
       "      <th></th>\n",
       "      <th></th>\n",
       "      <th></th>\n",
       "      <th></th>\n",
       "      <th></th>\n",
       "      <th></th>\n",
       "      <th></th>\n",
       "      <th></th>\n",
       "    </tr>\n",
       "  </thead>\n",
       "  <tbody>\n",
       "    <tr>\n",
       "      <th>25</th>\n",
       "      <td>12.0</td>\n",
       "      <td>1.000000</td>\n",
       "      <td>0.000000</td>\n",
       "      <td>1.0</td>\n",
       "      <td>1.0</td>\n",
       "      <td>1.0</td>\n",
       "      <td>1.0</td>\n",
       "      <td>1.0</td>\n",
       "      <td>12.0</td>\n",
       "      <td>0.0</td>\n",
       "      <td>0.0</td>\n",
       "      <td>0.0</td>\n",
       "      <td>0.0</td>\n",
       "      <td>0.0</td>\n",
       "      <td>0.0</td>\n",
       "      <td>0.0</td>\n",
       "    </tr>\n",
       "    <tr>\n",
       "      <th>1</th>\n",
       "      <td>7.0</td>\n",
       "      <td>1.000000</td>\n",
       "      <td>0.000000</td>\n",
       "      <td>1.0</td>\n",
       "      <td>1.0</td>\n",
       "      <td>1.0</td>\n",
       "      <td>1.0</td>\n",
       "      <td>1.0</td>\n",
       "      <td>7.0</td>\n",
       "      <td>0.0</td>\n",
       "      <td>0.0</td>\n",
       "      <td>0.0</td>\n",
       "      <td>0.0</td>\n",
       "      <td>0.0</td>\n",
       "      <td>0.0</td>\n",
       "      <td>0.0</td>\n",
       "    </tr>\n",
       "    <tr>\n",
       "      <th>550</th>\n",
       "      <td>1.0</td>\n",
       "      <td>1.000000</td>\n",
       "      <td>NaN</td>\n",
       "      <td>1.0</td>\n",
       "      <td>1.0</td>\n",
       "      <td>1.0</td>\n",
       "      <td>1.0</td>\n",
       "      <td>1.0</td>\n",
       "      <td>1.0</td>\n",
       "      <td>0.0</td>\n",
       "      <td>NaN</td>\n",
       "      <td>0.0</td>\n",
       "      <td>0.0</td>\n",
       "      <td>0.0</td>\n",
       "      <td>0.0</td>\n",
       "      <td>0.0</td>\n",
       "    </tr>\n",
       "    <tr>\n",
       "      <th>301</th>\n",
       "      <td>2.0</td>\n",
       "      <td>1.000000</td>\n",
       "      <td>0.000000</td>\n",
       "      <td>1.0</td>\n",
       "      <td>1.0</td>\n",
       "      <td>1.0</td>\n",
       "      <td>1.0</td>\n",
       "      <td>1.0</td>\n",
       "      <td>2.0</td>\n",
       "      <td>0.0</td>\n",
       "      <td>0.0</td>\n",
       "      <td>0.0</td>\n",
       "      <td>0.0</td>\n",
       "      <td>0.0</td>\n",
       "      <td>0.0</td>\n",
       "      <td>0.0</td>\n",
       "    </tr>\n",
       "    <tr>\n",
       "      <th>724</th>\n",
       "      <td>1.0</td>\n",
       "      <td>1.000000</td>\n",
       "      <td>NaN</td>\n",
       "      <td>1.0</td>\n",
       "      <td>1.0</td>\n",
       "      <td>1.0</td>\n",
       "      <td>1.0</td>\n",
       "      <td>1.0</td>\n",
       "      <td>1.0</td>\n",
       "      <td>0.0</td>\n",
       "      <td>NaN</td>\n",
       "      <td>0.0</td>\n",
       "      <td>0.0</td>\n",
       "      <td>0.0</td>\n",
       "      <td>0.0</td>\n",
       "      <td>0.0</td>\n",
       "    </tr>\n",
       "    <tr>\n",
       "      <th>108</th>\n",
       "      <td>3.0</td>\n",
       "      <td>1.000000</td>\n",
       "      <td>0.000000</td>\n",
       "      <td>1.0</td>\n",
       "      <td>1.0</td>\n",
       "      <td>1.0</td>\n",
       "      <td>1.0</td>\n",
       "      <td>1.0</td>\n",
       "      <td>3.0</td>\n",
       "      <td>0.0</td>\n",
       "      <td>0.0</td>\n",
       "      <td>0.0</td>\n",
       "      <td>0.0</td>\n",
       "      <td>0.0</td>\n",
       "      <td>0.0</td>\n",
       "      <td>0.0</td>\n",
       "    </tr>\n",
       "    <tr>\n",
       "      <th>82</th>\n",
       "      <td>7.0</td>\n",
       "      <td>0.857143</td>\n",
       "      <td>0.377964</td>\n",
       "      <td>0.0</td>\n",
       "      <td>1.0</td>\n",
       "      <td>1.0</td>\n",
       "      <td>1.0</td>\n",
       "      <td>1.0</td>\n",
       "      <td>7.0</td>\n",
       "      <td>0.0</td>\n",
       "      <td>0.0</td>\n",
       "      <td>0.0</td>\n",
       "      <td>0.0</td>\n",
       "      <td>0.0</td>\n",
       "      <td>0.0</td>\n",
       "      <td>0.0</td>\n",
       "    </tr>\n",
       "    <tr>\n",
       "      <th>649</th>\n",
       "      <td>1.0</td>\n",
       "      <td>1.000000</td>\n",
       "      <td>NaN</td>\n",
       "      <td>1.0</td>\n",
       "      <td>1.0</td>\n",
       "      <td>1.0</td>\n",
       "      <td>1.0</td>\n",
       "      <td>1.0</td>\n",
       "      <td>1.0</td>\n",
       "      <td>0.0</td>\n",
       "      <td>NaN</td>\n",
       "      <td>0.0</td>\n",
       "      <td>0.0</td>\n",
       "      <td>0.0</td>\n",
       "      <td>0.0</td>\n",
       "      <td>0.0</td>\n",
       "    </tr>\n",
       "    <tr>\n",
       "      <th>738</th>\n",
       "      <td>1.0</td>\n",
       "      <td>1.000000</td>\n",
       "      <td>NaN</td>\n",
       "      <td>1.0</td>\n",
       "      <td>1.0</td>\n",
       "      <td>1.0</td>\n",
       "      <td>1.0</td>\n",
       "      <td>1.0</td>\n",
       "      <td>1.0</td>\n",
       "      <td>0.0</td>\n",
       "      <td>NaN</td>\n",
       "      <td>0.0</td>\n",
       "      <td>0.0</td>\n",
       "      <td>0.0</td>\n",
       "      <td>0.0</td>\n",
       "      <td>0.0</td>\n",
       "    </tr>\n",
       "    <tr>\n",
       "      <th>61</th>\n",
       "      <td>7.0</td>\n",
       "      <td>1.000000</td>\n",
       "      <td>0.000000</td>\n",
       "      <td>1.0</td>\n",
       "      <td>1.0</td>\n",
       "      <td>1.0</td>\n",
       "      <td>1.0</td>\n",
       "      <td>1.0</td>\n",
       "      <td>7.0</td>\n",
       "      <td>0.0</td>\n",
       "      <td>0.0</td>\n",
       "      <td>0.0</td>\n",
       "      <td>0.0</td>\n",
       "      <td>0.0</td>\n",
       "      <td>0.0</td>\n",
       "      <td>0.0</td>\n",
       "    </tr>\n",
       "  </tbody>\n",
       "</table>\n",
       "</div>"
      ],
      "text/plain": [
       "                 rating                                              comment  \\\n",
       "                  count      mean       std  min  25%  50%  75%  max   count   \n",
       "length_of_review                                                               \n",
       "25                 12.0  1.000000  0.000000  1.0  1.0  1.0  1.0  1.0    12.0   \n",
       "1                   7.0  1.000000  0.000000  1.0  1.0  1.0  1.0  1.0     7.0   \n",
       "550                 1.0  1.000000       NaN  1.0  1.0  1.0  1.0  1.0     1.0   \n",
       "301                 2.0  1.000000  0.000000  1.0  1.0  1.0  1.0  1.0     2.0   \n",
       "724                 1.0  1.000000       NaN  1.0  1.0  1.0  1.0  1.0     1.0   \n",
       "108                 3.0  1.000000  0.000000  1.0  1.0  1.0  1.0  1.0     3.0   \n",
       "82                  7.0  0.857143  0.377964  0.0  1.0  1.0  1.0  1.0     7.0   \n",
       "649                 1.0  1.000000       NaN  1.0  1.0  1.0  1.0  1.0     1.0   \n",
       "738                 1.0  1.000000       NaN  1.0  1.0  1.0  1.0  1.0     1.0   \n",
       "61                  7.0  1.000000  0.000000  1.0  1.0  1.0  1.0  1.0     7.0   \n",
       "\n",
       "                                                     \n",
       "                 mean  std  min  25%  50%  75%  max  \n",
       "length_of_review                                     \n",
       "25                0.0  0.0  0.0  0.0  0.0  0.0  0.0  \n",
       "1                 0.0  0.0  0.0  0.0  0.0  0.0  0.0  \n",
       "550               0.0  NaN  0.0  0.0  0.0  0.0  0.0  \n",
       "301               0.0  0.0  0.0  0.0  0.0  0.0  0.0  \n",
       "724               0.0  NaN  0.0  0.0  0.0  0.0  0.0  \n",
       "108               0.0  0.0  0.0  0.0  0.0  0.0  0.0  \n",
       "82                0.0  0.0  0.0  0.0  0.0  0.0  0.0  \n",
       "649               0.0  NaN  0.0  0.0  0.0  0.0  0.0  \n",
       "738               0.0  NaN  0.0  0.0  0.0  0.0  0.0  \n",
       "61                0.0  0.0  0.0  0.0  0.0  0.0  0.0  "
      ]
     },
     "execution_count": 125,
     "metadata": {},
     "output_type": "execute_result"
    }
   ],
   "source": [
    "#Describing the data according to the length of reviews\n",
    "df.groupby('length_of_review').describe().sample(10)"
   ]
  },
  {
   "cell_type": "markdown",
   "metadata": {},
   "source": [
    "Here we will plot the histograms of the length of reviews for high ratings and low ratings to see if there is a difference:"
   ]
  },
  {
   "cell_type": "code",
   "execution_count": 126,
   "metadata": {},
   "outputs": [
    {
     "data": {
      "image/png": "[encoded data removed]",
      "text/plain": [
       "<Figure size 720x288 with 2 Axes>"
      ]
     },
     "metadata": {
      "needs_background": "light"
     },
     "output_type": "display_data"
    }
   ],
   "source": [
    "df.hist(column='length_of_review', by='rating', bins=50,figsize=(10,4), color='olive');"
   ]
  },
  {
   "cell_type": "markdown",
   "metadata": {},
   "source": [
    "Unsatisfied people have written longer sentences when reviewing the product.\n",
    "\n",
    "Here in a Pie Chart the percentage of satisfied versus unsatisfid people with the Coffee Maker will be depicted."
   ]
  },
  {
   "cell_type": "code",
   "execution_count": 127,
   "metadata": {},
   "outputs": [],
   "source": [
    "import plotly.graph_objs as go\n",
    "import plotly.offline as py"
   ]
  },
  {
   "cell_type": "code",
   "execution_count": 129,
   "metadata": {},
   "outputs": [
    {
     "data": {
      "application/vnd.plotly.v1+json": {
       "config": {
        "linkText": "Export to plot.ly",
        "plotlyServerURL": "https://plot.ly",
        "showLink": false
       },
       "data": [
        {
         "hole": 0,
         "hoverinfo": "label+percent+value",
         "labels": [
          1,
          0
         ],
         "marker": {
          "colors": [
           "gold",
           "mediumturquoise"
          ],
          "line": {
           "color": "#000000",
           "width": 2
          }
         },
         "name": "JLB Speaker",
         "textfont": {
          "size": 20
         },
         "textinfo": "value",
         "type": "pie",
         "values": [
          1519,
          137
         ]
        }
       ],
       "layout": {
        "template": {
         "data": {
          "bar": [
           {
            "error_x": {
             "color": "#2a3f5f"
            },
            "error_y": {
             "color": "#2a3f5f"
            },
            "marker": {
             "line": {
              "color": "#E5ECF6",
              "width": 0.5
             }
            },
            "type": "bar"
           }
          ],
          "barpolar": [
           {
            "marker": {
             "line": {
              "color": "#E5ECF6",
              "width": 0.5
             }
            },
            "type": "barpolar"
           }
          ],
          "carpet": [
           {
            "aaxis": {
             "endlinecolor": "#2a3f5f",
             "gridcolor": "white",
             "linecolor": "white",
             "minorgridcolor": "white",
             "startlinecolor": "#2a3f5f"
            },
            "baxis": {
             "endlinecolor": "#2a3f5f",
             "gridcolor": "white",
             "linecolor": "white",
             "minorgridcolor": "white",
             "startlinecolor": "#2a3f5f"
            },
            "type": "carpet"
           }
          ],
          "choropleth": [
           {
            "colorbar": {
             "outlinewidth": 0,
             "ticks": ""
            },
            "type": "choropleth"
           }
          ],
          "contour": [
           {
            "colorbar": {
             "outlinewidth": 0,
             "ticks": ""
            },
            "colorscale": [
             [
              0,
              "#0d0887"
             ],
             [
              0.1111111111111111,
              "#46039f"
             ],
             [
              0.2222222222222222,
              "#7201a8"
             ],
             [
              0.3333333333333333,
              "#9c179e"
             ],
             [
              0.4444444444444444,
              "#bd3786"
             ],
             [
              0.5555555555555556,
              "#d8576b"
             ],
             [
              0.6666666666666666,
              "#ed7953"
             ],
             [
              0.7777777777777778,
              "#fb9f3a"
             ],
             [
              0.8888888888888888,
              "#fdca26"
             ],
             [
              1,
              "#f0f921"
             ]
            ],
            "type": "contour"
           }
          ],
          "contourcarpet": [
           {
            "colorbar": {
             "outlinewidth": 0,
             "ticks": ""
            },
            "type": "contourcarpet"
           }
          ],
          "heatmap": [
           {
            "colorbar": {
             "outlinewidth": 0,
             "ticks": ""
            },
            "colorscale": [
             [
              0,
              "#0d0887"
             ],
             [
              0.1111111111111111,
              "#46039f"
             ],
             [
              0.2222222222222222,
              "#7201a8"
             ],
             [
              0.3333333333333333,
              "#9c179e"
             ],
             [
              0.4444444444444444,
              "#bd3786"
             ],
             [
              0.5555555555555556,
              "#d8576b"
             ],
             [
              0.6666666666666666,
              "#ed7953"
             ],
             [
              0.7777777777777778,
              "#fb9f3a"
             ],
             [
              0.8888888888888888,
              "#fdca26"
             ],
             [
              1,
              "#f0f921"
             ]
            ],
            "type": "heatmap"
           }
          ],
          "heatmapgl": [
           {
            "colorbar": {
             "outlinewidth": 0,
             "ticks": ""
            },
            "colorscale": [
             [
              0,
              "#0d0887"
             ],
             [
              0.1111111111111111,
              "#46039f"
             ],
             [
              0.2222222222222222,
              "#7201a8"
             ],
             [
              0.3333333333333333,
              "#9c179e"
             ],
             [
              0.4444444444444444,
              "#bd3786"
             ],
             [
              0.5555555555555556,
              "#d8576b"
             ],
             [
              0.6666666666666666,
              "#ed7953"
             ],
             [
              0.7777777777777778,
              "#fb9f3a"
             ],
             [
              0.8888888888888888,
              "#fdca26"
             ],
             [
              1,
              "#f0f921"
             ]
            ],
            "type": "heatmapgl"
           }
          ],
          "histogram": [
           {
            "marker": {
             "colorbar": {
              "outlinewidth": 0,
              "ticks": ""
             }
            },
            "type": "histogram"
           }
          ],
          "histogram2d": [
           {
            "colorbar": {
             "outlinewidth": 0,
             "ticks": ""
            },
            "colorscale": [
             [
              0,
              "#0d0887"
             ],
             [
              0.1111111111111111,
              "#46039f"
             ],
             [
              0.2222222222222222,
              "#7201a8"
             ],
             [
              0.3333333333333333,
              "#9c179e"
             ],
             [
              0.4444444444444444,
              "#bd3786"
             ],
             [
              0.5555555555555556,
              "#d8576b"
             ],
             [
              0.6666666666666666,
              "#ed7953"
             ],
             [
              0.7777777777777778,
              "#fb9f3a"
             ],
             [
              0.8888888888888888,
              "#fdca26"
             ],
             [
              1,
              "#f0f921"
             ]
            ],
            "type": "histogram2d"
           }
          ],
          "histogram2dcontour": [
           {
            "colorbar": {
             "outlinewidth": 0,
             "ticks": ""
            },
            "colorscale": [
             [
              0,
              "#0d0887"
             ],
             [
              0.1111111111111111,
              "#46039f"
             ],
             [
              0.2222222222222222,
              "#7201a8"
             ],
             [
              0.3333333333333333,
              "#9c179e"
             ],
             [
              0.4444444444444444,
              "#bd3786"
             ],
             [
              0.5555555555555556,
              "#d8576b"
             ],
             [
              0.6666666666666666,
              "#ed7953"
             ],
             [
              0.7777777777777778,
              "#fb9f3a"
             ],
             [
              0.8888888888888888,
              "#fdca26"
             ],
             [
              1,
              "#f0f921"
             ]
            ],
            "type": "histogram2dcontour"
           }
          ],
          "mesh3d": [
           {
            "colorbar": {
             "outlinewidth": 0,
             "ticks": ""
            },
            "type": "mesh3d"
           }
          ],
          "parcoords": [
           {
            "line": {
             "colorbar": {
              "outlinewidth": 0,
              "ticks": ""
             }
            },
            "type": "parcoords"
           }
          ],
          "pie": [
           {
            "automargin": true,
            "type": "pie"
           }
          ],
          "scatter": [
           {
            "marker": {
             "colorbar": {
              "outlinewidth": 0,
              "ticks": ""
             }
            },
            "type": "scatter"
           }
          ],
          "scatter3d": [
           {
            "line": {
             "colorbar": {
              "outlinewidth": 0,
              "ticks": ""
             }
            },
            "marker": {
             "colorbar": {
              "outlinewidth": 0,
              "ticks": ""
             }
            },
            "type": "scatter3d"
           }
          ],
          "scattercarpet": [
           {
            "marker": {
             "colorbar": {
              "outlinewidth": 0,
              "ticks": ""
             }
            },
            "type": "scattercarpet"
           }
          ],
          "scattergeo": [
           {
            "marker": {
             "colorbar": {
              "outlinewidth": 0,
              "ticks": ""
             }
            },
            "type": "scattergeo"
           }
          ],
          "scattergl": [
           {
            "marker": {
             "colorbar": {
              "outlinewidth": 0,
              "ticks": ""
             }
            },
            "type": "scattergl"
           }
          ],
          "scattermapbox": [
           {
            "marker": {
             "colorbar": {
              "outlinewidth": 0,
              "ticks": ""
             }
            },
            "type": "scattermapbox"
           }
          ],
          "scatterpolar": [
           {
            "marker": {
             "colorbar": {
              "outlinewidth": 0,
              "ticks": ""
             }
            },
            "type": "scatterpolar"
           }
          ],
          "scatterpolargl": [
           {
            "marker": {
             "colorbar": {
              "outlinewidth": 0,
              "ticks": ""
             }
            },
            "type": "scatterpolargl"
           }
          ],
          "scatterternary": [
           {
            "marker": {
             "colorbar": {
              "outlinewidth": 0,
              "ticks": ""
             }
            },
            "type": "scatterternary"
           }
          ],
          "surface": [
           {
            "colorbar": {
             "outlinewidth": 0,
             "ticks": ""
            },
            "colorscale": [
             [
              0,
              "#0d0887"
             ],
             [
              0.1111111111111111,
              "#46039f"
             ],
             [
              0.2222222222222222,
              "#7201a8"
             ],
             [
              0.3333333333333333,
              "#9c179e"
             ],
             [
              0.4444444444444444,
              "#bd3786"
             ],
             [
              0.5555555555555556,
              "#d8576b"
             ],
             [
              0.6666666666666666,
              "#ed7953"
             ],
             [
              0.7777777777777778,
              "#fb9f3a"
             ],
             [
              0.8888888888888888,
              "#fdca26"
             ],
             [
              1,
              "#f0f921"
             ]
            ],
            "type": "surface"
           }
          ],
          "table": [
           {
            "cells": {
             "fill": {
              "color": "#EBF0F8"
             },
             "line": {
              "color": "white"
             }
            },
            "header": {
             "fill": {
              "color": "#C8D4E3"
             },
             "line": {
              "color": "white"
             }
            },
            "type": "table"
           }
          ]
         },
         "layout": {
          "annotationdefaults": {
           "arrowcolor": "#2a3f5f",
           "arrowhead": 0,
           "arrowwidth": 1
          },
          "coloraxis": {
           "colorbar": {
            "outlinewidth": 0,
            "ticks": ""
           }
          },
          "colorscale": {
           "diverging": [
            [
             0,
             "#8e0152"
            ],
            [
             0.1,
             "#c51b7d"
            ],
            [
             0.2,
             "#de77ae"
            ],
            [
             0.3,
             "#f1b6da"
            ],
            [
             0.4,
             "#fde0ef"
            ],
            [
             0.5,
             "#f7f7f7"
            ],
            [
             0.6,
             "#e6f5d0"
            ],
            [
             0.7,
             "#b8e186"
            ],
            [
             0.8,
             "#7fbc41"
            ],
            [
             0.9,
             "#4d9221"
            ],
            [
             1,
             "#276419"
            ]
           ],
           "sequential": [
            [
             0,
             "#0d0887"
            ],
            [
             0.1111111111111111,
             "#46039f"
            ],
            [
             0.2222222222222222,
             "#7201a8"
            ],
            [
             0.3333333333333333,
             "#9c179e"
            ],
            [
             0.4444444444444444,
             "#bd3786"
            ],
            [
             0.5555555555555556,
             "#d8576b"
            ],
            [
             0.6666666666666666,
             "#ed7953"
            ],
            [
             0.7777777777777778,
             "#fb9f3a"
            ],
            [
             0.8888888888888888,
             "#fdca26"
            ],
            [
             1,
             "#f0f921"
            ]
           ],
           "sequentialminus": [
            [
             0,
             "#0d0887"
            ],
            [
             0.1111111111111111,
             "#46039f"
            ],
            [
             0.2222222222222222,
             "#7201a8"
            ],
            [
             0.3333333333333333,
             "#9c179e"
            ],
            [
             0.4444444444444444,
             "#bd3786"
            ],
            [
             0.5555555555555556,
             "#d8576b"
            ],
            [
             0.6666666666666666,
             "#ed7953"
            ],
            [
             0.7777777777777778,
             "#fb9f3a"
            ],
            [
             0.8888888888888888,
             "#fdca26"
            ],
            [
             1,
             "#f0f921"
            ]
           ]
          },
          "colorway": [
           "#636efa",
           "#EF553B",
           "#00cc96",
           "#ab63fa",
           "#FFA15A",
           "#19d3f3",
           "#FF6692",
           "#B6E880",
           "#FF97FF",
           "#FECB52"
          ],
          "font": {
           "color": "#2a3f5f"
          },
          "geo": {
           "bgcolor": "white",
           "lakecolor": "white",
           "landcolor": "#E5ECF6",
           "showlakes": true,
           "showland": true,
           "subunitcolor": "white"
          },
          "hoverlabel": {
           "align": "left"
          },
          "hovermode": "closest",
          "mapbox": {
           "style": "light"
          },
          "paper_bgcolor": "white",
          "plot_bgcolor": "#E5ECF6",
          "polar": {
           "angularaxis": {
            "gridcolor": "white",
            "linecolor": "white",
            "ticks": ""
           },
           "bgcolor": "#E5ECF6",
           "radialaxis": {
            "gridcolor": "white",
            "linecolor": "white",
            "ticks": ""
           }
          },
          "scene": {
           "xaxis": {
            "backgroundcolor": "#E5ECF6",
            "gridcolor": "white",
            "gridwidth": 2,
            "linecolor": "white",
            "showbackground": true,
            "ticks": "",
            "zerolinecolor": "white"
           },
           "yaxis": {
            "backgroundcolor": "#E5ECF6",
            "gridcolor": "white",
            "gridwidth": 2,
            "linecolor": "white",
            "showbackground": true,
            "ticks": "",
            "zerolinecolor": "white"
           },
           "zaxis": {
            "backgroundcolor": "#E5ECF6",
            "gridcolor": "white",
            "gridwidth": 2,
            "linecolor": "white",
            "showbackground": true,
            "ticks": "",
            "zerolinecolor": "white"
           }
          },
          "shapedefaults": {
           "line": {
            "color": "#2a3f5f"
           }
          },
          "ternary": {
           "aaxis": {
            "gridcolor": "white",
            "linecolor": "white",
            "ticks": ""
           },
           "baxis": {
            "gridcolor": "white",
            "linecolor": "white",
            "ticks": ""
           },
           "bgcolor": "#E5ECF6",
           "caxis": {
            "gridcolor": "white",
            "linecolor": "white",
            "ticks": ""
           }
          },
          "title": {
           "x": 0.05
          },
          "xaxis": {
           "automargin": true,
           "gridcolor": "white",
           "linecolor": "white",
           "ticks": "",
           "title": {
            "standoff": 15
           },
           "zerolinecolor": "white",
           "zerolinewidth": 2
          },
          "yaxis": {
           "automargin": true,
           "gridcolor": "white",
           "linecolor": "white",
           "ticks": "",
           "title": {
            "standoff": 15
           },
           "zerolinecolor": "white",
           "zerolinewidth": 2
          }
         }
        },
        "title": {
         "text": "Distribution of Ratings for JLB Speaker"
        }
       }
      },
      "text/html": [
       "<div>\n",
       "        \n",
       "        \n",
       "            <div id=\"68f5b3c4-b896-4279-9505-67af86f33ea3\" class=\"plotly-graph-div\" style=\"height:525px; width:100%;\"></div>\n",
       "            <script type=\"text/javascript\">\n",
       "                require([\"plotly\"], function(Plotly) {\n",
       "                    window.PLOTLYENV=window.PLOTLYENV || {};\n",
       "                    \n",
       "                if (document.getElementById(\"68f5b3c4-b896-4279-9505-67af86f33ea3\")) {\n",
       "                    Plotly.newPlot(\n",
       "                        '68f5b3c4-b896-4279-9505-67af86f33ea3',\n",
       "                        [{\"hole\": 0.0, \"hoverinfo\": \"label+percent+value\", \"labels\": [1, 0], \"marker\": {\"colors\": [\"gold\", \"mediumturquoise\"], \"line\": {\"color\": \"#000000\", \"width\": 2}}, \"name\": \"JLB Speaker\", \"textfont\": {\"size\": 20}, \"textinfo\": \"value\", \"type\": \"pie\", \"values\": [1519, 137]}],\n",
       "                        {\"template\": {\"data\": {\"bar\": [{\"error_x\": {\"color\": \"#2a3f5f\"}, \"error_y\": {\"color\": \"#2a3f5f\"}, \"marker\": {\"line\": {\"color\": \"#E5ECF6\", \"width\": 0.5}}, \"type\": \"bar\"}], \"barpolar\": [{\"marker\": {\"line\": {\"color\": \"#E5ECF6\", \"width\": 0.5}}, \"type\": \"barpolar\"}], \"carpet\": [{\"aaxis\": {\"endlinecolor\": \"#2a3f5f\", \"gridcolor\": \"white\", \"linecolor\": \"white\", \"minorgridcolor\": \"white\", \"startlinecolor\": \"#2a3f5f\"}, \"baxis\": {\"endlinecolor\": \"#2a3f5f\", \"gridcolor\": \"white\", \"linecolor\": \"white\", \"minorgridcolor\": \"white\", \"startlinecolor\": \"#2a3f5f\"}, \"type\": \"carpet\"}], \"choropleth\": [{\"colorbar\": {\"outlinewidth\": 0, \"ticks\": \"\"}, \"type\": \"choropleth\"}], \"contour\": [{\"colorbar\": {\"outlinewidth\": 0, \"ticks\": \"\"}, \"colorscale\": [[0.0, \"#0d0887\"], [0.1111111111111111, \"#46039f\"], [0.2222222222222222, \"#7201a8\"], [0.3333333333333333, \"#9c179e\"], [0.4444444444444444, \"#bd3786\"], [0.5555555555555556, \"#d8576b\"], [0.6666666666666666, \"#ed7953\"], [0.7777777777777778, \"#fb9f3a\"], [0.8888888888888888, \"#fdca26\"], [1.0, \"#f0f921\"]], \"type\": \"contour\"}], \"contourcarpet\": [{\"colorbar\": {\"outlinewidth\": 0, \"ticks\": \"\"}, \"type\": \"contourcarpet\"}], \"heatmap\": [{\"colorbar\": {\"outlinewidth\": 0, \"ticks\": \"\"}, \"colorscale\": [[0.0, \"#0d0887\"], [0.1111111111111111, \"#46039f\"], [0.2222222222222222, \"#7201a8\"], [0.3333333333333333, \"#9c179e\"], [0.4444444444444444, \"#bd3786\"], [0.5555555555555556, \"#d8576b\"], [0.6666666666666666, \"#ed7953\"], [0.7777777777777778, \"#fb9f3a\"], [0.8888888888888888, \"#fdca26\"], [1.0, \"#f0f921\"]], \"type\": \"heatmap\"}], \"heatmapgl\": [{\"colorbar\": {\"outlinewidth\": 0, \"ticks\": \"\"}, \"colorscale\": [[0.0, \"#0d0887\"], [0.1111111111111111, \"#46039f\"], [0.2222222222222222, \"#7201a8\"], [0.3333333333333333, \"#9c179e\"], [0.4444444444444444, \"#bd3786\"], [0.5555555555555556, \"#d8576b\"], [0.6666666666666666, \"#ed7953\"], [0.7777777777777778, \"#fb9f3a\"], [0.8888888888888888, \"#fdca26\"], [1.0, \"#f0f921\"]], \"type\": \"heatmapgl\"}], \"histogram\": [{\"marker\": {\"colorbar\": {\"outlinewidth\": 0, \"ticks\": \"\"}}, \"type\": \"histogram\"}], \"histogram2d\": [{\"colorbar\": {\"outlinewidth\": 0, \"ticks\": \"\"}, \"colorscale\": [[0.0, \"#0d0887\"], [0.1111111111111111, \"#46039f\"], [0.2222222222222222, \"#7201a8\"], [0.3333333333333333, \"#9c179e\"], [0.4444444444444444, \"#bd3786\"], [0.5555555555555556, \"#d8576b\"], [0.6666666666666666, \"#ed7953\"], [0.7777777777777778, \"#fb9f3a\"], [0.8888888888888888, \"#fdca26\"], [1.0, \"#f0f921\"]], \"type\": \"histogram2d\"}], \"histogram2dcontour\": [{\"colorbar\": {\"outlinewidth\": 0, \"ticks\": \"\"}, \"colorscale\": [[0.0, \"#0d0887\"], [0.1111111111111111, \"#46039f\"], [0.2222222222222222, \"#7201a8\"], [0.3333333333333333, \"#9c179e\"], [0.4444444444444444, \"#bd3786\"], [0.5555555555555556, \"#d8576b\"], [0.6666666666666666, \"#ed7953\"], [0.7777777777777778, \"#fb9f3a\"], [0.8888888888888888, \"#fdca26\"], [1.0, \"#f0f921\"]], \"type\": \"histogram2dcontour\"}], \"mesh3d\": [{\"colorbar\": {\"outlinewidth\": 0, \"ticks\": \"\"}, \"type\": \"mesh3d\"}], \"parcoords\": [{\"line\": {\"colorbar\": {\"outlinewidth\": 0, \"ticks\": \"\"}}, \"type\": \"parcoords\"}], \"pie\": [{\"automargin\": true, \"type\": \"pie\"}], \"scatter\": [{\"marker\": {\"colorbar\": {\"outlinewidth\": 0, \"ticks\": \"\"}}, \"type\": \"scatter\"}], \"scatter3d\": [{\"line\": {\"colorbar\": {\"outlinewidth\": 0, \"ticks\": \"\"}}, \"marker\": {\"colorbar\": {\"outlinewidth\": 0, \"ticks\": \"\"}}, \"type\": \"scatter3d\"}], \"scattercarpet\": [{\"marker\": {\"colorbar\": {\"outlinewidth\": 0, \"ticks\": \"\"}}, \"type\": \"scattercarpet\"}], \"scattergeo\": [{\"marker\": {\"colorbar\": {\"outlinewidth\": 0, \"ticks\": \"\"}}, \"type\": \"scattergeo\"}], \"scattergl\": [{\"marker\": {\"colorbar\": {\"outlinewidth\": 0, \"ticks\": \"\"}}, \"type\": \"scattergl\"}], \"scattermapbox\": [{\"marker\": {\"colorbar\": {\"outlinewidth\": 0, \"ticks\": \"\"}}, \"type\": \"scattermapbox\"}], \"scatterpolar\": [{\"marker\": {\"colorbar\": {\"outlinewidth\": 0, \"ticks\": \"\"}}, \"type\": \"scatterpolar\"}], \"scatterpolargl\": [{\"marker\": {\"colorbar\": {\"outlinewidth\": 0, \"ticks\": \"\"}}, \"type\": \"scatterpolargl\"}], \"scatterternary\": [{\"marker\": {\"colorbar\": {\"outlinewidth\": 0, \"ticks\": \"\"}}, \"type\": \"scatterternary\"}], \"surface\": [{\"colorbar\": {\"outlinewidth\": 0, \"ticks\": \"\"}, \"colorscale\": [[0.0, \"#0d0887\"], [0.1111111111111111, \"#46039f\"], [0.2222222222222222, \"#7201a8\"], [0.3333333333333333, \"#9c179e\"], [0.4444444444444444, \"#bd3786\"], [0.5555555555555556, \"#d8576b\"], [0.6666666666666666, \"#ed7953\"], [0.7777777777777778, \"#fb9f3a\"], [0.8888888888888888, \"#fdca26\"], [1.0, \"#f0f921\"]], \"type\": \"surface\"}], \"table\": [{\"cells\": {\"fill\": {\"color\": \"#EBF0F8\"}, \"line\": {\"color\": \"white\"}}, \"header\": {\"fill\": {\"color\": \"#C8D4E3\"}, \"line\": {\"color\": \"white\"}}, \"type\": \"table\"}]}, \"layout\": {\"annotationdefaults\": {\"arrowcolor\": \"#2a3f5f\", \"arrowhead\": 0, \"arrowwidth\": 1}, \"coloraxis\": {\"colorbar\": {\"outlinewidth\": 0, \"ticks\": \"\"}}, \"colorscale\": {\"diverging\": [[0, \"#8e0152\"], [0.1, \"#c51b7d\"], [0.2, \"#de77ae\"], [0.3, \"#f1b6da\"], [0.4, \"#fde0ef\"], [0.5, \"#f7f7f7\"], [0.6, \"#e6f5d0\"], [0.7, \"#b8e186\"], [0.8, \"#7fbc41\"], [0.9, \"#4d9221\"], [1, \"#276419\"]], \"sequential\": [[0.0, \"#0d0887\"], [0.1111111111111111, \"#46039f\"], [0.2222222222222222, \"#7201a8\"], [0.3333333333333333, \"#9c179e\"], [0.4444444444444444, \"#bd3786\"], [0.5555555555555556, \"#d8576b\"], [0.6666666666666666, \"#ed7953\"], [0.7777777777777778, \"#fb9f3a\"], [0.8888888888888888, \"#fdca26\"], [1.0, \"#f0f921\"]], \"sequentialminus\": [[0.0, \"#0d0887\"], [0.1111111111111111, \"#46039f\"], [0.2222222222222222, \"#7201a8\"], [0.3333333333333333, \"#9c179e\"], [0.4444444444444444, \"#bd3786\"], [0.5555555555555556, \"#d8576b\"], [0.6666666666666666, \"#ed7953\"], [0.7777777777777778, \"#fb9f3a\"], [0.8888888888888888, \"#fdca26\"], [1.0, \"#f0f921\"]]}, \"colorway\": [\"#636efa\", \"#EF553B\", \"#00cc96\", \"#ab63fa\", \"#FFA15A\", \"#19d3f3\", \"#FF6692\", \"#B6E880\", \"#FF97FF\", \"#FECB52\"], \"font\": {\"color\": \"#2a3f5f\"}, \"geo\": {\"bgcolor\": \"white\", \"lakecolor\": \"white\", \"landcolor\": \"#E5ECF6\", \"showlakes\": true, \"showland\": true, \"subunitcolor\": \"white\"}, \"hoverlabel\": {\"align\": \"left\"}, \"hovermode\": \"closest\", \"mapbox\": {\"style\": \"light\"}, \"paper_bgcolor\": \"white\", \"plot_bgcolor\": \"#E5ECF6\", \"polar\": {\"angularaxis\": {\"gridcolor\": \"white\", \"linecolor\": \"white\", \"ticks\": \"\"}, \"bgcolor\": \"#E5ECF6\", \"radialaxis\": {\"gridcolor\": \"white\", \"linecolor\": \"white\", \"ticks\": \"\"}}, \"scene\": {\"xaxis\": {\"backgroundcolor\": \"#E5ECF6\", \"gridcolor\": \"white\", \"gridwidth\": 2, \"linecolor\": \"white\", \"showbackground\": true, \"ticks\": \"\", \"zerolinecolor\": \"white\"}, \"yaxis\": {\"backgroundcolor\": \"#E5ECF6\", \"gridcolor\": \"white\", \"gridwidth\": 2, \"linecolor\": \"white\", \"showbackground\": true, \"ticks\": \"\", \"zerolinecolor\": \"white\"}, \"zaxis\": {\"backgroundcolor\": \"#E5ECF6\", \"gridcolor\": \"white\", \"gridwidth\": 2, \"linecolor\": \"white\", \"showbackground\": true, \"ticks\": \"\", \"zerolinecolor\": \"white\"}}, \"shapedefaults\": {\"line\": {\"color\": \"#2a3f5f\"}}, \"ternary\": {\"aaxis\": {\"gridcolor\": \"white\", \"linecolor\": \"white\", \"ticks\": \"\"}, \"baxis\": {\"gridcolor\": \"white\", \"linecolor\": \"white\", \"ticks\": \"\"}, \"bgcolor\": \"#E5ECF6\", \"caxis\": {\"gridcolor\": \"white\", \"linecolor\": \"white\", \"ticks\": \"\"}}, \"title\": {\"x\": 0.05}, \"xaxis\": {\"automargin\": true, \"gridcolor\": \"white\", \"linecolor\": \"white\", \"ticks\": \"\", \"title\": {\"standoff\": 15}, \"zerolinecolor\": \"white\", \"zerolinewidth\": 2}, \"yaxis\": {\"automargin\": true, \"gridcolor\": \"white\", \"linecolor\": \"white\", \"ticks\": \"\", \"title\": {\"standoff\": 15}, \"zerolinecolor\": \"white\", \"zerolinewidth\": 2}}}, \"title\": {\"text\": \"Distribution of Ratings for JLB Speaker\"}},\n",
       "                        {\"responsive\": true}\n",
       "                    ).then(function(){\n",
       "                            \n",
       "var gd = document.getElementById('68f5b3c4-b896-4279-9505-67af86f33ea3');\n",
       "var x = new MutationObserver(function (mutations, observer) {{\n",
       "        var display = window.getComputedStyle(gd).display;\n",
       "        if (!display || display === 'none') {{\n",
       "            console.log([gd, 'removed!']);\n",
       "            Plotly.purge(gd);\n",
       "            observer.disconnect();\n",
       "        }}\n",
       "}});\n",
       "\n",
       "// Listen for the removal of the full notebook cells\n",
       "var notebookContainer = gd.closest('#notebook-container');\n",
       "if (notebookContainer) {{\n",
       "    x.observe(notebookContainer, {childList: true});\n",
       "}}\n",
       "\n",
       "// Listen for the clearing of the current output cell\n",
       "var outputEl = gd.closest('.output');\n",
       "if (outputEl) {{\n",
       "    x.observe(outputEl, {childList: true});\n",
       "}}\n",
       "\n",
       "                        })\n",
       "                };\n",
       "                });\n",
       "            </script>\n",
       "        </div>"
      ]
     },
     "metadata": {},
     "output_type": "display_data"
    }
   ],
   "source": [
    "ratings = df['rating'].value_counts()\n",
    "colors = ['gold', 'mediumturquoise']\n",
    "\n",
    "label_rating = ratings.index\n",
    "size_rating = ratings.values\n",
    "\n",
    "rating_piechart = go.Pie(labels = label_rating,\n",
    "                         values = size_rating,\n",
    "                         name = 'JLB Speaker', hole = 0.0)\n",
    "\n",
    "pdf = [rating_piechart]\n",
    "\n",
    "layout = go.Layout(title = 'Distribution of Ratings for JLB Speaker')\n",
    "\n",
    "fig = go.Figure(data = pdf, layout = layout)\n",
    "fig.update_traces(hoverinfo='label+percent+value', textinfo='value', textfont_size=20,\n",
    "                  marker=dict(colors=colors, line=dict(color='#000000', width=2)))\n",
    "\n",
    "py.iplot(fig)"
   ]
  },
  {
   "cell_type": "markdown",
   "metadata": {},
   "source": [
    "Adding another column to the dataframe named feedback and specifying in it which review has received a comment (1) and which has not(0)."
   ]
  },
  {
   "cell_type": "code",
   "execution_count": 130,
   "metadata": {},
   "outputs": [],
   "source": [
    "df['feedback'] = np.where(df['comment'] > 0, 1, 0)"
   ]
  },
  {
   "cell_type": "code",
   "execution_count": 131,
   "metadata": {},
   "outputs": [
    {
     "data": {
      "text/html": [
       "<div>\n",
       "<style scoped>\n",
       "    .dataframe tbody tr th:only-of-type {\n",
       "        vertical-align: middle;\n",
       "    }\n",
       "\n",
       "    .dataframe tbody tr th {\n",
       "        vertical-align: top;\n",
       "    }\n",
       "\n",
       "    .dataframe thead th {\n",
       "        text-align: right;\n",
       "    }\n",
       "</style>\n",
       "<table border=\"1\" class=\"dataframe\">\n",
       "  <thead>\n",
       "    <tr style=\"text-align: right;\">\n",
       "      <th></th>\n",
       "      <th>rating</th>\n",
       "      <th>date</th>\n",
       "      <th>location</th>\n",
       "      <th>color</th>\n",
       "      <th>review_title</th>\n",
       "      <th>review</th>\n",
       "      <th>comment</th>\n",
       "      <th>length_of_review</th>\n",
       "      <th>feedback</th>\n",
       "    </tr>\n",
       "  </thead>\n",
       "  <tbody>\n",
       "    <tr>\n",
       "      <th>1435</th>\n",
       "      <td>1</td>\n",
       "      <td>February-22-2020</td>\n",
       "      <td>United States</td>\n",
       "      <td>Color: Black</td>\n",
       "      <td>Good speaker</td>\n",
       "      <td>Good speaker</td>\n",
       "      <td>0</td>\n",
       "      <td>12</td>\n",
       "      <td>0</td>\n",
       "    </tr>\n",
       "    <tr>\n",
       "      <th>1385</th>\n",
       "      <td>1</td>\n",
       "      <td>March-21-2020</td>\n",
       "      <td>United States</td>\n",
       "      <td>Color: Green</td>\n",
       "      <td>It’s nice</td>\n",
       "      <td>Love it</td>\n",
       "      <td>0</td>\n",
       "      <td>7</td>\n",
       "      <td>0</td>\n",
       "    </tr>\n",
       "    <tr>\n",
       "      <th>1151</th>\n",
       "      <td>1</td>\n",
       "      <td>March-4-2019</td>\n",
       "      <td>United States</td>\n",
       "      <td>Color: Red</td>\n",
       "      <td>Súper ...!!!</td>\n",
       "      <td>Tremendo sonido, buen vendedor</td>\n",
       "      <td>0</td>\n",
       "      <td>30</td>\n",
       "      <td>0</td>\n",
       "    </tr>\n",
       "    <tr>\n",
       "      <th>887</th>\n",
       "      <td>1</td>\n",
       "      <td>July-13-2019</td>\n",
       "      <td>United States</td>\n",
       "      <td>Color: Black</td>\n",
       "      <td>Great speaker</td>\n",
       "      <td>Excellent sound</td>\n",
       "      <td>0</td>\n",
       "      <td>15</td>\n",
       "      <td>0</td>\n",
       "    </tr>\n",
       "    <tr>\n",
       "      <th>916</th>\n",
       "      <td>1</td>\n",
       "      <td>January-8-2020</td>\n",
       "      <td>United States</td>\n",
       "      <td>Color: Blue</td>\n",
       "      <td>Awesome!</td>\n",
       "      <td>I love my speaker.</td>\n",
       "      <td>0</td>\n",
       "      <td>18</td>\n",
       "      <td>0</td>\n",
       "    </tr>\n",
       "    <tr>\n",
       "      <th>754</th>\n",
       "      <td>0</td>\n",
       "      <td>July-10-2019</td>\n",
       "      <td>United States</td>\n",
       "      <td>Color: Gray</td>\n",
       "      <td>Broken after 2 charges. That’s a waste.</td>\n",
       "      <td>After 3 weeks (and only 2 full charges), I can...</td>\n",
       "      <td>0</td>\n",
       "      <td>196</td>\n",
       "      <td>0</td>\n",
       "    </tr>\n",
       "    <tr>\n",
       "      <th>1105</th>\n",
       "      <td>0</td>\n",
       "      <td>September-16-2019</td>\n",
       "      <td>United States</td>\n",
       "      <td>Color: Black</td>\n",
       "      <td>speaker</td>\n",
       "      <td>Sound quality not as good as what I was expect...</td>\n",
       "      <td>0</td>\n",
       "      <td>92</td>\n",
       "      <td>0</td>\n",
       "    </tr>\n",
       "    <tr>\n",
       "      <th>1364</th>\n",
       "      <td>1</td>\n",
       "      <td>December-31-2019</td>\n",
       "      <td>United States</td>\n",
       "      <td>Color: Blue</td>\n",
       "      <td>.</td>\n",
       "      <td>Excatly what i intended..</td>\n",
       "      <td>0</td>\n",
       "      <td>25</td>\n",
       "      <td>0</td>\n",
       "    </tr>\n",
       "    <tr>\n",
       "      <th>551</th>\n",
       "      <td>1</td>\n",
       "      <td>December-13-2019</td>\n",
       "      <td>United States</td>\n",
       "      <td>Color: Black</td>\n",
       "      <td>👍🏻</td>\n",
       "      <td>Great product</td>\n",
       "      <td>0</td>\n",
       "      <td>13</td>\n",
       "      <td>0</td>\n",
       "    </tr>\n",
       "    <tr>\n",
       "      <th>772</th>\n",
       "      <td>1</td>\n",
       "      <td>February-20-2020</td>\n",
       "      <td>United States</td>\n",
       "      <td>Color: Camouflage</td>\n",
       "      <td>Get the flip instead</td>\n",
       "      <td>The smaller flip 4 is not only louder but soun...</td>\n",
       "      <td>0</td>\n",
       "      <td>117</td>\n",
       "      <td>0</td>\n",
       "    </tr>\n",
       "  </tbody>\n",
       "</table>\n",
       "</div>"
      ],
      "text/plain": [
       "      rating               date       location              color  \\\n",
       "1435       1   February-22-2020  United States       Color: Black   \n",
       "1385       1      March-21-2020  United States       Color: Green   \n",
       "1151       1       March-4-2019  United States         Color: Red   \n",
       "887        1       July-13-2019  United States       Color: Black   \n",
       "916        1     January-8-2020  United States        Color: Blue   \n",
       "754        0       July-10-2019  United States        Color: Gray   \n",
       "1105       0  September-16-2019  United States       Color: Black   \n",
       "1364       1   December-31-2019  United States        Color: Blue   \n",
       "551        1   December-13-2019  United States       Color: Black   \n",
       "772        1   February-20-2020  United States  Color: Camouflage   \n",
       "\n",
       "                                 review_title  \\\n",
       "1435                             Good speaker   \n",
       "1385                                It’s nice   \n",
       "1151                             Súper ...!!!   \n",
       "887                             Great speaker   \n",
       "916                                  Awesome!   \n",
       "754   Broken after 2 charges. That’s a waste.   \n",
       "1105                                  speaker   \n",
       "1364                                        .   \n",
       "551                                        👍🏻   \n",
       "772                      Get the flip instead   \n",
       "\n",
       "                                                 review  comment  \\\n",
       "1435                                       Good speaker        0   \n",
       "1385                                            Love it        0   \n",
       "1151                     Tremendo sonido, buen vendedor        0   \n",
       "887                                     Excellent sound        0   \n",
       "916                                  I love my speaker.        0   \n",
       "754   After 3 weeks (and only 2 full charges), I can...        0   \n",
       "1105  Sound quality not as good as what I was expect...        0   \n",
       "1364                          Excatly what i intended..        0   \n",
       "551                                       Great product        0   \n",
       "772   The smaller flip 4 is not only louder but soun...        0   \n",
       "\n",
       "      length_of_review  feedback  \n",
       "1435                12         0  \n",
       "1385                 7         0  \n",
       "1151                30         0  \n",
       "887                 15         0  \n",
       "916                 18         0  \n",
       "754                196         0  \n",
       "1105                92         0  \n",
       "1364                25         0  \n",
       "551                 13         0  \n",
       "772                117         0  "
      ]
     },
     "execution_count": 131,
     "metadata": {},
     "output_type": "execute_result"
    }
   ],
   "source": [
    "df.sample(10)"
   ]
  },
  {
   "cell_type": "code",
   "execution_count": 132,
   "metadata": {},
   "outputs": [
    {
     "data": {
      "image/png": "[encoded data removed]",
      "text/plain": [
       "<Figure size 432x288 with 1 Axes>"
      ]
     },
     "metadata": {
      "needs_background": "light"
     },
     "output_type": "display_data"
    }
   ],
   "source": [
    "sns.violinplot(df['feedback'], df['rating'])\n",
    "plt.title(\"feedback wise Mean Ratings\")\n",
    "plt.show()"
   ]
  },
  {
   "cell_type": "markdown",
   "metadata": {},
   "source": [
    "Here the most frequenctly repeated words in reviews will be retreived."
   ]
  },
  {
   "cell_type": "code",
   "execution_count": 71,
   "metadata": {},
   "outputs": [
    {
     "data": {
      "image/png": "[encoded data removed]",
      "text/plain": [
       "<Figure size 1080x432 with 1 Axes>"
      ]
     },
     "metadata": {
      "needs_background": "light"
     },
     "output_type": "display_data"
    }
   ],
   "source": [
    "from sklearn.feature_extraction.text import CountVectorizer\n",
    "\n",
    "\n",
    "cv = CountVectorizer(stop_words = 'english')\n",
    "words = cv.fit_transform(df.review) #learn a vocabulary\n",
    "sum_words = words.sum(axis=0)\n",
    "\n",
    "\n",
    "words_freq = [(word, sum_words[0, idx]) for word, idx in cv.vocabulary_.items()]\n",
    "words_freq = sorted(words_freq, key = lambda x: x[1], reverse = True)\n",
    "frequency = pd.DataFrame(words_freq, columns=['word', 'freq'])\n",
    "\n",
    "frequency.head(30).plot(x='word', y='freq', kind='bar', color='lightblue', figsize=(15, 6))\n",
    "plt.title(\"Most Frequently Occuring Words - Top 30\")\n",
    "plt.show()"
   ]
  },
  {
   "cell_type": "markdown",
   "metadata": {},
   "source": [
    "The bar graph above indicates the most frequently used words in the reviews. This will give us some idea about people's thoughts on the Coffee maker."
   ]
  },
  {
   "cell_type": "code",
   "execution_count": 72,
   "metadata": {},
   "outputs": [
    {
     "name": "stderr",
     "output_type": "stream",
     "text": [
      "[nltk_data] Downloading package stopwords to\n",
      "[nltk_data]     C:\\Users\\Kaveh\\AppData\\Roaming\\nltk_data...\n",
      "[nltk_data]   Package stopwords is already up-to-date!\n"
     ]
    },
    {
     "name": "stdout",
     "output_type": "stream",
     "text": [
      "Requirement already satisfied: en_core_web_md==2.2.5 from https://github.com/explosion/spacy-models/releases/download/en_core_web_md-2.2.5/en_core_web_md-2.2.5.tar.gz#egg=en_core_web_md==2.2.5 in c:\\users\\kaveh\\anaconda3\\lib\\site-packages (2.2.5)\n",
      "Requirement already satisfied: spacy>=2.2.2 in c:\\users\\kaveh\\anaconda3\\lib\\site-packages (from en_core_web_md==2.2.5) (2.2.4)\n",
      "Requirement already satisfied: preshed<3.1.0,>=3.0.2 in c:\\users\\kaveh\\anaconda3\\lib\\site-packages (from spacy>=2.2.2->en_core_web_md==2.2.5) (3.0.2)\n",
      "Requirement already satisfied: wasabi<1.1.0,>=0.4.0 in c:\\users\\kaveh\\anaconda3\\lib\\site-packages (from spacy>=2.2.2->en_core_web_md==2.2.5) (0.6.0)\n",
      "Requirement already satisfied: catalogue<1.1.0,>=0.0.7 in c:\\users\\kaveh\\anaconda3\\lib\\site-packages (from spacy>=2.2.2->en_core_web_md==2.2.5) (1.0.0)\n",
      "Requirement already satisfied: setuptools in c:\\users\\kaveh\\anaconda3\\lib\\site-packages (from spacy>=2.2.2->en_core_web_md==2.2.5) (41.0.1)\n",
      "Requirement already satisfied: numpy>=1.15.0 in c:\\users\\kaveh\\anaconda3\\lib\\site-packages (from spacy>=2.2.2->en_core_web_md==2.2.5) (1.16.4)\n",
      "Requirement already satisfied: murmurhash<1.1.0,>=0.28.0 in c:\\users\\kaveh\\anaconda3\\lib\\site-packages (from spacy>=2.2.2->en_core_web_md==2.2.5) (1.0.2)\n",
      "Requirement already satisfied: cymem<2.1.0,>=2.0.2 in c:\\users\\kaveh\\anaconda3\\lib\\site-packages (from spacy>=2.2.2->en_core_web_md==2.2.5) (2.0.3)\n",
      "Requirement already satisfied: blis<0.5.0,>=0.4.0 in c:\\users\\kaveh\\anaconda3\\lib\\site-packages (from spacy>=2.2.2->en_core_web_md==2.2.5) (0.4.1)\n",
      "Requirement already satisfied: srsly<1.1.0,>=1.0.2 in c:\\users\\kaveh\\anaconda3\\lib\\site-packages (from spacy>=2.2.2->en_core_web_md==2.2.5) (1.0.2)\n",
      "Requirement already satisfied: tqdm<5.0.0,>=4.38.0 in c:\\users\\kaveh\\anaconda3\\lib\\site-packages (from spacy>=2.2.2->en_core_web_md==2.2.5) (4.45.0)\n",
      "Requirement already satisfied: plac<1.2.0,>=0.9.6 in c:\\users\\kaveh\\anaconda3\\lib\\site-packages (from spacy>=2.2.2->en_core_web_md==2.2.5) (1.1.3)\n",
      "Requirement already satisfied: thinc==7.4.0 in c:\\users\\kaveh\\anaconda3\\lib\\site-packages (from spacy>=2.2.2->en_core_web_md==2.2.5) (7.4.0)\n",
      "Requirement already satisfied: requests<3.0.0,>=2.13.0 in c:\\users\\kaveh\\anaconda3\\lib\\site-packages (from spacy>=2.2.2->en_core_web_md==2.2.5) (2.22.0)\n",
      "Requirement already satisfied: importlib-metadata>=0.20; python_version < \"3.8\" in c:\\users\\kaveh\\anaconda3\\lib\\site-packages (from catalogue<1.1.0,>=0.0.7->spacy>=2.2.2->en_core_web_md==2.2.5) (1.6.0)\n",
      "Requirement already satisfied: certifi>=2017.4.17 in c:\\users\\kaveh\\anaconda3\\lib\\site-packages (from requests<3.0.0,>=2.13.0->spacy>=2.2.2->en_core_web_md==2.2.5) (2019.11.28)\n",
      "Requirement already satisfied: idna<2.9,>=2.5 in c:\\users\\kaveh\\anaconda3\\lib\\site-packages (from requests<3.0.0,>=2.13.0->spacy>=2.2.2->en_core_web_md==2.2.5) (2.8)\n",
      "Requirement already satisfied: chardet<3.1.0,>=3.0.2 in c:\\users\\kaveh\\anaconda3\\lib\\site-packages (from requests<3.0.0,>=2.13.0->spacy>=2.2.2->en_core_web_md==2.2.5) (3.0.4)\n",
      "Requirement already satisfied: urllib3!=1.25.0,!=1.25.1,<1.26,>=1.21.1 in c:\\users\\kaveh\\anaconda3\\lib\\site-packages (from requests<3.0.0,>=2.13.0->spacy>=2.2.2->en_core_web_md==2.2.5) (1.24.2)\n",
      "Requirement already satisfied: zipp>=0.5 in c:\\users\\kaveh\\anaconda3\\lib\\site-packages (from importlib-metadata>=0.20; python_version < \"3.8\"->catalogue<1.1.0,>=0.0.7->spacy>=2.2.2->en_core_web_md==2.2.5) (0.5.1)\n",
      "[+] Download and installation successful\n",
      "You can now load the model via spacy.load('en_core_web_md')\n"
     ]
    }
   ],
   "source": [
    "import spacy\n",
    "import string\n",
    "import re\n",
    "import nltk\n",
    "nltk.download('stopwords')\n",
    "from nltk.corpus import stopwords\n",
    "\n",
    "!python -m spacy download en_core_web_md\n",
    "\n",
    "stopwords = stopwords.words('english')\n",
    "punctuations = string.punctuation\n",
    "nlp = spacy.load('en_core_web_sm')"
   ]
  },
  {
   "cell_type": "code",
   "execution_count": 73,
   "metadata": {},
   "outputs": [
    {
     "name": "stderr",
     "output_type": "stream",
     "text": [
      "[nltk_data] Downloading package stopwords to\n",
      "[nltk_data]     C:\\Users\\Kaveh\\AppData\\Roaming\\nltk_data...\n",
      "[nltk_data]   Package stopwords is already up-to-date!\n"
     ]
    },
    {
     "name": "stdout",
     "output_type": "stream",
     "text": [
      "Requirement already satisfied: en_core_web_md==2.2.5 from https://github.com/explosion/spacy-models/releases/download/en_core_web_md-2.2.5/en_core_web_md-2.2.5.tar.gz#egg=en_core_web_md==2.2.5 in c:\\users\\kaveh\\anaconda3\\lib\\site-packages (2.2.5)\n",
      "Requirement already satisfied: spacy>=2.2.2 in c:\\users\\kaveh\\anaconda3\\lib\\site-packages (from en_core_web_md==2.2.5) (2.2.4)\n",
      "Requirement already satisfied: requests<3.0.0,>=2.13.0 in c:\\users\\kaveh\\anaconda3\\lib\\site-packages (from spacy>=2.2.2->en_core_web_md==2.2.5) (2.22.0)\n",
      "Requirement already satisfied: tqdm<5.0.0,>=4.38.0 in c:\\users\\kaveh\\anaconda3\\lib\\site-packages (from spacy>=2.2.2->en_core_web_md==2.2.5) (4.45.0)\n",
      "Requirement already satisfied: cymem<2.1.0,>=2.0.2 in c:\\users\\kaveh\\anaconda3\\lib\\site-packages (from spacy>=2.2.2->en_core_web_md==2.2.5) (2.0.3)\n",
      "Requirement already satisfied: murmurhash<1.1.0,>=0.28.0 in c:\\users\\kaveh\\anaconda3\\lib\\site-packages (from spacy>=2.2.2->en_core_web_md==2.2.5) (1.0.2)\n",
      "Requirement already satisfied: blis<0.5.0,>=0.4.0 in c:\\users\\kaveh\\anaconda3\\lib\\site-packages (from spacy>=2.2.2->en_core_web_md==2.2.5) (0.4.1)\n",
      "Requirement already satisfied: thinc==7.4.0 in c:\\users\\kaveh\\anaconda3\\lib\\site-packages (from spacy>=2.2.2->en_core_web_md==2.2.5) (7.4.0)\n",
      "Requirement already satisfied: preshed<3.1.0,>=3.0.2 in c:\\users\\kaveh\\anaconda3\\lib\\site-packages (from spacy>=2.2.2->en_core_web_md==2.2.5) (3.0.2)\n",
      "Requirement already satisfied: wasabi<1.1.0,>=0.4.0 in c:\\users\\kaveh\\anaconda3\\lib\\site-packages (from spacy>=2.2.2->en_core_web_md==2.2.5) (0.6.0)\n",
      "Requirement already satisfied: plac<1.2.0,>=0.9.6 in c:\\users\\kaveh\\anaconda3\\lib\\site-packages (from spacy>=2.2.2->en_core_web_md==2.2.5) (1.1.3)\n",
      "Requirement already satisfied: numpy>=1.15.0 in c:\\users\\kaveh\\anaconda3\\lib\\site-packages (from spacy>=2.2.2->en_core_web_md==2.2.5) (1.16.4)\n",
      "Requirement already satisfied: setuptools in c:\\users\\kaveh\\anaconda3\\lib\\site-packages (from spacy>=2.2.2->en_core_web_md==2.2.5) (41.0.1)\n",
      "Requirement already satisfied: srsly<1.1.0,>=1.0.2 in c:\\users\\kaveh\\anaconda3\\lib\\site-packages (from spacy>=2.2.2->en_core_web_md==2.2.5) (1.0.2)\n",
      "Requirement already satisfied: catalogue<1.1.0,>=0.0.7 in c:\\users\\kaveh\\anaconda3\\lib\\site-packages (from spacy>=2.2.2->en_core_web_md==2.2.5) (1.0.0)\n",
      "Requirement already satisfied: certifi>=2017.4.17 in c:\\users\\kaveh\\anaconda3\\lib\\site-packages (from requests<3.0.0,>=2.13.0->spacy>=2.2.2->en_core_web_md==2.2.5) (2019.11.28)\n",
      "Requirement already satisfied: idna<2.9,>=2.5 in c:\\users\\kaveh\\anaconda3\\lib\\site-packages (from requests<3.0.0,>=2.13.0->spacy>=2.2.2->en_core_web_md==2.2.5) (2.8)\n",
      "Requirement already satisfied: urllib3!=1.25.0,!=1.25.1,<1.26,>=1.21.1 in c:\\users\\kaveh\\anaconda3\\lib\\site-packages (from requests<3.0.0,>=2.13.0->spacy>=2.2.2->en_core_web_md==2.2.5) (1.24.2)\n",
      "Requirement already satisfied: chardet<3.1.0,>=3.0.2 in c:\\users\\kaveh\\anaconda3\\lib\\site-packages (from requests<3.0.0,>=2.13.0->spacy>=2.2.2->en_core_web_md==2.2.5) (3.0.4)\n",
      "Requirement already satisfied: importlib-metadata>=0.20; python_version < \"3.8\" in c:\\users\\kaveh\\anaconda3\\lib\\site-packages (from catalogue<1.1.0,>=0.0.7->spacy>=2.2.2->en_core_web_md==2.2.5) (1.6.0)\n",
      "Requirement already satisfied: zipp>=0.5 in c:\\users\\kaveh\\anaconda3\\lib\\site-packages (from importlib-metadata>=0.20; python_version < \"3.8\"->catalogue<1.1.0,>=0.0.7->spacy>=2.2.2->en_core_web_md==2.2.5) (0.5.1)\n",
      "[+] Download and installation successful\n",
      "You can now load the model via spacy.load('en_core_web_md')\n"
     ]
    }
   ],
   "source": [
    "import spacy\n",
    "import string\n",
    "import re\n",
    "import nltk\n",
    "nltk.download('stopwords')\n",
    "from nltk.corpus import stopwords\n",
    "\n",
    "!python -m spacy download en_core_web_md\n",
    "\n",
    "\n",
    "stopwords = stopwords.words('english')\n",
    "punctuations = string.punctuation\n",
    "nlp = spacy.load('en_core_web_sm')\n",
    "def cleanup_text(docs, logging=False):\n",
    "    texts = []\n",
    "    counter = 1\n",
    "    table = str.maketrans({key: None for key in string.punctuation})\n",
    "\n",
    "    for doc in docs:\n",
    "        if counter % 1000 == 0 and logging:\n",
    "            print(\"Processed %d out of %d documents.\" % (counter, len(docs)))\n",
    "        counter += 1\n",
    "        doc = nlp(doc, disable=['parser', 'ner'])\n",
    "        ###Convert text to lowercase, strip whitespace and remove personal pronouns\n",
    "        tokens = [tok.lemma_.lower().strip() for tok in doc if tok.lemma_ != '-PRON-']\n",
    "        ###Remove stopwords\n",
    "        tokens = [tok.translate(table) for tok in tokens if tok not in stopwords ]\n",
    "        tokens = ' '.join(tokens)\n",
    "        #Remove extra whitespace\n",
    "        tokens = ' '.join(tokens.split())\n",
    "        texts.append(tokens)\n",
    "    return pd.Series(texts)"
   ]
  }
 ],
 "metadata": {
  "kernelspec": {
   "display_name": "Python 3",
   "language": "python",
   "name": "python3"
  },
  "language_info": {
   "codemirror_mode": {
    "name": "ipython",
    "version": 3
   },
   "file_extension": ".py",
   "mimetype": "text/x-python",
   "name": "python",
   "nbconvert_exporter": "python",
   "pygments_lexer": "ipython3",
   "version": "3.7.3"
  }
 },
 "nbformat": 4,
 "nbformat_minor": 2
}
