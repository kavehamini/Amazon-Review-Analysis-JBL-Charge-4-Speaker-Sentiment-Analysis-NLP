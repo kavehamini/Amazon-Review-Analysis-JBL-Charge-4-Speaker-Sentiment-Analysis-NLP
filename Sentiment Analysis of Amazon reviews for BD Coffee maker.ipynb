{
 "cells": [
  {
   "cell_type": "markdown",
   "metadata": {},
   "source": [
    "## Sentiment Analysis of Amazon reviews for BD Coffee make"
   ]
  },
  {
   "cell_type": "markdown",
   "metadata": {},
   "source": [
    "In this notebook, the reviews from Amazon on Black and Decker Coffee Maker analyzed. "
   ]
  },
  {
   "cell_type": "code",
   "execution_count": 4,
   "metadata": {},
   "outputs": [],
   "source": [
    "import numpy as np\n",
    "import pandas as pd\n",
    "import matplotlib.pyplot as plt\n",
    "%matplotlib inline\n",
    "import seaborn as sns\n",
    "import sqlite3\n",
    "import warnings\n",
    "warnings.filterwarnings(\"ignore\")"
   ]
  },
  {
   "cell_type": "markdown",
   "metadata": {},
   "source": [
    "#### Data Preparation and Visualization:"
   ]
  },
  {
   "cell_type": "code",
   "execution_count": 13,
   "metadata": {},
   "outputs": [],
   "source": [
    "#reading the sqlite file and making a df from the data\n",
    "con = sqlite3.connect(\"Amazon.sqlite\")\n",
    "df = pd.read_sql_query(\"SELECT * from BDCoffeeMaker\", con)"
   ]
  },
  {
   "cell_type": "code",
   "execution_count": 14,
   "metadata": {},
   "outputs": [
    {
     "data": {
      "text/html": [
       "<div>\n",
       "<style scoped>\n",
       "    .dataframe tbody tr th:only-of-type {\n",
       "        vertical-align: middle;\n",
       "    }\n",
       "\n",
       "    .dataframe tbody tr th {\n",
       "        vertical-align: top;\n",
       "    }\n",
       "\n",
       "    .dataframe thead th {\n",
       "        text-align: right;\n",
       "    }\n",
       "</style>\n",
       "<table border=\"1\" class=\"dataframe\">\n",
       "  <thead>\n",
       "    <tr style=\"text-align: right;\">\n",
       "      <th></th>\n",
       "      <th>rating</th>\n",
       "      <th>date</th>\n",
       "      <th>location</th>\n",
       "      <th>color</th>\n",
       "      <th>review_title</th>\n",
       "      <th>review</th>\n",
       "      <th>comment</th>\n",
       "    </tr>\n",
       "  </thead>\n",
       "  <tbody>\n",
       "    <tr>\n",
       "      <th>0</th>\n",
       "      <td>1.0</td>\n",
       "      <td>June-19-2017</td>\n",
       "      <td>United States</td>\n",
       "      <td>Color: Black/Stainless Steel</td>\n",
       "      <td>Stopped working within 2 months.</td>\n",
       "      <td>My last coffee maker was the cheapest one I sa...</td>\n",
       "      <td>4</td>\n",
       "    </tr>\n",
       "    <tr>\n",
       "      <th>1</th>\n",
       "      <td>1.0</td>\n",
       "      <td>January-20-2018</td>\n",
       "      <td>United States</td>\n",
       "      <td>Color: Black/Stainless Steel</td>\n",
       "      <td>Eating coffee grounds ...</td>\n",
       "      <td>Update. It's been 9 months and I will be throw...</td>\n",
       "      <td>3</td>\n",
       "    </tr>\n",
       "    <tr>\n",
       "      <th>2</th>\n",
       "      <td>5.0</td>\n",
       "      <td>November-22-2019</td>\n",
       "      <td>United States</td>\n",
       "      <td>Color: Black/Stainless Steel</td>\n",
       "      <td>Morning partner!</td>\n",
       "      <td>Went from my expensive keurigg to this cheap a...</td>\n",
       "      <td>0</td>\n",
       "    </tr>\n",
       "    <tr>\n",
       "      <th>3</th>\n",
       "      <td>1.0</td>\n",
       "      <td>April-28-2019</td>\n",
       "      <td>United States</td>\n",
       "      <td>Color: Black/Stainless Steel</td>\n",
       "      <td>Update: Now not working at all</td>\n",
       "      <td>Update: This is the worst coffee pot I've ever...</td>\n",
       "      <td>2</td>\n",
       "    </tr>\n",
       "    <tr>\n",
       "      <th>4</th>\n",
       "      <td>1.0</td>\n",
       "      <td>August-9-2019</td>\n",
       "      <td>United States</td>\n",
       "      <td>Color: Black/Stainless Steel</td>\n",
       "      <td>3rd day and it's already broken</td>\n",
       "      <td>Very very VERY disappointed and frustrated.  T...</td>\n",
       "      <td>1</td>\n",
       "    </tr>\n",
       "  </tbody>\n",
       "</table>\n",
       "</div>"
      ],
      "text/plain": [
       "  rating              date       location                         color  \\\n",
       "0   1.0       June-19-2017  United States  Color: Black/Stainless Steel   \n",
       "1   1.0    January-20-2018  United States  Color: Black/Stainless Steel   \n",
       "2   5.0   November-22-2019  United States  Color: Black/Stainless Steel   \n",
       "3   1.0      April-28-2019  United States  Color: Black/Stainless Steel   \n",
       "4   1.0      August-9-2019  United States  Color: Black/Stainless Steel   \n",
       "\n",
       "                       review_title  \\\n",
       "0  Stopped working within 2 months.   \n",
       "1         Eating coffee grounds ...   \n",
       "2                  Morning partner!   \n",
       "3    Update: Now not working at all   \n",
       "4   3rd day and it's already broken   \n",
       "\n",
       "                                              review comment  \n",
       "0  My last coffee maker was the cheapest one I sa...       4  \n",
       "1  Update. It's been 9 months and I will be throw...       3  \n",
       "2  Went from my expensive keurigg to this cheap a...       0  \n",
       "3  Update: This is the worst coffee pot I've ever...       2  \n",
       "4  Very very VERY disappointed and frustrated.  T...       1  "
      ]
     },
     "execution_count": 14,
     "metadata": {},
     "output_type": "execute_result"
    }
   ],
   "source": [
    "#Showing the head of the dataset\n",
    "df.head()"
   ]
  },
  {
   "cell_type": "code",
   "execution_count": 15,
   "metadata": {},
   "outputs": [
    {
     "data": {
      "text/plain": [
       "(2263, 7)"
      ]
     },
     "execution_count": 15,
     "metadata": {},
     "output_type": "execute_result"
    }
   ],
   "source": [
    "df.shape"
   ]
  },
  {
   "cell_type": "markdown",
   "metadata": {},
   "source": [
    "Checking to see if there is any null data in our dataset:"
   ]
  },
  {
   "cell_type": "code",
   "execution_count": 16,
   "metadata": {},
   "outputs": [
    {
     "data": {
      "text/html": [
       "<div>\n",
       "<style scoped>\n",
       "    .dataframe tbody tr th:only-of-type {\n",
       "        vertical-align: middle;\n",
       "    }\n",
       "\n",
       "    .dataframe tbody tr th {\n",
       "        vertical-align: top;\n",
       "    }\n",
       "\n",
       "    .dataframe thead th {\n",
       "        text-align: right;\n",
       "    }\n",
       "</style>\n",
       "<table border=\"1\" class=\"dataframe\">\n",
       "  <thead>\n",
       "    <tr style=\"text-align: right;\">\n",
       "      <th></th>\n",
       "      <th>rating</th>\n",
       "      <th>date</th>\n",
       "      <th>location</th>\n",
       "      <th>color</th>\n",
       "      <th>review_title</th>\n",
       "      <th>review</th>\n",
       "      <th>comment</th>\n",
       "    </tr>\n",
       "  </thead>\n",
       "  <tbody>\n",
       "  </tbody>\n",
       "</table>\n",
       "</div>"
      ],
      "text/plain": [
       "Empty DataFrame\n",
       "Columns: [rating, date, location, color, review_title, review, comment]\n",
       "Index: []"
      ]
     },
     "execution_count": 16,
     "metadata": {},
     "output_type": "execute_result"
    }
   ],
   "source": [
    "df_nulls = df[df.isnull().apply(lambda x: max(x), axis=1)]\n",
    "df_nulls.head()"
   ]
  },
  {
   "cell_type": "markdown",
   "metadata": {},
   "source": [
    "Changing the rating values to a binary form. To do this, first we check the relationship between rating and comments:"
   ]
  },
  {
   "cell_type": "code",
   "execution_count": 17,
   "metadata": {},
   "outputs": [],
   "source": [
    "#converting the data to numerical\n",
    "df['rating'] = pd.to_numeric(df['rating'], errors='coerce')\n",
    "df = df.replace(np.nan, 0, regex=True)\n",
    "df['comment'] = pd.to_numeric(df['comment'], errors='coerce')\n",
    "df = df.replace(np.nan, 0, regex=True)"
   ]
  },
  {
   "cell_type": "code",
   "execution_count": 18,
   "metadata": {},
   "outputs": [
    {
     "data": {
      "image/png": "[encoded data removed]",
      "text/plain": [
       "<Figure size 432x288 with 1 Axes>"
      ]
     },
     "metadata": {
      "needs_background": "light"
     },
     "output_type": "display_data"
    }
   ],
   "source": [
    "sns.violinplot(df['comment'], df['rating'])\n",
    "plt.title(\"feedback wise Mean Ratings\")\n",
    "plt.show()"
   ]
  },
  {
   "cell_type": "markdown",
   "metadata": {},
   "source": [
    "We assign ratings above 3 as 1 and below 3 as 0."
   ]
  },
  {
   "cell_type": "code",
   "execution_count": 19,
   "metadata": {},
   "outputs": [],
   "source": [
    "df['rating'] = np.where(df['rating'] >= 3, 1, 0)"
   ]
  },
  {
   "cell_type": "code",
   "execution_count": 20,
   "metadata": {},
   "outputs": [
    {
     "data": {
      "text/html": [
       "<div>\n",
       "<style scoped>\n",
       "    .dataframe tbody tr th:only-of-type {\n",
       "        vertical-align: middle;\n",
       "    }\n",
       "\n",
       "    .dataframe tbody tr th {\n",
       "        vertical-align: top;\n",
       "    }\n",
       "\n",
       "    .dataframe thead th {\n",
       "        text-align: right;\n",
       "    }\n",
       "</style>\n",
       "<table border=\"1\" class=\"dataframe\">\n",
       "  <thead>\n",
       "    <tr style=\"text-align: right;\">\n",
       "      <th></th>\n",
       "      <th>rating</th>\n",
       "      <th>date</th>\n",
       "      <th>location</th>\n",
       "      <th>color</th>\n",
       "      <th>review_title</th>\n",
       "      <th>review</th>\n",
       "      <th>comment</th>\n",
       "    </tr>\n",
       "  </thead>\n",
       "  <tbody>\n",
       "    <tr>\n",
       "      <th>1073</th>\n",
       "      <td>1</td>\n",
       "      <td>October-25-2019</td>\n",
       "      <td>United States</td>\n",
       "      <td>Color: Black/Stainless Steel</td>\n",
       "      <td>I love it</td>\n",
       "      <td>We finally got a new coffe maker, its defenely...</td>\n",
       "      <td>0</td>\n",
       "    </tr>\n",
       "    <tr>\n",
       "      <th>2109</th>\n",
       "      <td>1</td>\n",
       "      <td>February-9-2018</td>\n",
       "      <td>United States</td>\n",
       "      <td>Color: Black/Stainless Steel</td>\n",
       "      <td>Makes good coffee.</td>\n",
       "      <td>Works well. Makes good coffee.</td>\n",
       "      <td>0</td>\n",
       "    </tr>\n",
       "    <tr>\n",
       "      <th>307</th>\n",
       "      <td>1</td>\n",
       "      <td>February-2-2020</td>\n",
       "      <td>United States</td>\n",
       "      <td>Color: Black/Stainless Steel</td>\n",
       "      <td>Works great for the price</td>\n",
       "      <td>This works great! I wish it would stay on for ...</td>\n",
       "      <td>0</td>\n",
       "    </tr>\n",
       "    <tr>\n",
       "      <th>1407</th>\n",
       "      <td>1</td>\n",
       "      <td>February-29-2020</td>\n",
       "      <td>United States</td>\n",
       "      <td>Color: Black/Stainless Steel</td>\n",
       "      <td>AMAZING PRODUCT.</td>\n",
       "      <td>GREAT PRICE.</td>\n",
       "      <td>0</td>\n",
       "    </tr>\n",
       "    <tr>\n",
       "      <th>629</th>\n",
       "      <td>0</td>\n",
       "      <td>April-6-2018</td>\n",
       "      <td>United States</td>\n",
       "      <td>Color: Black/Stainless Steel</td>\n",
       "      <td>Coffee maker that didnt tell time.</td>\n",
       "      <td>My daughter needed a new coffee maker, for som...</td>\n",
       "      <td>1</td>\n",
       "    </tr>\n",
       "    <tr>\n",
       "      <th>1653</th>\n",
       "      <td>1</td>\n",
       "      <td>January-27-2020</td>\n",
       "      <td>United States</td>\n",
       "      <td>Color: Black/Stainless Steel</td>\n",
       "      <td>Cheaply Made</td>\n",
       "      <td>I’ve been buying this same model coffee maker ...</td>\n",
       "      <td>1</td>\n",
       "    </tr>\n",
       "    <tr>\n",
       "      <th>627</th>\n",
       "      <td>1</td>\n",
       "      <td>January-8-2020</td>\n",
       "      <td>United States</td>\n",
       "      <td>Color: Black/Stainless Steel</td>\n",
       "      <td>Affordable</td>\n",
       "      <td>Good product with a good price. I might buy ag...</td>\n",
       "      <td>0</td>\n",
       "    </tr>\n",
       "    <tr>\n",
       "      <th>827</th>\n",
       "      <td>1</td>\n",
       "      <td>April-26-2019</td>\n",
       "      <td>United States</td>\n",
       "      <td>Color: Black/Stainless Steel</td>\n",
       "      <td>It is alright for the price</td>\n",
       "      <td>Coffee pot is alright for the price.  Don't li...</td>\n",
       "      <td>1</td>\n",
       "    </tr>\n",
       "    <tr>\n",
       "      <th>730</th>\n",
       "      <td>1</td>\n",
       "      <td>January-1-2020</td>\n",
       "      <td>United States</td>\n",
       "      <td>Color: Black/Stainless Steel</td>\n",
       "      <td>Love it</td>\n",
       "      <td>Just the right size and it works great</td>\n",
       "      <td>0</td>\n",
       "    </tr>\n",
       "    <tr>\n",
       "      <th>1035</th>\n",
       "      <td>1</td>\n",
       "      <td>January-30-2018</td>\n",
       "      <td>United States</td>\n",
       "      <td>Color: Black/Stainless Steel</td>\n",
       "      <td>Leaked water out of the bottom all over counte...</td>\n",
       "      <td>All was fine until a week ago and when I poure...</td>\n",
       "      <td>0</td>\n",
       "    </tr>\n",
       "  </tbody>\n",
       "</table>\n",
       "</div>"
      ],
      "text/plain": [
       "      rating              date       location                         color  \\\n",
       "1073       1   October-25-2019  United States  Color: Black/Stainless Steel   \n",
       "2109       1   February-9-2018  United States  Color: Black/Stainless Steel   \n",
       "307        1   February-2-2020  United States  Color: Black/Stainless Steel   \n",
       "1407       1  February-29-2020  United States  Color: Black/Stainless Steel   \n",
       "629        0      April-6-2018  United States  Color: Black/Stainless Steel   \n",
       "1653       1   January-27-2020  United States  Color: Black/Stainless Steel   \n",
       "627        1    January-8-2020  United States  Color: Black/Stainless Steel   \n",
       "827        1     April-26-2019  United States  Color: Black/Stainless Steel   \n",
       "730        1    January-1-2020  United States  Color: Black/Stainless Steel   \n",
       "1035       1   January-30-2018  United States  Color: Black/Stainless Steel   \n",
       "\n",
       "                                           review_title  \\\n",
       "1073                                          I love it   \n",
       "2109                                 Makes good coffee.   \n",
       "307                           Works great for the price   \n",
       "1407                                   AMAZING PRODUCT.   \n",
       "629                  Coffee maker that didnt tell time.   \n",
       "1653                                       Cheaply Made   \n",
       "627                                          Affordable   \n",
       "827                         It is alright for the price   \n",
       "730                                             Love it   \n",
       "1035  Leaked water out of the bottom all over counte...   \n",
       "\n",
       "                                                 review  comment  \n",
       "1073  We finally got a new coffe maker, its defenely...        0  \n",
       "2109                     Works well. Makes good coffee.        0  \n",
       "307   This works great! I wish it would stay on for ...        0  \n",
       "1407                                       GREAT PRICE.        0  \n",
       "629   My daughter needed a new coffee maker, for som...        1  \n",
       "1653  I’ve been buying this same model coffee maker ...        1  \n",
       "627   Good product with a good price. I might buy ag...        0  \n",
       "827   Coffee pot is alright for the price.  Don't li...        1  \n",
       "730              Just the right size and it works great        0  \n",
       "1035  All was fine until a week ago and when I poure...        0  "
      ]
     },
     "execution_count": 20,
     "metadata": {},
     "output_type": "execute_result"
    }
   ],
   "source": [
    "df.sample(10)"
   ]
  },
  {
   "cell_type": "markdown",
   "metadata": {},
   "source": [
    "Performing some statistical analysis on the data"
   ]
  },
  {
   "cell_type": "code",
   "execution_count": 21,
   "metadata": {},
   "outputs": [
    {
     "data": {
      "text/html": [
       "<div>\n",
       "<style scoped>\n",
       "    .dataframe tbody tr th:only-of-type {\n",
       "        vertical-align: middle;\n",
       "    }\n",
       "\n",
       "    .dataframe tbody tr th {\n",
       "        vertical-align: top;\n",
       "    }\n",
       "\n",
       "    .dataframe thead th {\n",
       "        text-align: right;\n",
       "    }\n",
       "</style>\n",
       "<table border=\"1\" class=\"dataframe\">\n",
       "  <thead>\n",
       "    <tr style=\"text-align: right;\">\n",
       "      <th></th>\n",
       "      <th>rating</th>\n",
       "      <th>comment</th>\n",
       "    </tr>\n",
       "  </thead>\n",
       "  <tbody>\n",
       "    <tr>\n",
       "      <th>count</th>\n",
       "      <td>2263.000000</td>\n",
       "      <td>2263.000000</td>\n",
       "    </tr>\n",
       "    <tr>\n",
       "      <th>mean</th>\n",
       "      <td>0.761821</td>\n",
       "      <td>0.228016</td>\n",
       "    </tr>\n",
       "    <tr>\n",
       "      <th>std</th>\n",
       "      <td>0.426064</td>\n",
       "      <td>0.448173</td>\n",
       "    </tr>\n",
       "    <tr>\n",
       "      <th>min</th>\n",
       "      <td>0.000000</td>\n",
       "      <td>0.000000</td>\n",
       "    </tr>\n",
       "    <tr>\n",
       "      <th>25%</th>\n",
       "      <td>1.000000</td>\n",
       "      <td>0.000000</td>\n",
       "    </tr>\n",
       "    <tr>\n",
       "      <th>50%</th>\n",
       "      <td>1.000000</td>\n",
       "      <td>0.000000</td>\n",
       "    </tr>\n",
       "    <tr>\n",
       "      <th>75%</th>\n",
       "      <td>1.000000</td>\n",
       "      <td>0.000000</td>\n",
       "    </tr>\n",
       "    <tr>\n",
       "      <th>max</th>\n",
       "      <td>1.000000</td>\n",
       "      <td>4.000000</td>\n",
       "    </tr>\n",
       "  </tbody>\n",
       "</table>\n",
       "</div>"
      ],
      "text/plain": [
       "            rating      comment\n",
       "count  2263.000000  2263.000000\n",
       "mean      0.761821     0.228016\n",
       "std       0.426064     0.448173\n",
       "min       0.000000     0.000000\n",
       "25%       1.000000     0.000000\n",
       "50%       1.000000     0.000000\n",
       "75%       1.000000     0.000000\n",
       "max       1.000000     4.000000"
      ]
     },
     "execution_count": 21,
     "metadata": {},
     "output_type": "execute_result"
    }
   ],
   "source": [
    "df.describe()"
   ]
  },
  {
   "cell_type": "code",
   "execution_count": 22,
   "metadata": {},
   "outputs": [
    {
     "data": {
      "text/html": [
       "<div>\n",
       "<style scoped>\n",
       "    .dataframe tbody tr th:only-of-type {\n",
       "        vertical-align: middle;\n",
       "    }\n",
       "\n",
       "    .dataframe tbody tr th {\n",
       "        vertical-align: top;\n",
       "    }\n",
       "\n",
       "    .dataframe thead tr th {\n",
       "        text-align: left;\n",
       "    }\n",
       "\n",
       "    .dataframe thead tr:last-of-type th {\n",
       "        text-align: right;\n",
       "    }\n",
       "</style>\n",
       "<table border=\"1\" class=\"dataframe\">\n",
       "  <thead>\n",
       "    <tr>\n",
       "      <th></th>\n",
       "      <th colspan=\"8\" halign=\"left\">comment</th>\n",
       "    </tr>\n",
       "    <tr>\n",
       "      <th></th>\n",
       "      <th>count</th>\n",
       "      <th>mean</th>\n",
       "      <th>std</th>\n",
       "      <th>min</th>\n",
       "      <th>25%</th>\n",
       "      <th>50%</th>\n",
       "      <th>75%</th>\n",
       "      <th>max</th>\n",
       "    </tr>\n",
       "    <tr>\n",
       "      <th>rating</th>\n",
       "      <th></th>\n",
       "      <th></th>\n",
       "      <th></th>\n",
       "      <th></th>\n",
       "      <th></th>\n",
       "      <th></th>\n",
       "      <th></th>\n",
       "      <th></th>\n",
       "    </tr>\n",
       "  </thead>\n",
       "  <tbody>\n",
       "    <tr>\n",
       "      <th>0</th>\n",
       "      <td>539.0</td>\n",
       "      <td>0.784787</td>\n",
       "      <td>0.515621</td>\n",
       "      <td>0.0</td>\n",
       "      <td>1.0</td>\n",
       "      <td>1.0</td>\n",
       "      <td>1.0</td>\n",
       "      <td>4.0</td>\n",
       "    </tr>\n",
       "    <tr>\n",
       "      <th>1</th>\n",
       "      <td>1724.0</td>\n",
       "      <td>0.053944</td>\n",
       "      <td>0.231053</td>\n",
       "      <td>0.0</td>\n",
       "      <td>0.0</td>\n",
       "      <td>0.0</td>\n",
       "      <td>0.0</td>\n",
       "      <td>2.0</td>\n",
       "    </tr>\n",
       "  </tbody>\n",
       "</table>\n",
       "</div>"
      ],
      "text/plain": [
       "       comment                                             \n",
       "         count      mean       std  min  25%  50%  75%  max\n",
       "rating                                                     \n",
       "0        539.0  0.784787  0.515621  0.0  1.0  1.0  1.0  4.0\n",
       "1       1724.0  0.053944  0.231053  0.0  0.0  0.0  0.0  2.0"
      ]
     },
     "execution_count": 22,
     "metadata": {},
     "output_type": "execute_result"
    }
   ],
   "source": [
    "df.groupby('rating').describe()"
   ]
  },
  {
   "cell_type": "markdown",
   "metadata": {},
   "source": [
    "According to the table above most of the users are satisfied with the BD cofee maker.\n",
    "\n",
    "Here we will add a new column to our dataframe and will check the length of the reviews:"
   ]
  },
  {
   "cell_type": "code",
   "execution_count": 23,
   "metadata": {},
   "outputs": [
    {
     "data": {
      "text/html": [
       "<div>\n",
       "<style scoped>\n",
       "    .dataframe tbody tr th:only-of-type {\n",
       "        vertical-align: middle;\n",
       "    }\n",
       "\n",
       "    .dataframe tbody tr th {\n",
       "        vertical-align: top;\n",
       "    }\n",
       "\n",
       "    .dataframe thead th {\n",
       "        text-align: right;\n",
       "    }\n",
       "</style>\n",
       "<table border=\"1\" class=\"dataframe\">\n",
       "  <thead>\n",
       "    <tr style=\"text-align: right;\">\n",
       "      <th></th>\n",
       "      <th>rating</th>\n",
       "      <th>date</th>\n",
       "      <th>location</th>\n",
       "      <th>color</th>\n",
       "      <th>review_title</th>\n",
       "      <th>review</th>\n",
       "      <th>comment</th>\n",
       "      <th>length_of_review</th>\n",
       "    </tr>\n",
       "  </thead>\n",
       "  <tbody>\n",
       "    <tr>\n",
       "      <th>0</th>\n",
       "      <td>0</td>\n",
       "      <td>June-19-2017</td>\n",
       "      <td>United States</td>\n",
       "      <td>Color: Black/Stainless Steel</td>\n",
       "      <td>Stopped working within 2 months.</td>\n",
       "      <td>My last coffee maker was the cheapest one I sa...</td>\n",
       "      <td>4</td>\n",
       "      <td>417</td>\n",
       "    </tr>\n",
       "    <tr>\n",
       "      <th>1</th>\n",
       "      <td>0</td>\n",
       "      <td>January-20-2018</td>\n",
       "      <td>United States</td>\n",
       "      <td>Color: Black/Stainless Steel</td>\n",
       "      <td>Eating coffee grounds ...</td>\n",
       "      <td>Update. It's been 9 months and I will be throw...</td>\n",
       "      <td>3</td>\n",
       "      <td>458</td>\n",
       "    </tr>\n",
       "    <tr>\n",
       "      <th>2</th>\n",
       "      <td>1</td>\n",
       "      <td>November-22-2019</td>\n",
       "      <td>United States</td>\n",
       "      <td>Color: Black/Stainless Steel</td>\n",
       "      <td>Morning partner!</td>\n",
       "      <td>Went from my expensive keurigg to this cheap a...</td>\n",
       "      <td>0</td>\n",
       "      <td>333</td>\n",
       "    </tr>\n",
       "    <tr>\n",
       "      <th>3</th>\n",
       "      <td>0</td>\n",
       "      <td>April-28-2019</td>\n",
       "      <td>United States</td>\n",
       "      <td>Color: Black/Stainless Steel</td>\n",
       "      <td>Update: Now not working at all</td>\n",
       "      <td>Update: This is the worst coffee pot I've ever...</td>\n",
       "      <td>2</td>\n",
       "      <td>1832</td>\n",
       "    </tr>\n",
       "    <tr>\n",
       "      <th>4</th>\n",
       "      <td>0</td>\n",
       "      <td>August-9-2019</td>\n",
       "      <td>United States</td>\n",
       "      <td>Color: Black/Stainless Steel</td>\n",
       "      <td>3rd day and it's already broken</td>\n",
       "      <td>Very very VERY disappointed and frustrated.  T...</td>\n",
       "      <td>1</td>\n",
       "      <td>900</td>\n",
       "    </tr>\n",
       "  </tbody>\n",
       "</table>\n",
       "</div>"
      ],
      "text/plain": [
       "   rating              date       location                         color  \\\n",
       "0       0      June-19-2017  United States  Color: Black/Stainless Steel   \n",
       "1       0   January-20-2018  United States  Color: Black/Stainless Steel   \n",
       "2       1  November-22-2019  United States  Color: Black/Stainless Steel   \n",
       "3       0     April-28-2019  United States  Color: Black/Stainless Steel   \n",
       "4       0     August-9-2019  United States  Color: Black/Stainless Steel   \n",
       "\n",
       "                       review_title  \\\n",
       "0  Stopped working within 2 months.   \n",
       "1         Eating coffee grounds ...   \n",
       "2                  Morning partner!   \n",
       "3    Update: Now not working at all   \n",
       "4   3rd day and it's already broken   \n",
       "\n",
       "                                              review  comment  \\\n",
       "0  My last coffee maker was the cheapest one I sa...        4   \n",
       "1  Update. It's been 9 months and I will be throw...        3   \n",
       "2  Went from my expensive keurigg to this cheap a...        0   \n",
       "3  Update: This is the worst coffee pot I've ever...        2   \n",
       "4  Very very VERY disappointed and frustrated.  T...        1   \n",
       "\n",
       "   length_of_review  \n",
       "0               417  \n",
       "1               458  \n",
       "2               333  \n",
       "3              1832  \n",
       "4               900  "
      ]
     },
     "execution_count": 23,
     "metadata": {},
     "output_type": "execute_result"
    }
   ],
   "source": [
    "#Adding a new column and entering the length of the reviews:\n",
    "df['length_of_review'] = df['review'].apply(len)\n",
    "df.head()"
   ]
  },
  {
   "cell_type": "code",
   "execution_count": 24,
   "metadata": {},
   "outputs": [
    {
     "data": {
      "image/png": "[encoded data removed]",
      "text/plain": [
       "<Figure size 432x288 with 1 Axes>"
      ]
     },
     "metadata": {
      "needs_background": "light"
     },
     "output_type": "display_data"
    }
   ],
   "source": [
    "#Plotting the histogram of the length of reviews\n",
    "df['length_of_review'].plot(bins=50, kind='hist');"
   ]
  },
  {
   "cell_type": "markdown",
   "metadata": {},
   "source": [
    "The above Distribution Plot, shows a distribution of Length of the Reviews written by the people.This is to show on an average what is the length of the reviews written by the people for amazon alexa. Most of the Reviews are so short that is only One or Two words longer. We can see that most people write reviwes that is 5-20 words longer."
   ]
  }
 ],
 "metadata": {
  "kernelspec": {
   "display_name": "Python 3",
   "language": "python",
   "name": "python3"
  },
  "language_info": {
   "codemirror_mode": {
    "name": "ipython",
    "version": 3
   },
   "file_extension": ".py",
   "mimetype": "text/x-python",
   "name": "python",
   "nbconvert_exporter": "python",
   "pygments_lexer": "ipython3",
   "version": "3.7.3"
  }
 },
 "nbformat": 4,
 "nbformat_minor": 2
}
