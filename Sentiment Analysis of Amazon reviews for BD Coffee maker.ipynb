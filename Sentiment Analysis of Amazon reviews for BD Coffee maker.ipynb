{
 "cells": [
  {
   "cell_type": "markdown",
   "metadata": {},
   "source": [
    "## Sentiment Analysis of Amazon reviews for BD Coffee make"
   ]
  },
  {
   "cell_type": "markdown",
   "metadata": {},
   "source": [
    "In this notebook, the reviews from Amazon on Black and Decker Coffee Maker analyzed. "
   ]
  },
  {
   "cell_type": "code",
   "execution_count": 1,
   "metadata": {},
   "outputs": [],
   "source": [
    "import numpy as np\n",
    "import pandas as pd\n",
    "import matplotlib.pyplot as plt\n",
    "%matplotlib inline\n",
    "import seaborn as sns\n",
    "import sqlite3\n",
    "import warnings\n",
    "warnings.filterwarnings(\"ignore\")"
   ]
  },
  {
   "cell_type": "markdown",
   "metadata": {},
   "source": [
    "#### Data Preparation and Visualization:"
   ]
  },
  {
   "cell_type": "code",
   "execution_count": 2,
   "metadata": {},
   "outputs": [],
   "source": [
    "#reading the sqlite file and making a df from the data\n",
    "con = sqlite3.connect(\"Amazon.sqlite\")\n",
    "df = pd.read_sql_query(\"SELECT * from BDCoffeeMaker\", con)"
   ]
  },
  {
   "cell_type": "code",
   "execution_count": 3,
   "metadata": {},
   "outputs": [
    {
     "data": {
      "text/html": [
       "<div>\n",
       "<style scoped>\n",
       "    .dataframe tbody tr th:only-of-type {\n",
       "        vertical-align: middle;\n",
       "    }\n",
       "\n",
       "    .dataframe tbody tr th {\n",
       "        vertical-align: top;\n",
       "    }\n",
       "\n",
       "    .dataframe thead th {\n",
       "        text-align: right;\n",
       "    }\n",
       "</style>\n",
       "<table border=\"1\" class=\"dataframe\">\n",
       "  <thead>\n",
       "    <tr style=\"text-align: right;\">\n",
       "      <th></th>\n",
       "      <th>rating</th>\n",
       "      <th>date</th>\n",
       "      <th>location</th>\n",
       "      <th>color</th>\n",
       "      <th>review_title</th>\n",
       "      <th>review</th>\n",
       "      <th>comment</th>\n",
       "    </tr>\n",
       "  </thead>\n",
       "  <tbody>\n",
       "    <tr>\n",
       "      <th>0</th>\n",
       "      <td>1.0 out of 5 stars</td>\n",
       "      <td>June-19-2017</td>\n",
       "      <td>United States</td>\n",
       "      <td>Color: Black/Stainless Steel</td>\n",
       "      <td>Stopped working within 2 months.</td>\n",
       "      <td>My last coffee maker was the cheapest one I sa...</td>\n",
       "      <td>4</td>\n",
       "    </tr>\n",
       "    <tr>\n",
       "      <th>1</th>\n",
       "      <td>1.0 out of 5 stars</td>\n",
       "      <td>January-20-2018</td>\n",
       "      <td>United States</td>\n",
       "      <td>Color: Black/Stainless Steel</td>\n",
       "      <td>Eating coffee grounds ...</td>\n",
       "      <td>Update. It's been 9 months and I will be throw...</td>\n",
       "      <td>3</td>\n",
       "    </tr>\n",
       "    <tr>\n",
       "      <th>2</th>\n",
       "      <td>5.0 out of 5 stars</td>\n",
       "      <td>November-22-2019</td>\n",
       "      <td>United States</td>\n",
       "      <td>Color: Black/Stainless Steel</td>\n",
       "      <td>Morning partner!</td>\n",
       "      <td>Went from my expensive keurigg to this cheap a...</td>\n",
       "      <td>0</td>\n",
       "    </tr>\n",
       "    <tr>\n",
       "      <th>3</th>\n",
       "      <td>1.0 out of 5 stars</td>\n",
       "      <td>April-28-2019</td>\n",
       "      <td>United States</td>\n",
       "      <td>Color: Black/Stainless Steel</td>\n",
       "      <td>Update: Now not working at all</td>\n",
       "      <td>Update: This is the worst coffee pot I've ever...</td>\n",
       "      <td>2</td>\n",
       "    </tr>\n",
       "    <tr>\n",
       "      <th>4</th>\n",
       "      <td>1.0 out of 5 stars</td>\n",
       "      <td>August-9-2019</td>\n",
       "      <td>United States</td>\n",
       "      <td>Color: Black/Stainless Steel</td>\n",
       "      <td>3rd day and it's already broken</td>\n",
       "      <td>Very very VERY disappointed and frustrated.  T...</td>\n",
       "      <td>1</td>\n",
       "    </tr>\n",
       "  </tbody>\n",
       "</table>\n",
       "</div>"
      ],
      "text/plain": [
       "               rating              date       location  \\\n",
       "0  1.0 out of 5 stars      June-19-2017  United States   \n",
       "1  1.0 out of 5 stars   January-20-2018  United States   \n",
       "2  5.0 out of 5 stars  November-22-2019  United States   \n",
       "3  1.0 out of 5 stars     April-28-2019  United States   \n",
       "4  1.0 out of 5 stars     August-9-2019  United States   \n",
       "\n",
       "                          color                      review_title  \\\n",
       "0  Color: Black/Stainless Steel  Stopped working within 2 months.   \n",
       "1  Color: Black/Stainless Steel         Eating coffee grounds ...   \n",
       "2  Color: Black/Stainless Steel                  Morning partner!   \n",
       "3  Color: Black/Stainless Steel    Update: Now not working at all   \n",
       "4  Color: Black/Stainless Steel   3rd day and it's already broken   \n",
       "\n",
       "                                              review comment  \n",
       "0  My last coffee maker was the cheapest one I sa...       4  \n",
       "1  Update. It's been 9 months and I will be throw...       3  \n",
       "2  Went from my expensive keurigg to this cheap a...       0  \n",
       "3  Update: This is the worst coffee pot I've ever...       2  \n",
       "4  Very very VERY disappointed and frustrated.  T...       1  "
      ]
     },
     "execution_count": 3,
     "metadata": {},
     "output_type": "execute_result"
    }
   ],
   "source": [
    "#Showing the head of the dataset\n",
    "df.head()"
   ]
  },
  {
   "cell_type": "code",
   "execution_count": null,
   "metadata": {},
   "outputs": [],
   "source": []
  }
 ],
 "metadata": {
  "kernelspec": {
   "display_name": "Python 3",
   "language": "python",
   "name": "python3"
  },
  "language_info": {
   "codemirror_mode": {
    "name": "ipython",
    "version": 3
   },
   "file_extension": ".py",
   "mimetype": "text/x-python",
   "name": "python",
   "nbconvert_exporter": "python",
   "pygments_lexer": "ipython3",
   "version": "3.7.3"
  }
 },
 "nbformat": 4,
 "nbformat_minor": 2
}
